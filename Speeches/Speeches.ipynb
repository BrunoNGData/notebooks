{
 "cells": [
  {
   "cell_type": "markdown",
   "metadata": {
    "deletable": true,
    "editable": true
   },
   "source": [
    "# Predictions on Presidential Speeches"
   ]
  },
  {
   "cell_type": "code",
   "execution_count": 1,
   "metadata": {
    "collapsed": false,
    "deletable": true,
    "editable": true
   },
   "outputs": [],
   "source": [
    "import sqlite3\n",
    "import pandas as pd\n",
    "import numpy as np\n",
    "import tensorflow as tf\n",
    "import math\n",
    "from datetime import datetime, timedelta\n",
    "import re\n",
    "import sys\n",
    "import matplotlib.pyplot as plt\n",
    "import warnings\n",
    "warnings.filterwarnings('ignore')"
   ]
  },
  {
   "cell_type": "markdown",
   "metadata": {
    "deletable": true,
    "editable": true
   },
   "source": [
    "---\n",
    "# Data Processing\n",
    "## Load Raw Data\n",
    "First, the data is loaded into a Pandas dataframe."
   ]
  },
  {
   "cell_type": "code",
   "execution_count": 2,
   "metadata": {
    "collapsed": false,
    "deletable": true,
    "editable": true
   },
   "outputs": [
    {
     "data": {
      "text/html": [
       "<div>\n",
       "<table border=\"1\" class=\"dataframe\">\n",
       "  <thead>\n",
       "    <tr style=\"text-align: right;\">\n",
       "      <th></th>\n",
       "      <th>id</th>\n",
       "      <th>president</th>\n",
       "      <th>date</th>\n",
       "      <th>speech</th>\n",
       "      <th>title</th>\n",
       "      <th>text</th>\n",
       "      <th>notes</th>\n",
       "      <th>url</th>\n",
       "    </tr>\n",
       "  </thead>\n",
       "  <tbody>\n",
       "    <tr>\n",
       "      <th>1282</th>\n",
       "      <td>3310</td>\n",
       "      <td>George W. Bush</td>\n",
       "      <td>April 10, 2004</td>\n",
       "      <td>Weekly Address</td>\n",
       "      <td>The President's Radio Address</td>\n",
       "      <td>Good morning. This week in Iraq, our coalition...</td>\n",
       "      <td>NOTE: The address was recorded at 8:50 a.m. on...</td>\n",
       "      <td>http://www.presidency.ucsb.edu/ws/index.php?pi...</td>\n",
       "    </tr>\n",
       "    <tr>\n",
       "      <th>1575</th>\n",
       "      <td>3603</td>\n",
       "      <td>William J. Clinton</td>\n",
       "      <td>April 10, 1999</td>\n",
       "      <td>Weekly Address</td>\n",
       "      <td>The President's Radio Address</td>\n",
       "      <td>Good morning. Today I want to talk to you abou...</td>\n",
       "      <td>NOTE: The address was recorded at 12:50 p.m. o...</td>\n",
       "      <td>http://www.presidency.ucsb.edu/ws/index.php?pi...</td>\n",
       "    </tr>\n",
       "    <tr>\n",
       "      <th>1219</th>\n",
       "      <td>3247</td>\n",
       "      <td>George W. Bush</td>\n",
       "      <td>April 1, 2006</td>\n",
       "      <td>Weekly Address</td>\n",
       "      <td>The President's Radio Address</td>\n",
       "      <td>Good morning. As tax day approaches later this...</td>\n",
       "      <td>NOTE: The address was recorded at 9:15 a.m. on...</td>\n",
       "      <td>http://www.presidency.ucsb.edu/ws/index.php?pi...</td>\n",
       "    </tr>\n",
       "    <tr>\n",
       "      <th>1526</th>\n",
       "      <td>3554</td>\n",
       "      <td>William J. Clinton</td>\n",
       "      <td>April 1, 2000</td>\n",
       "      <td>Weekly Address</td>\n",
       "      <td>The President's Radio Address</td>\n",
       "      <td>Good morning. Today I want to speak with you a...</td>\n",
       "      <td>NOTE: The address was recorded at 12:38 p.m. o...</td>\n",
       "      <td>http://www.presidency.ucsb.edu/ws/index.php?pi...</td>\n",
       "    </tr>\n",
       "    <tr>\n",
       "      <th>1784</th>\n",
       "      <td>3812</td>\n",
       "      <td>William J. Clinton</td>\n",
       "      <td>April 1, 1995</td>\n",
       "      <td>Weekly Address</td>\n",
       "      <td>The President's Radio Address</td>\n",
       "      <td>The President.  | Good morning. I'm speaking t...</td>\n",
       "      <td>NOTE: The President spoke at 9:06 a.m. from th...</td>\n",
       "      <td>http://www.presidency.ucsb.edu/ws/index.php?pi...</td>\n",
       "    </tr>\n",
       "  </tbody>\n",
       "</table>\n",
       "</div>"
      ],
      "text/plain": [
       "        id           president            date          speech  \\\n",
       "1282  3310      George W. Bush  April 10, 2004  Weekly Address   \n",
       "1575  3603  William J. Clinton  April 10, 1999  Weekly Address   \n",
       "1219  3247      George W. Bush   April 1, 2006  Weekly Address   \n",
       "1526  3554  William J. Clinton   April 1, 2000  Weekly Address   \n",
       "1784  3812  William J. Clinton   April 1, 1995  Weekly Address   \n",
       "\n",
       "                              title  \\\n",
       "1282  The President's Radio Address   \n",
       "1575  The President's Radio Address   \n",
       "1219  The President's Radio Address   \n",
       "1526  The President's Radio Address   \n",
       "1784  The President's Radio Address   \n",
       "\n",
       "                                                   text  \\\n",
       "1282  Good morning. This week in Iraq, our coalition...   \n",
       "1575  Good morning. Today I want to talk to you abou...   \n",
       "1219  Good morning. As tax day approaches later this...   \n",
       "1526  Good morning. Today I want to speak with you a...   \n",
       "1784  The President.  | Good morning. I'm speaking t...   \n",
       "\n",
       "                                                  notes  \\\n",
       "1282  NOTE: The address was recorded at 8:50 a.m. on...   \n",
       "1575  NOTE: The address was recorded at 12:50 p.m. o...   \n",
       "1219  NOTE: The address was recorded at 9:15 a.m. on...   \n",
       "1526  NOTE: The address was recorded at 12:38 p.m. o...   \n",
       "1784  NOTE: The President spoke at 9:06 a.m. from th...   \n",
       "\n",
       "                                                    url  \n",
       "1282  http://www.presidency.ucsb.edu/ws/index.php?pi...  \n",
       "1575  http://www.presidency.ucsb.edu/ws/index.php?pi...  \n",
       "1219  http://www.presidency.ucsb.edu/ws/index.php?pi...  \n",
       "1526  http://www.presidency.ucsb.edu/ws/index.php?pi...  \n",
       "1784  http://www.presidency.ucsb.edu/ws/index.php?pi...  "
      ]
     },
     "execution_count": 2,
     "metadata": {},
     "output_type": "execute_result"
    }
   ],
   "source": [
    "conn = sqlite3.connect('/Users/desiredewaele/Google Drive/Datasets/rawdata.sqlite')\n",
    "rawData = pd.read_sql(\"select * from Speeches\", conn)\n",
    "rawData = rawData[rawData.president.str.contains(\n",
    "    'Barack Obama|William J. Clinton|George W. Bush', regex=True)].sort_values('date', ascending=False)\n",
    "#rawData = rawData[rawData.speech.str.contains('Weekly Address')]\n",
    "rawData.tail()"
   ]
  },
  {
   "cell_type": "markdown",
   "metadata": {
    "deletable": true,
    "editable": true
   },
   "source": [
    "## Tidy Data\n",
    "The data is raw and we would like to tidy it up. The first function changes the dates into a sortable format. The second one strips the speech from capital letters, non-letter symbols and redundant whitespace."
   ]
  },
  {
   "cell_type": "code",
   "execution_count": 3,
   "metadata": {
    "collapsed": true,
    "deletable": true,
    "editable": true
   },
   "outputs": [],
   "source": [
    "def dateconverter(oldate):\n",
    "    date = datetime.strptime(oldate, \"%B %d, %Y\")\n",
    "    year = str(date.year); month = date.month; day = date.day\n",
    "    if month < 10: month = \"0\" + str(month)\n",
    "    else: month = str(month)\n",
    "    if day < 10:day = \"0\" + str(day)\n",
    "    else: day = str(day)\n",
    "    date = year + \"-\" + month + \"-\" + day\n",
    "    return date"
   ]
  },
  {
   "cell_type": "code",
   "execution_count": 4,
   "metadata": {
    "collapsed": true,
    "deletable": true,
    "editable": true
   },
   "outputs": [],
   "source": [
    "def textconverter(text):\n",
    "    text = re.sub('\\((.*?)\\)', '', text)     # Removes all () parts\n",
    "    text = re.sub('\\[(.*?)\\]', '', text)     # Removes all [] parts\n",
    "    text = text.lower()                      # Change text to lowercase\n",
    "    text = re.sub('[^(a-z)]| ', ' ', text)   # Change all not-text to spaces\n",
    "    text = re.sub(' +',' ',text)             # Remove all redundant spaces\n",
    "    text = text.strip()                      # Remove outer whitespace\n",
    "    return text"
   ]
  },
  {
   "cell_type": "markdown",
   "metadata": {
    "deletable": true,
    "editable": true
   },
   "source": [
    "We select the features we'll be working with, and apply both functions."
   ]
  },
  {
   "cell_type": "code",
   "execution_count": 5,
   "metadata": {
    "collapsed": false,
    "deletable": true,
    "editable": true,
    "scrolled": false
   },
   "outputs": [
    {
     "data": {
      "text/html": [
       "<div>\n",
       "<table border=\"1\" class=\"dataframe\">\n",
       "  <thead>\n",
       "    <tr style=\"text-align: right;\">\n",
       "      <th></th>\n",
       "      <th>president</th>\n",
       "      <th>date</th>\n",
       "      <th>speech</th>\n",
       "      <th>text</th>\n",
       "    </tr>\n",
       "  </thead>\n",
       "  <tbody>\n",
       "    <tr>\n",
       "      <th>1354</th>\n",
       "      <td>Barack Obama</td>\n",
       "      <td>2016-11-05</td>\n",
       "      <td>Weekly Address</td>\n",
       "      <td>hi everybody americans have been fighting for ...</td>\n",
       "    </tr>\n",
       "    <tr>\n",
       "      <th>1355</th>\n",
       "      <td>Barack Obama</td>\n",
       "      <td>2016-11-12</td>\n",
       "      <td>Weekly Address</td>\n",
       "      <td>hi everybody this weekend as we search for way...</td>\n",
       "    </tr>\n",
       "    <tr>\n",
       "      <th>1356</th>\n",
       "      <td>Barack Obama</td>\n",
       "      <td>2016-11-24</td>\n",
       "      <td>Weekly Address</td>\n",
       "      <td>hi everybody on behalf of the obama family mic...</td>\n",
       "    </tr>\n",
       "    <tr>\n",
       "      <th>1357</th>\n",
       "      <td>Barack Obama</td>\n",
       "      <td>2016-12-03</td>\n",
       "      <td>Weekly Address</td>\n",
       "      <td>hi everybody on the first day of my administra...</td>\n",
       "    </tr>\n",
       "    <tr>\n",
       "      <th>1358</th>\n",
       "      <td>Barack Obama</td>\n",
       "      <td>2016-12-10</td>\n",
       "      <td>Weekly Address</td>\n",
       "      <td>hi everybody it is the most wonderful time of ...</td>\n",
       "    </tr>\n",
       "    <tr>\n",
       "      <th>1359</th>\n",
       "      <td>Barack Obama</td>\n",
       "      <td>2016-12-17</td>\n",
       "      <td>Weekly Address</td>\n",
       "      <td>hi everybody if you ve ever played a game of b...</td>\n",
       "    </tr>\n",
       "    <tr>\n",
       "      <th>1360</th>\n",
       "      <td>Barack Obama</td>\n",
       "      <td>2016-12-24</td>\n",
       "      <td>Weekly Address</td>\n",
       "      <td>the president merry christmas everybody one of...</td>\n",
       "    </tr>\n",
       "    <tr>\n",
       "      <th>1361</th>\n",
       "      <td>Barack Obama</td>\n",
       "      <td>2016-12-31</td>\n",
       "      <td>Weekly Address</td>\n",
       "      <td>happy new year everybody at a time when we tur...</td>\n",
       "    </tr>\n",
       "    <tr>\n",
       "      <th>1362</th>\n",
       "      <td>Barack Obama</td>\n",
       "      <td>2017-01-07</td>\n",
       "      <td>Weekly Address</td>\n",
       "      <td>since the days of george washington presidents...</td>\n",
       "    </tr>\n",
       "    <tr>\n",
       "      <th>1363</th>\n",
       "      <td>Barack Obama</td>\n",
       "      <td>2017-01-14</td>\n",
       "      <td>Weekly Address</td>\n",
       "      <td>this week i traveled to chicago to deliver my ...</td>\n",
       "    </tr>\n",
       "  </tbody>\n",
       "</table>\n",
       "</div>"
      ],
      "text/plain": [
       "         president        date          speech  \\\n",
       "1354  Barack Obama  2016-11-05  Weekly Address   \n",
       "1355  Barack Obama  2016-11-12  Weekly Address   \n",
       "1356  Barack Obama  2016-11-24  Weekly Address   \n",
       "1357  Barack Obama  2016-12-03  Weekly Address   \n",
       "1358  Barack Obama  2016-12-10  Weekly Address   \n",
       "1359  Barack Obama  2016-12-17  Weekly Address   \n",
       "1360  Barack Obama  2016-12-24  Weekly Address   \n",
       "1361  Barack Obama  2016-12-31  Weekly Address   \n",
       "1362  Barack Obama  2017-01-07  Weekly Address   \n",
       "1363  Barack Obama  2017-01-14  Weekly Address   \n",
       "\n",
       "                                                   text  \n",
       "1354  hi everybody americans have been fighting for ...  \n",
       "1355  hi everybody this weekend as we search for way...  \n",
       "1356  hi everybody on behalf of the obama family mic...  \n",
       "1357  hi everybody on the first day of my administra...  \n",
       "1358  hi everybody it is the most wonderful time of ...  \n",
       "1359  hi everybody if you ve ever played a game of b...  \n",
       "1360  the president merry christmas everybody one of...  \n",
       "1361  happy new year everybody at a time when we tur...  \n",
       "1362  since the days of george washington presidents...  \n",
       "1363  this week i traveled to chicago to deliver my ...  "
      ]
     },
     "execution_count": 5,
     "metadata": {},
     "output_type": "execute_result"
    }
   ],
   "source": [
    "tidyData = rawData[['president','date','speech','text']]\n",
    "tidyData.date = tidyData.date.apply(dateconverter)\n",
    "tidyData.text = tidyData.text.apply(textconverter)\n",
    "tidyData = tidyData.sort('date', ascending=True).reset_index(drop=True)\n",
    "tidyData.tail(10)"
   ]
  },
  {
   "cell_type": "markdown",
   "metadata": {
    "deletable": true,
    "editable": true
   },
   "source": [
    "## Get Word Counts & Tfidfs Manually\n",
    "To run k-means, we need to represent the speeches in some way. We do so with simple word counts, and the bit complexer [tfidfs](http://www.tfidf.com). To count the words, we create a dictionary, loop through all words in a speech, and add or increment the dictionary appropriately. "
   ]
  },
  {
   "cell_type": "code",
   "execution_count": null,
   "metadata": {
    "collapsed": true,
    "deletable": true,
    "editable": true
   },
   "outputs": [],
   "source": [
    "def wordCount(text):\n",
    "    wordcount = dict()\n",
    "    for word in text.split():\n",
    "        if word in wordcount: wordcount[word] += 1\n",
    "        else: wordcount[word] = 1\n",
    "    return wordcount"
   ]
  },
  {
   "cell_type": "code",
   "execution_count": null,
   "metadata": {
    "collapsed": false,
    "deletable": true,
    "editable": true
   },
   "outputs": [],
   "source": [
    "tidyData['wordcount'] = tidyData.text.apply(wordCount)\n",
    "tidyData.sort('date', ascending=False).head()"
   ]
  },
  {
   "cell_type": "markdown",
   "metadata": {
    "deletable": true,
    "editable": true
   },
   "source": [
    "We do the same for the tfidfs. See the link above for the theoretics, but the idea is to account for the fact that frequently occurring words in a speech might occur frequently in all speeches (such as 'the', 'a'...). These words are downgraded, while the more semantic generally have higher tfidf scores. We implement it in a function and apply it."
   ]
  },
  {
   "cell_type": "code",
   "execution_count": null,
   "metadata": {
    "collapsed": true,
    "deletable": true,
    "editable": true
   },
   "outputs": [],
   "source": [
    "def tfidf(wordcounts):\n",
    "    tfidfs = dict()\n",
    "    totWords = sum(wordcounts.values())\n",
    "    for word, count in wordcounts.items():\n",
    "        if word not in docFreqs:\n",
    "            docFreqs[word] = sum(tidyData['text'].str.contains(str(word)))\n",
    "        tfidfs[word] = count / float(totWords) * math.log(totDocs / float(docFreqs[word]))\n",
    "    return tfidfs"
   ]
  },
  {
   "cell_type": "code",
   "execution_count": null,
   "metadata": {
    "collapsed": false,
    "deletable": true,
    "editable": true
   },
   "outputs": [],
   "source": [
    "docFreqs = dict()\n",
    "totDocs = len(tidyData)\n",
    "tidyData['tfidf'] = tidyData.wordcount.apply(tfidf)\n",
    "tidyData.sort('date', ascending=False).head()"
   ]
  },
  {
   "cell_type": "markdown",
   "metadata": {
    "deletable": true,
    "editable": true
   },
   "source": [
    "## Get Word Counts & Tfidfs with Sklearn\n",
    "We can also use the Sklearn objects to generate dataframes."
   ]
  },
  {
   "cell_type": "code",
   "execution_count": 11,
   "metadata": {
    "collapsed": false,
    "deletable": true,
    "editable": true
   },
   "outputs": [],
   "source": [
    "from sklearn.feature_extraction.text import CountVectorizer\n",
    "from sklearn.feature_extraction.text import TfidfVectorizer\n",
    "\n",
    "a = CountVectorizer()\n",
    "b = CountVectorizer(ngram_range=(2, 2))\n",
    "c = CountVectorizer(ngram_range=(1, 3))\n",
    "d = TfidfVectorizer(sublinear_tf=True)\n",
    "e = TfidfVectorizer(sublinear_tf=True, ngram_range=(1,3))\n",
    "f = TfidfVectorizer(sublinear_tf=True, ngram_range=(3,3))\n",
    "\n",
    "#onegrams = pd.DataFrame(a.fit_transform(tidyData.text).toarray(), columns=a.get_feature_names())\n",
    "#twograms = pd.DataFrame(b.fit_transform(tidyData.text).toarray(), columns=b.get_feature_names())\n",
    "#trigrams = pd.DataFrame(c.fit_transform(tidyData.text).toarray(), columns=c.get_feature_names())\n",
    "onetfidf = pd.DataFrame(d.fit_transform(tidyData.text).toarray(), columns=d.get_feature_names())\n",
    "#twotfidf = pd.DataFrame(e.fit_transform(tidyData.text).toarray(), columns=e.get_feature_names())\n",
    "#tritfidf = pd.DataFrame(f.fit_transform(tidyData.text).toarray(), columns=f.get_feature_names())"
   ]
  },
  {
   "cell_type": "code",
   "execution_count": 12,
   "metadata": {
    "collapsed": false,
    "deletable": true,
    "editable": true
   },
   "outputs": [
    {
     "data": {
      "text/html": [
       "<div>\n",
       "<table border=\"1\" class=\"dataframe\">\n",
       "  <thead>\n",
       "    <tr style=\"text-align: right;\">\n",
       "      <th></th>\n",
       "      <th>aaa</th>\n",
       "      <th>aachen</th>\n",
       "      <th>aaron</th>\n",
       "      <th>aarp</th>\n",
       "      <th>aba</th>\n",
       "      <th>abandon</th>\n",
       "      <th>abandoned</th>\n",
       "      <th>abandoning</th>\n",
       "      <th>abandonment</th>\n",
       "      <th>abbas</th>\n",
       "      <th>...</th>\n",
       "      <th>zimbabwe</th>\n",
       "      <th>zimbabwean</th>\n",
       "      <th>zion</th>\n",
       "      <th>zip</th>\n",
       "      <th>zlata</th>\n",
       "      <th>zone</th>\n",
       "      <th>zones</th>\n",
       "      <th>zoning</th>\n",
       "      <th>zubaydah</th>\n",
       "      <th>zuckerberg</th>\n",
       "    </tr>\n",
       "  </thead>\n",
       "  <tbody>\n",
       "    <tr>\n",
       "      <th>1359</th>\n",
       "      <td>0.0</td>\n",
       "      <td>0.0</td>\n",
       "      <td>0.0</td>\n",
       "      <td>0.0</td>\n",
       "      <td>0.0</td>\n",
       "      <td>0.0</td>\n",
       "      <td>0.0</td>\n",
       "      <td>0.0</td>\n",
       "      <td>0.0</td>\n",
       "      <td>0.0</td>\n",
       "      <td>...</td>\n",
       "      <td>0.0</td>\n",
       "      <td>0.0</td>\n",
       "      <td>0.0</td>\n",
       "      <td>0.0</td>\n",
       "      <td>0.0</td>\n",
       "      <td>0.0</td>\n",
       "      <td>0.0</td>\n",
       "      <td>0.0</td>\n",
       "      <td>0.0</td>\n",
       "      <td>0.0</td>\n",
       "    </tr>\n",
       "    <tr>\n",
       "      <th>1360</th>\n",
       "      <td>0.0</td>\n",
       "      <td>0.0</td>\n",
       "      <td>0.0</td>\n",
       "      <td>0.0</td>\n",
       "      <td>0.0</td>\n",
       "      <td>0.0</td>\n",
       "      <td>0.0</td>\n",
       "      <td>0.0</td>\n",
       "      <td>0.0</td>\n",
       "      <td>0.0</td>\n",
       "      <td>...</td>\n",
       "      <td>0.0</td>\n",
       "      <td>0.0</td>\n",
       "      <td>0.0</td>\n",
       "      <td>0.0</td>\n",
       "      <td>0.0</td>\n",
       "      <td>0.0</td>\n",
       "      <td>0.0</td>\n",
       "      <td>0.0</td>\n",
       "      <td>0.0</td>\n",
       "      <td>0.0</td>\n",
       "    </tr>\n",
       "    <tr>\n",
       "      <th>1361</th>\n",
       "      <td>0.0</td>\n",
       "      <td>0.0</td>\n",
       "      <td>0.0</td>\n",
       "      <td>0.0</td>\n",
       "      <td>0.0</td>\n",
       "      <td>0.0</td>\n",
       "      <td>0.0</td>\n",
       "      <td>0.0</td>\n",
       "      <td>0.0</td>\n",
       "      <td>0.0</td>\n",
       "      <td>...</td>\n",
       "      <td>0.0</td>\n",
       "      <td>0.0</td>\n",
       "      <td>0.0</td>\n",
       "      <td>0.0</td>\n",
       "      <td>0.0</td>\n",
       "      <td>0.0</td>\n",
       "      <td>0.0</td>\n",
       "      <td>0.0</td>\n",
       "      <td>0.0</td>\n",
       "      <td>0.0</td>\n",
       "    </tr>\n",
       "    <tr>\n",
       "      <th>1362</th>\n",
       "      <td>0.0</td>\n",
       "      <td>0.0</td>\n",
       "      <td>0.0</td>\n",
       "      <td>0.0</td>\n",
       "      <td>0.0</td>\n",
       "      <td>0.0</td>\n",
       "      <td>0.0</td>\n",
       "      <td>0.0</td>\n",
       "      <td>0.0</td>\n",
       "      <td>0.0</td>\n",
       "      <td>...</td>\n",
       "      <td>0.0</td>\n",
       "      <td>0.0</td>\n",
       "      <td>0.0</td>\n",
       "      <td>0.0</td>\n",
       "      <td>0.0</td>\n",
       "      <td>0.0</td>\n",
       "      <td>0.0</td>\n",
       "      <td>0.0</td>\n",
       "      <td>0.0</td>\n",
       "      <td>0.0</td>\n",
       "    </tr>\n",
       "    <tr>\n",
       "      <th>1363</th>\n",
       "      <td>0.0</td>\n",
       "      <td>0.0</td>\n",
       "      <td>0.0</td>\n",
       "      <td>0.0</td>\n",
       "      <td>0.0</td>\n",
       "      <td>0.0</td>\n",
       "      <td>0.0</td>\n",
       "      <td>0.0</td>\n",
       "      <td>0.0</td>\n",
       "      <td>0.0</td>\n",
       "      <td>...</td>\n",
       "      <td>0.0</td>\n",
       "      <td>0.0</td>\n",
       "      <td>0.0</td>\n",
       "      <td>0.0</td>\n",
       "      <td>0.0</td>\n",
       "      <td>0.0</td>\n",
       "      <td>0.0</td>\n",
       "      <td>0.0</td>\n",
       "      <td>0.0</td>\n",
       "      <td>0.0</td>\n",
       "    </tr>\n",
       "  </tbody>\n",
       "</table>\n",
       "<p>5 rows × 18777 columns</p>\n",
       "</div>"
      ],
      "text/plain": [
       "      aaa  aachen  aaron  aarp  aba  abandon  abandoned  abandoning  \\\n",
       "1359  0.0     0.0    0.0   0.0  0.0      0.0        0.0         0.0   \n",
       "1360  0.0     0.0    0.0   0.0  0.0      0.0        0.0         0.0   \n",
       "1361  0.0     0.0    0.0   0.0  0.0      0.0        0.0         0.0   \n",
       "1362  0.0     0.0    0.0   0.0  0.0      0.0        0.0         0.0   \n",
       "1363  0.0     0.0    0.0   0.0  0.0      0.0        0.0         0.0   \n",
       "\n",
       "      abandonment  abbas     ...      zimbabwe  zimbabwean  zion  zip  zlata  \\\n",
       "1359          0.0    0.0     ...           0.0         0.0   0.0  0.0    0.0   \n",
       "1360          0.0    0.0     ...           0.0         0.0   0.0  0.0    0.0   \n",
       "1361          0.0    0.0     ...           0.0         0.0   0.0  0.0    0.0   \n",
       "1362          0.0    0.0     ...           0.0         0.0   0.0  0.0    0.0   \n",
       "1363          0.0    0.0     ...           0.0         0.0   0.0  0.0    0.0   \n",
       "\n",
       "      zone  zones  zoning  zubaydah  zuckerberg  \n",
       "1359   0.0    0.0     0.0       0.0         0.0  \n",
       "1360   0.0    0.0     0.0       0.0         0.0  \n",
       "1361   0.0    0.0     0.0       0.0         0.0  \n",
       "1362   0.0    0.0     0.0       0.0         0.0  \n",
       "1363   0.0    0.0     0.0       0.0         0.0  \n",
       "\n",
       "[5 rows x 18777 columns]"
      ]
     },
     "execution_count": 12,
     "metadata": {},
     "output_type": "execute_result"
    }
   ],
   "source": [
    "onetfidf.tail()"
   ]
  },
  {
   "cell_type": "code",
   "execution_count": 13,
   "metadata": {
    "collapsed": false,
    "deletable": true,
    "editable": true
   },
   "outputs": [],
   "source": [
    "def getTopValues(s):\n",
    "    tmp = s.order(ascending=False)[:10]\n",
    "    return tuple(tmp.index) #dict(zip(tmp.index, tmp))"
   ]
  },
  {
   "cell_type": "code",
   "execution_count": 14,
   "metadata": {
    "collapsed": false,
    "deletable": true,
    "editable": true
   },
   "outputs": [
    {
     "data": {
      "text/html": [
       "<div>\n",
       "<table border=\"1\" class=\"dataframe\">\n",
       "  <thead>\n",
       "    <tr style=\"text-align: right;\">\n",
       "      <th></th>\n",
       "      <th>president</th>\n",
       "      <th>date</th>\n",
       "      <th>speech</th>\n",
       "      <th>text</th>\n",
       "      <th>onetfidf</th>\n",
       "    </tr>\n",
       "  </thead>\n",
       "  <tbody>\n",
       "    <tr>\n",
       "      <th>1241</th>\n",
       "      <td>Barack Obama</td>\n",
       "      <td>2014-09-10</td>\n",
       "      <td>Address to the Nation</td>\n",
       "      <td>my fellow americans tonight i want to speak to...</td>\n",
       "      <td>(isil, affiliate, syria, syrian, mobilize, fig...</td>\n",
       "    </tr>\n",
       "    <tr>\n",
       "      <th>1242</th>\n",
       "      <td>Barack Obama</td>\n",
       "      <td>2014-09-13</td>\n",
       "      <td>Weekly Address</td>\n",
       "      <td>as commander in chief my highest priority is t...</td>\n",
       "      <td>(isil, airstrikes, affiliates, kurdish, syrian...</td>\n",
       "    </tr>\n",
       "    <tr>\n",
       "      <th>1243</th>\n",
       "      <td>Barack Obama</td>\n",
       "      <td>2014-09-20</td>\n",
       "      <td>Weekly Address</td>\n",
       "      <td>over the past week the united states has conti...</td>\n",
       "      <td>(isil, versus, syria, airstrikes, degrade, pos...</td>\n",
       "    </tr>\n",
       "    <tr>\n",
       "      <th>1244</th>\n",
       "      <td>Barack Obama</td>\n",
       "      <td>2014-09-24</td>\n",
       "      <td>Address to the U.N.</td>\n",
       "      <td>mr president mr secretary general fellow deleg...</td>\n",
       "      <td>(sectarianism, muslim, isil, rejecting, religi...</td>\n",
       "    </tr>\n",
       "    <tr>\n",
       "      <th>1245</th>\n",
       "      <td>Barack Obama</td>\n",
       "      <td>2014-09-27</td>\n",
       "      <td>Weekly Address</td>\n",
       "      <td>hi everybody american leadership is the one co...</td>\n",
       "      <td>(isil, rally, ukraine, corral, nations, leadin...</td>\n",
       "    </tr>\n",
       "    <tr>\n",
       "      <th>1309</th>\n",
       "      <td>Barack Obama</td>\n",
       "      <td>2015-12-06</td>\n",
       "      <td>Address to the Nation</td>\n",
       "      <td>good evening on wednesday americans were kille...</td>\n",
       "      <td>(isil, bernardino, muslim, coworkers, san, par...</td>\n",
       "    </tr>\n",
       "    <tr>\n",
       "      <th>1310</th>\n",
       "      <td>Barack Obama</td>\n",
       "      <td>2015-12-12</td>\n",
       "      <td>Weekly Address</td>\n",
       "      <td>hello everybody this week americans across our...</td>\n",
       "      <td>(isil, bernardino, muslim, san, vigilant, musl...</td>\n",
       "    </tr>\n",
       "    <tr>\n",
       "      <th>1311</th>\n",
       "      <td>Barack Obama</td>\n",
       "      <td>2015-12-19</td>\n",
       "      <td>Weekly Address</td>\n",
       "      <td>hi everybody it s the most wonderful time of t...</td>\n",
       "      <td>(lists, marry, number, isil, optimistic, proen...</td>\n",
       "    </tr>\n",
       "    <tr>\n",
       "      <th>1315</th>\n",
       "      <td>Barack Obama</td>\n",
       "      <td>2016-01-12</td>\n",
       "      <td>State of the Union</td>\n",
       "      <td>thank you mr speaker mr vice president members...</td>\n",
       "      <td>(isil, voices, unarmed, imperatives, stamp, di...</td>\n",
       "    </tr>\n",
       "    <tr>\n",
       "      <th>1322</th>\n",
       "      <td>Barack Obama</td>\n",
       "      <td>2016-02-27</td>\n",
       "      <td>Weekly Address</td>\n",
       "      <td>hi everybody this week we continued our missio...</td>\n",
       "      <td>(isil, syria, fighters, uses, recruit, destroy...</td>\n",
       "    </tr>\n",
       "    <tr>\n",
       "      <th>1326</th>\n",
       "      <td>Barack Obama</td>\n",
       "      <td>2016-03-26</td>\n",
       "      <td>Weekly Address</td>\n",
       "      <td>this week our hearts are with the people of be...</td>\n",
       "      <td>(isil, belgium, hateful, muslims, stigmatize, ...</td>\n",
       "    </tr>\n",
       "    <tr>\n",
       "      <th>1337</th>\n",
       "      <td>Barack Obama</td>\n",
       "      <td>2016-06-18</td>\n",
       "      <td>Weekly Address</td>\n",
       "      <td>it s been less than a week since the deadliest...</td>\n",
       "      <td>(orlando, dads, silence, isil, kids, hear, mod...</td>\n",
       "    </tr>\n",
       "  </tbody>\n",
       "</table>\n",
       "</div>"
      ],
      "text/plain": [
       "         president        date                 speech  \\\n",
       "1241  Barack Obama  2014-09-10  Address to the Nation   \n",
       "1242  Barack Obama  2014-09-13         Weekly Address   \n",
       "1243  Barack Obama  2014-09-20         Weekly Address   \n",
       "1244  Barack Obama  2014-09-24    Address to the U.N.   \n",
       "1245  Barack Obama  2014-09-27         Weekly Address   \n",
       "1309  Barack Obama  2015-12-06  Address to the Nation   \n",
       "1310  Barack Obama  2015-12-12         Weekly Address   \n",
       "1311  Barack Obama  2015-12-19         Weekly Address   \n",
       "1315  Barack Obama  2016-01-12     State of the Union   \n",
       "1322  Barack Obama  2016-02-27         Weekly Address   \n",
       "1326  Barack Obama  2016-03-26         Weekly Address   \n",
       "1337  Barack Obama  2016-06-18         Weekly Address   \n",
       "\n",
       "                                                   text  \\\n",
       "1241  my fellow americans tonight i want to speak to...   \n",
       "1242  as commander in chief my highest priority is t...   \n",
       "1243  over the past week the united states has conti...   \n",
       "1244  mr president mr secretary general fellow deleg...   \n",
       "1245  hi everybody american leadership is the one co...   \n",
       "1309  good evening on wednesday americans were kille...   \n",
       "1310  hello everybody this week americans across our...   \n",
       "1311  hi everybody it s the most wonderful time of t...   \n",
       "1315  thank you mr speaker mr vice president members...   \n",
       "1322  hi everybody this week we continued our missio...   \n",
       "1326  this week our hearts are with the people of be...   \n",
       "1337  it s been less than a week since the deadliest...   \n",
       "\n",
       "                                               onetfidf  \n",
       "1241  (isil, affiliate, syria, syrian, mobilize, fig...  \n",
       "1242  (isil, airstrikes, affiliates, kurdish, syrian...  \n",
       "1243  (isil, versus, syria, airstrikes, degrade, pos...  \n",
       "1244  (sectarianism, muslim, isil, rejecting, religi...  \n",
       "1245  (isil, rally, ukraine, corral, nations, leadin...  \n",
       "1309  (isil, bernardino, muslim, coworkers, san, par...  \n",
       "1310  (isil, bernardino, muslim, san, vigilant, musl...  \n",
       "1311  (lists, marry, number, isil, optimistic, proen...  \n",
       "1315  (isil, voices, unarmed, imperatives, stamp, di...  \n",
       "1322  (isil, syria, fighters, uses, recruit, destroy...  \n",
       "1326  (isil, belgium, hateful, muslims, stigmatize, ...  \n",
       "1337  (orlando, dads, silence, isil, kids, hear, mod...  "
      ]
     },
     "execution_count": 14,
     "metadata": {},
     "output_type": "execute_result"
    }
   ],
   "source": [
    "tidyData['onetfidf'] = onetfidf.apply(getTopValues, axis=1)\n",
    "tidyData[tidyData.onetfidf.apply(lambda x: True if \"isil\" in x else False)]"
   ]
  },
  {
   "cell_type": "code",
   "execution_count": 15,
   "metadata": {
    "collapsed": false,
    "deletable": true,
    "editable": true,
    "scrolled": false
   },
   "outputs": [
    {
     "data": {
      "text/plain": [
       "(u'isil',\n",
       " u'belgium',\n",
       " u'hateful',\n",
       " u'muslims',\n",
       " u'stigmatize',\n",
       " u'pray',\n",
       " u'root',\n",
       " u'counterproductive',\n",
       " u'ramped',\n",
       " u'radicalize')"
      ]
     },
     "execution_count": 15,
     "metadata": {},
     "output_type": "execute_result"
    }
   ],
   "source": [
    "tidyData.onetfidf[1326]"
   ]
  },
  {
   "cell_type": "markdown",
   "metadata": {
    "deletable": true,
    "editable": true
   },
   "source": [
    "## Classic Model Building"
   ]
  },
  {
   "cell_type": "code",
   "execution_count": 16,
   "metadata": {
    "collapsed": false,
    "deletable": true,
    "editable": true
   },
   "outputs": [
    {
     "name": "stdout",
     "output_type": "stream",
     "text": [
      "('Training set:', (1364, 18777), (1364,))\n"
     ]
    }
   ],
   "source": [
    "print('Training set:', onetfidf.shape, tidyData.president.shape)"
   ]
  },
  {
   "cell_type": "code",
   "execution_count": 17,
   "metadata": {
    "collapsed": false,
    "deletable": true,
    "editable": true
   },
   "outputs": [],
   "source": [
    "data = onetfidf.values\n",
    "labels = pd.get_dummies(tidyData.president).values"
   ]
  },
  {
   "cell_type": "code",
   "execution_count": 18,
   "metadata": {
    "collapsed": false,
    "deletable": true,
    "editable": true
   },
   "outputs": [
    {
     "name": "stdout",
     "output_type": "stream",
     "text": [
      "('Training set:', (1364, 18777), (1364, 3))\n"
     ]
    }
   ],
   "source": [
    "print('Training set:', data.shape, labels.shape)"
   ]
  },
  {
   "cell_type": "code",
   "execution_count": 19,
   "metadata": {
    "collapsed": true,
    "deletable": true,
    "editable": true
   },
   "outputs": [],
   "source": [
    "from sklearn.model_selection import train_test_split\n",
    "trainX, validX, trainY, validY = train_test_split(data, labels, train_size=0.7)"
   ]
  },
  {
   "cell_type": "code",
   "execution_count": 20,
   "metadata": {
    "collapsed": false,
    "deletable": true,
    "editable": true
   },
   "outputs": [
    {
     "name": "stdout",
     "output_type": "stream",
     "text": [
      "('Training set:', (954, 18777), (954, 3))\n",
      "('Validation set:', (410, 18777), (410, 3))\n"
     ]
    }
   ],
   "source": [
    "print('Training set:', trainX.shape, trainY.shape)\n",
    "print('Validation set:', validX.shape, validY.shape)"
   ]
  },
  {
   "cell_type": "code",
   "execution_count": 25,
   "metadata": {
    "collapsed": false,
    "deletable": true,
    "editable": true
   },
   "outputs": [],
   "source": [
    "from sklearn.model_selection import train_test_split\n",
    "Xtrain, Xtest, Ytrain, Ytest = train_test_split(onetfidf.as_matrix(), tidyData.president, train_size=0.7, random_state=20)"
   ]
  },
  {
   "cell_type": "code",
   "execution_count": 26,
   "metadata": {
    "collapsed": false,
    "deletable": true,
    "editable": true
   },
   "outputs": [
    {
     "data": {
      "text/plain": [
       "LogisticRegression(C=1.0, class_weight=None, dual=False, fit_intercept=True,\n",
       "          intercept_scaling=1, max_iter=100, multi_class='ovr', n_jobs=1,\n",
       "          penalty='l2', random_state=None, solver='liblinear', tol=0.0001,\n",
       "          verbose=0, warm_start=False)"
      ]
     },
     "execution_count": 26,
     "metadata": {},
     "output_type": "execute_result"
    }
   ],
   "source": [
    "from sklearn.linear_model import LogisticRegression\n",
    "clf = LogisticRegression()\n",
    "clf.fit(Xtrain, Ytrain)"
   ]
  },
  {
   "cell_type": "code",
   "execution_count": 27,
   "metadata": {
    "collapsed": false,
    "deletable": true,
    "editable": true
   },
   "outputs": [
    {
     "name": "stdout",
     "output_type": "stream",
     "text": [
      "0.965853658537\n",
      "0.996855345912\n"
     ]
    }
   ],
   "source": [
    "print(clf.score(Xtest, Ytest))\n",
    "print(clf.score(Xtrain, Ytrain))"
   ]
  },
  {
   "cell_type": "code",
   "execution_count": 28,
   "metadata": {
    "collapsed": false,
    "deletable": true,
    "editable": true,
    "scrolled": false
   },
   "outputs": [
    {
     "name": "stdout",
     "output_type": "stream",
     "text": [
      "[u'William J. Clinton' u'George W. Bush' u'George W. Bush'\n",
      " u'George W. Bush' u'George W. Bush' u'William J. Clinton'\n",
      " u'George W. Bush' u'Barack Obama' u'William J. Clinton' u'George W. Bush']\n"
     ]
    }
   ],
   "source": [
    "print(clf.predict(Xtest[:10]))"
   ]
  },
  {
   "cell_type": "markdown",
   "metadata": {
    "deletable": true,
    "editable": true
   },
   "source": [
    "### Pipeline for Cross Validation\n",
    "The goal here is to search for the optimal hyper-parameters."
   ]
  },
  {
   "cell_type": "code",
   "execution_count": 20,
   "metadata": {
    "collapsed": true,
    "deletable": true,
    "editable": true
   },
   "outputs": [],
   "source": [
    "from sklearn.model_selection import train_test_split\n",
    "Xtrain, Xtest, Ytrain, Ytest = train_test_split(tidyData.text, tidyData.president, train_size=0.7, random_state=20)"
   ]
  },
  {
   "cell_type": "code",
   "execution_count": 21,
   "metadata": {
    "collapsed": false,
    "deletable": true,
    "editable": true
   },
   "outputs": [],
   "source": [
    "from sklearn.pipeline import make_pipeline\n",
    "from sklearn.feature_extraction.text import TfidfVectorizer\n",
    "from sklearn.linear_model import LogisticRegression\n",
    "pipe = make_pipeline(TfidfVectorizer(), \n",
    "                     LogisticRegression(random_state=1))"
   ]
  },
  {
   "cell_type": "code",
   "execution_count": 22,
   "metadata": {
    "collapsed": true,
    "deletable": true,
    "editable": true
   },
   "outputs": [],
   "source": [
    "from sklearn.model_selection import GridSearchCV\n",
    "pams = {'logisticregression__C': [1000, 2000], 'tfidfvectorizer__ngram_range': [(1,1), (1,2)]}\n",
    "grid = GridSearchCV(pipe, param_grid=pams, cv=5, n_jobs=2)"
   ]
  },
  {
   "cell_type": "code",
   "execution_count": 23,
   "metadata": {
    "collapsed": false,
    "deletable": true,
    "editable": true
   },
   "outputs": [
    {
     "data": {
      "text/plain": [
       "GridSearchCV(cv=5, error_score='raise',\n",
       "       estimator=Pipeline(steps=[('tfidfvectorizer', TfidfVectorizer(analyzer=u'word', binary=False, decode_error=u'strict',\n",
       "        dtype=<type 'numpy.int64'>, encoding=u'utf-8', input=u'content',\n",
       "        lowercase=True, max_df=1.0, max_features=None, min_df=1,\n",
       "        ngram_range=(1, 1), norm=u'l2', preprocessor=None, smoo...nalty='l2', random_state=1, solver='liblinear', tol=0.0001,\n",
       "          verbose=0, warm_start=False))]),\n",
       "       fit_params={}, iid=True, n_jobs=2,\n",
       "       param_grid={'tfidfvectorizer__ngram_range': [(1, 1), (1, 2)], 'logisticregression__C': [1000, 2000]},\n",
       "       pre_dispatch='2*n_jobs', refit=True, return_train_score=True,\n",
       "       scoring=None, verbose=0)"
      ]
     },
     "execution_count": 23,
     "metadata": {},
     "output_type": "execute_result"
    }
   ],
   "source": [
    "grid.fit(Xtrain, Ytrain)"
   ]
  },
  {
   "cell_type": "code",
   "execution_count": 51,
   "metadata": {
    "collapsed": false,
    "deletable": true,
    "editable": true
   },
   "outputs": [
    {
     "name": "stdout",
     "output_type": "stream",
     "text": [
      "{'logisticregression__C': 2000, 'tfidfvectorizer__ngram_range': (1, 1)}\n",
      "1.0\n",
      "0.99512195122\n",
      "0.99512195122\n"
     ]
    }
   ],
   "source": [
    "print(grid.best_params_)\n",
    "print(grid.score(Xtrain, Ytrain))\n",
    "print(grid.score(Xtest, Ytest))\n",
    "print(np.mean(grid.predict(Xtest)== Ytest))"
   ]
  },
  {
   "cell_type": "markdown",
   "metadata": {
    "collapsed": true,
    "deletable": true,
    "editable": true
   },
   "source": [
    "### Pipeline for PMML"
   ]
  },
  {
   "cell_type": "code",
   "execution_count": 56,
   "metadata": {
    "collapsed": false,
    "deletable": true,
    "editable": true
   },
   "outputs": [],
   "source": [
    "from sklearn.model_selection import train_test_split\n",
    "Xtrain, Xtest, Ytrain, Ytest = train_test_split(tidyData.text, tidyData.president, train_size=0.7, random_state=20)"
   ]
  },
  {
   "cell_type": "code",
   "execution_count": 57,
   "metadata": {
    "collapsed": false,
    "deletable": true,
    "editable": true
   },
   "outputs": [
    {
     "data": {
      "text/plain": [
       "PMMLPipeline(steps=[('TFIDF', TfidfVectorizer(analyzer='word', binary=False, decode_error='strict',\n",
       "        dtype=<class 'numpy.int64'>, encoding='utf-8', input='content',\n",
       "        lowercase=True, max_df=1.0, max_features=None, min_df=1,\n",
       "        ngram_range=(1, 1), norm='l2', preprocessor=None, smooth_idf=True,\n",
       " ...nalty='l2', random_state=1, solver='liblinear', tol=0.0001,\n",
       "          verbose=0, warm_start=False))])"
      ]
     },
     "execution_count": 57,
     "metadata": {},
     "output_type": "execute_result"
    }
   ],
   "source": [
    "from sklearn2pmml import PMMLPipeline\n",
    "from sklearn.feature_extraction.text import TfidfVectorizer\n",
    "from sklearn.linear_model import LogisticRegression\n",
    "\n",
    "pipe = PMMLPipeline([\n",
    "    (\"TFIDF\", TfidfVectorizer()),\n",
    "    (\"Model\", LogisticRegression(C=2000, random_state=1))\n",
    "])\n",
    "pipe.fit(Xtrain, Ytrain)"
   ]
  },
  {
   "cell_type": "code",
   "execution_count": 58,
   "metadata": {
    "collapsed": false,
    "deletable": true,
    "editable": true,
    "scrolled": true
   },
   "outputs": [
    {
     "name": "stdout",
     "output_type": "stream",
     "text": [
      "0.99512195122\n",
      "1.0\n",
      "['William J. Clinton' 'George W. Bush' 'George W. Bush' 'George W. Bush'\n",
      " 'George W. Bush' 'William J. Clinton' 'George W. Bush' 'Barack Obama'\n",
      " 'William J. Clinton' 'George W. Bush']\n"
     ]
    }
   ],
   "source": [
    "print(pipe.score(Xtest, Ytest))\n",
    "print(pipe.score(Xtrain, Ytrain))\n",
    "print(pipe.predict(Xtest[:10]))"
   ]
  },
  {
   "cell_type": "code",
   "execution_count": null,
   "metadata": {
    "collapsed": false,
    "deletable": true,
    "editable": true
   },
   "outputs": [],
   "source": [
    "from sklearn2pmml import sklearn2pmml\n",
    "sklearn2pmml(pipe, \"Speeches.xml\")"
   ]
  }
 ],
 "metadata": {
  "kernelspec": {
   "display_name": "Python 2",
   "language": "python",
   "name": "python2"
  },
  "language_info": {
   "codemirror_mode": {
    "name": "ipython",
    "version": 2
   },
   "file_extension": ".py",
   "mimetype": "text/x-python",
   "name": "python",
   "nbconvert_exporter": "python",
   "pygments_lexer": "ipython2",
   "version": "2.7.13"
  }
 },
 "nbformat": 4,
 "nbformat_minor": 2
}
