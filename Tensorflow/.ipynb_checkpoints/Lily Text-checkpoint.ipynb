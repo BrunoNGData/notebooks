{
 "cells": [
  {
   "cell_type": "markdown",
   "metadata": {},
   "source": [
    "# Textual Data in Lily"
   ]
  },
  {
   "cell_type": "code",
   "execution_count": 21,
   "metadata": {
    "collapsed": true
   },
   "outputs": [],
   "source": [
    "import numpy as np\n",
    "import pandas as pd\n",
    "import tensorflow as tf\n",
    "import random as rd\n",
    "import re\n",
    "import nn\n",
    "import matplotlib.pyplot as plt\n",
    "import matplotlib.cm as cm"
   ]
  },
  {
   "cell_type": "markdown",
   "metadata": {},
   "source": [
    "---\n",
    "## Data Import"
   ]
  },
  {
   "cell_type": "code",
   "execution_count": 22,
   "metadata": {
    "collapsed": false
   },
   "outputs": [
    {
     "data": {
      "text/html": [
       "<div>\n",
       "<table border=\"1\" class=\"dataframe\">\n",
       "  <thead>\n",
       "    <tr style=\"text-align: right;\">\n",
       "      <th></th>\n",
       "      <th>Panellid</th>\n",
       "      <th>E-mailadres</th>\n",
       "      <th>Achternaam</th>\n",
       "      <th>Voornaam</th>\n",
       "      <th>Taal</th>\n",
       "      <th>Geslacht</th>\n",
       "      <th>Geboortedatum</th>\n",
       "      <th>Veld 1</th>\n",
       "      <th>Veld 5</th>\n",
       "      <th>Straat</th>\n",
       "      <th>...</th>\n",
       "      <th>6.4. onze website</th>\n",
       "      <th>7.1. Naamsbekendheid</th>\n",
       "      <th>7.2. Prijs</th>\n",
       "      <th>7.3. Contact met de klantendienst</th>\n",
       "      <th>7.4. Groene energie</th>\n",
       "      <th>7.5. Advies vrienden, familie, collega's</th>\n",
       "      <th>7.6. Duidelijkheid en correctheid facturen</th>\n",
       "      <th>7.7. Other</th>\n",
       "      <th>7.7. Ander, gelieve te specificeren</th>\n",
       "      <th>prijskwaliteit</th>\n",
       "    </tr>\n",
       "    <tr>\n",
       "      <th>Respondent</th>\n",
       "      <th></th>\n",
       "      <th></th>\n",
       "      <th></th>\n",
       "      <th></th>\n",
       "      <th></th>\n",
       "      <th></th>\n",
       "      <th></th>\n",
       "      <th></th>\n",
       "      <th></th>\n",
       "      <th></th>\n",
       "      <th></th>\n",
       "      <th></th>\n",
       "      <th></th>\n",
       "      <th></th>\n",
       "      <th></th>\n",
       "      <th></th>\n",
       "      <th></th>\n",
       "      <th></th>\n",
       "      <th></th>\n",
       "      <th></th>\n",
       "      <th></th>\n",
       "    </tr>\n",
       "  </thead>\n",
       "  <tbody>\n",
       "    <tr>\n",
       "      <th>10398</th>\n",
       "      <td>35855057</td>\n",
       "      <td>gaston@f-a-q.be</td>\n",
       "      <td>Gaston Verelst</td>\n",
       "      <td>NaN</td>\n",
       "      <td>nl</td>\n",
       "      <td>Man</td>\n",
       "      <td>NaN</td>\n",
       "      <td>150153215.0</td>\n",
       "      <td>NaN</td>\n",
       "      <td>Groenstraat</td>\n",
       "      <td>...</td>\n",
       "      <td>NVT</td>\n",
       "      <td>Niet belangrijk</td>\n",
       "      <td>Uiterst belangrijk</td>\n",
       "      <td>Belangrijk</td>\n",
       "      <td>Niet belangrijk</td>\n",
       "      <td>Niet belangrijk</td>\n",
       "      <td>Uiterst belangrijk</td>\n",
       "      <td>NaN</td>\n",
       "      <td>NaN</td>\n",
       "      <td>8.0</td>\n",
       "    </tr>\n",
       "    <tr>\n",
       "      <th>10399</th>\n",
       "      <td>35855871</td>\n",
       "      <td>familiewilms@hotmail.com</td>\n",
       "      <td>Wilhelmus Wilms</td>\n",
       "      <td>NaN</td>\n",
       "      <td>nl</td>\n",
       "      <td>Man</td>\n",
       "      <td>NaN</td>\n",
       "      <td>150346421.0</td>\n",
       "      <td>NaN</td>\n",
       "      <td>Koekoeklaan</td>\n",
       "      <td>...</td>\n",
       "      <td>NVT</td>\n",
       "      <td>Niet belangrijk</td>\n",
       "      <td>Zeer belangrijk</td>\n",
       "      <td>Niet belangrijk</td>\n",
       "      <td>Niet belangrijk</td>\n",
       "      <td>NaN</td>\n",
       "      <td>Belangrijk</td>\n",
       "      <td>NaN</td>\n",
       "      <td>NaN</td>\n",
       "      <td>4.0</td>\n",
       "    </tr>\n",
       "    <tr>\n",
       "      <th>10400</th>\n",
       "      <td>35855594</td>\n",
       "      <td>doke.brouns@telenet.be</td>\n",
       "      <td>Doke Brouns</td>\n",
       "      <td>NaN</td>\n",
       "      <td>nl</td>\n",
       "      <td>Vrouw</td>\n",
       "      <td>NaN</td>\n",
       "      <td>150136365.0</td>\n",
       "      <td>NaN</td>\n",
       "      <td>Steenberg</td>\n",
       "      <td>...</td>\n",
       "      <td>6</td>\n",
       "      <td>Niet belangrijk</td>\n",
       "      <td>Uiterst belangrijk</td>\n",
       "      <td>Belangrijk</td>\n",
       "      <td>Belangrijk</td>\n",
       "      <td>Belangrijk</td>\n",
       "      <td>Zeer belangrijk</td>\n",
       "      <td>NaN</td>\n",
       "      <td>NaN</td>\n",
       "      <td>3.0</td>\n",
       "    </tr>\n",
       "  </tbody>\n",
       "</table>\n",
       "<p>3 rows × 52 columns</p>\n",
       "</div>"
      ],
      "text/plain": [
       "            Panellid               E-mailadres       Achternaam Voornaam Taal  \\\n",
       "Respondent                                                                      \n",
       "10398       35855057           gaston@f-a-q.be   Gaston Verelst      NaN   nl   \n",
       "10399       35855871  familiewilms@hotmail.com  Wilhelmus Wilms      NaN   nl   \n",
       "10400       35855594    doke.brouns@telenet.be      Doke Brouns      NaN   nl   \n",
       "\n",
       "           Geslacht Geboortedatum       Veld 1 Veld 5       Straat  \\\n",
       "Respondent                                                           \n",
       "10398           Man           NaN  150153215.0    NaN  Groenstraat   \n",
       "10399           Man           NaN  150346421.0    NaN  Koekoeklaan   \n",
       "10400         Vrouw           NaN  150136365.0    NaN    Steenberg   \n",
       "\n",
       "                ...       6.4. onze website 7.1. Naamsbekendheid  \\\n",
       "Respondent      ...                                                \n",
       "10398           ...                     NVT      Niet belangrijk   \n",
       "10399           ...                     NVT      Niet belangrijk   \n",
       "10400           ...                       6      Niet belangrijk   \n",
       "\n",
       "                    7.2. Prijs  7.3. Contact met de klantendienst  \\\n",
       "Respondent                                                          \n",
       "10398       Uiterst belangrijk                         Belangrijk   \n",
       "10399          Zeer belangrijk                    Niet belangrijk   \n",
       "10400       Uiterst belangrijk                         Belangrijk   \n",
       "\n",
       "           7.4. Groene energie 7.5. Advies vrienden, familie, collega's  \\\n",
       "Respondent                                                                \n",
       "10398          Niet belangrijk                          Niet belangrijk   \n",
       "10399          Niet belangrijk                                      NaN   \n",
       "10400               Belangrijk                               Belangrijk   \n",
       "\n",
       "            7.6. Duidelijkheid en correctheid facturen 7.7. Other  \\\n",
       "Respondent                                                          \n",
       "10398                               Uiterst belangrijk        NaN   \n",
       "10399                                       Belangrijk        NaN   \n",
       "10400                                  Zeer belangrijk        NaN   \n",
       "\n",
       "           7.7. Ander, gelieve te specificeren prijskwaliteit  \n",
       "Respondent                                                     \n",
       "10398                                      NaN            8.0  \n",
       "10399                                      NaN            4.0  \n",
       "10400                                      NaN            3.0  \n",
       "\n",
       "[3 rows x 52 columns]"
      ]
     },
     "execution_count": 22,
     "metadata": {},
     "output_type": "execute_result"
    }
   ],
   "source": [
    "data = pd.read_excel('/Users/desiredewaele/Google Drive/Datasets/lily text.xlsx', index_col=0)\n",
    "data.tail(3)"
   ]
  },
  {
   "cell_type": "markdown",
   "metadata": {},
   "source": [
    "---\n",
    "## Data Preproccessing\n",
    "\n",
    "---\n",
    "### Feature Selection"
   ]
  },
  {
   "cell_type": "code",
   "execution_count": 23,
   "metadata": {
    "collapsed": false
   },
   "outputs": [],
   "source": [
    "dataNL = data[data.Taal=='nl'].iloc[:,31:35]\n",
    "dataFR = data[data.Taal=='fr'].iloc[:,31:35]\n",
    "dataNL.columns = ['label', 'text1', 'text2', 'text3']\n",
    "dataFR.columns = ['label', 'text1', 'text2', 'text3']\n",
    "del data"
   ]
  },
  {
   "cell_type": "code",
   "execution_count": 24,
   "metadata": {
    "collapsed": false
   },
   "outputs": [
    {
     "data": {
      "text/html": [
       "<div>\n",
       "<table border=\"1\" class=\"dataframe\">\n",
       "  <thead>\n",
       "    <tr style=\"text-align: right;\">\n",
       "      <th></th>\n",
       "      <th>label</th>\n",
       "      <th>text1</th>\n",
       "      <th>text2</th>\n",
       "      <th>text3</th>\n",
       "    </tr>\n",
       "    <tr>\n",
       "      <th>Respondent</th>\n",
       "      <th></th>\n",
       "      <th></th>\n",
       "      <th></th>\n",
       "      <th></th>\n",
       "    </tr>\n",
       "  </thead>\n",
       "  <tbody>\n",
       "    <tr>\n",
       "      <th>10396</th>\n",
       "      <td>7</td>\n",
       "      <td>NaN</td>\n",
       "      <td>NaN</td>\n",
       "      <td>NaN</td>\n",
       "    </tr>\n",
       "    <tr>\n",
       "      <th>10397</th>\n",
       "      <td>8</td>\n",
       "      <td>NaN</td>\n",
       "      <td>NaN</td>\n",
       "      <td>lagere prijzen ???</td>\n",
       "    </tr>\n",
       "    <tr>\n",
       "      <th>10398</th>\n",
       "      <td>6</td>\n",
       "      <td>Ik denk niet dat Essent beter of slechter is d...</td>\n",
       "      <td>NaN</td>\n",
       "      <td>NaN</td>\n",
       "    </tr>\n",
       "    <tr>\n",
       "      <th>10399</th>\n",
       "      <td>5</td>\n",
       "      <td>rekening even hoog als bij vorige leverancier</td>\n",
       "      <td>NaN</td>\n",
       "      <td>NaN</td>\n",
       "    </tr>\n",
       "    <tr>\n",
       "      <th>10400</th>\n",
       "      <td>5</td>\n",
       "      <td>Duur</td>\n",
       "      <td>NaN</td>\n",
       "      <td>NaN</td>\n",
       "    </tr>\n",
       "  </tbody>\n",
       "</table>\n",
       "</div>"
      ],
      "text/plain": [
       "            label                                              text1 text2  \\\n",
       "Respondent                                                                   \n",
       "10396           7                                                NaN   NaN   \n",
       "10397           8                                                NaN   NaN   \n",
       "10398           6  Ik denk niet dat Essent beter of slechter is d...   NaN   \n",
       "10399           5      rekening even hoog als bij vorige leverancier   NaN   \n",
       "10400           5                                               Duur   NaN   \n",
       "\n",
       "                         text3  \n",
       "Respondent                      \n",
       "10396                      NaN  \n",
       "10397       lagere prijzen ???  \n",
       "10398                      NaN  \n",
       "10399                      NaN  \n",
       "10400                      NaN  "
      ]
     },
     "execution_count": 24,
     "metadata": {},
     "output_type": "execute_result"
    }
   ],
   "source": [
    "dataNL.tail()"
   ]
  },
  {
   "cell_type": "markdown",
   "metadata": {},
   "source": [
    "---\n",
    "### Feature Formatting"
   ]
  },
  {
   "cell_type": "code",
   "execution_count": 25,
   "metadata": {
    "collapsed": true
   },
   "outputs": [],
   "source": [
    "dataNL.text1 = dataNL.text1.apply(lambda x: x.encode('utf8') if isinstance(x, unicode) else ' ')\n",
    "dataNL.text2 = dataNL.text2.apply(lambda x: x.encode('utf8') if isinstance(x, unicode) else ' ')\n",
    "dataNL.text3 = dataNL.text3.apply(lambda x: x.encode('utf8') if isinstance(x, unicode) else ' ')"
   ]
  },
  {
   "cell_type": "code",
   "execution_count": 26,
   "metadata": {
    "collapsed": false
   },
   "outputs": [],
   "source": [
    "dataNL['text'] = dataNL.text1.str.cat(dataNL.text2).str.cat(dataNL.text3)\n",
    "dataNL = dataNL[['label', 'text']]"
   ]
  },
  {
   "cell_type": "code",
   "execution_count": 27,
   "metadata": {
    "collapsed": true
   },
   "outputs": [],
   "source": [
    "def textconverter(text):\n",
    "    text = text.lower()                      # Change text to lowercase\n",
    "    text = re.sub('[^(a-z)]| ', ' ', text)   # Change all not-text to spaces\n",
    "    text = re.sub(' +',' ',text)             # Remove all redundant spaces\n",
    "    text = text.strip()                      # Remove outer whitespace\n",
    "    return text"
   ]
  },
  {
   "cell_type": "code",
   "execution_count": 28,
   "metadata": {
    "collapsed": false
   },
   "outputs": [
    {
     "data": {
      "text/html": [
       "<div>\n",
       "<table border=\"1\" class=\"dataframe\">\n",
       "  <thead>\n",
       "    <tr style=\"text-align: right;\">\n",
       "      <th></th>\n",
       "      <th>label</th>\n",
       "      <th>text</th>\n",
       "    </tr>\n",
       "    <tr>\n",
       "      <th>Respondent</th>\n",
       "      <th></th>\n",
       "      <th></th>\n",
       "    </tr>\n",
       "  </thead>\n",
       "  <tbody>\n",
       "    <tr>\n",
       "      <th>10396</th>\n",
       "      <td>7</td>\n",
       "      <td></td>\n",
       "    </tr>\n",
       "    <tr>\n",
       "      <th>10397</th>\n",
       "      <td>8</td>\n",
       "      <td>lagere prijzen</td>\n",
       "    </tr>\n",
       "    <tr>\n",
       "      <th>10398</th>\n",
       "      <td>6</td>\n",
       "      <td>ik denk niet dat essent beter of slechter is d...</td>\n",
       "    </tr>\n",
       "    <tr>\n",
       "      <th>10399</th>\n",
       "      <td>5</td>\n",
       "      <td>rekening even hoog als bij vorige leverancier</td>\n",
       "    </tr>\n",
       "    <tr>\n",
       "      <th>10400</th>\n",
       "      <td>5</td>\n",
       "      <td>duur</td>\n",
       "    </tr>\n",
       "  </tbody>\n",
       "</table>\n",
       "</div>"
      ],
      "text/plain": [
       "            label                                               text\n",
       "Respondent                                                          \n",
       "10396           7                                                   \n",
       "10397           8                                     lagere prijzen\n",
       "10398           6  ik denk niet dat essent beter of slechter is d...\n",
       "10399           5      rekening even hoog als bij vorige leverancier\n",
       "10400           5                                               duur"
      ]
     },
     "execution_count": 28,
     "metadata": {},
     "output_type": "execute_result"
    }
   ],
   "source": [
    "dataNL.text = dataNL.text.apply(lambda x: textconverter(x))\n",
    "dataNL.tail()"
   ]
  },
  {
   "cell_type": "markdown",
   "metadata": {},
   "source": [
    "---\n",
    "### Missing Values"
   ]
  },
  {
   "cell_type": "code",
   "execution_count": 29,
   "metadata": {
    "collapsed": false
   },
   "outputs": [
    {
     "data": {
      "text/html": [
       "<div>\n",
       "<table border=\"1\" class=\"dataframe\">\n",
       "  <thead>\n",
       "    <tr style=\"text-align: right;\">\n",
       "      <th></th>\n",
       "      <th>label</th>\n",
       "      <th>text</th>\n",
       "    </tr>\n",
       "    <tr>\n",
       "      <th>Respondent</th>\n",
       "      <th></th>\n",
       "      <th></th>\n",
       "    </tr>\n",
       "  </thead>\n",
       "  <tbody>\n",
       "    <tr>\n",
       "      <th>10395</th>\n",
       "      <td>5</td>\n",
       "      <td>er</td>\n",
       "    </tr>\n",
       "    <tr>\n",
       "      <th>10397</th>\n",
       "      <td>8</td>\n",
       "      <td>lagere prijzen</td>\n",
       "    </tr>\n",
       "    <tr>\n",
       "      <th>10398</th>\n",
       "      <td>6</td>\n",
       "      <td>ik denk niet dat essent beter of slechter is d...</td>\n",
       "    </tr>\n",
       "    <tr>\n",
       "      <th>10399</th>\n",
       "      <td>5</td>\n",
       "      <td>rekening even hoog als bij vorige leverancier</td>\n",
       "    </tr>\n",
       "    <tr>\n",
       "      <th>10400</th>\n",
       "      <td>5</td>\n",
       "      <td>duur</td>\n",
       "    </tr>\n",
       "  </tbody>\n",
       "</table>\n",
       "</div>"
      ],
      "text/plain": [
       "            label                                               text\n",
       "Respondent                                                          \n",
       "10395           5                                                 er\n",
       "10397           8                                     lagere prijzen\n",
       "10398           6  ik denk niet dat essent beter of slechter is d...\n",
       "10399           5      rekening even hoog als bij vorige leverancier\n",
       "10400           5                                               duur"
      ]
     },
     "execution_count": 29,
     "metadata": {},
     "output_type": "execute_result"
    }
   ],
   "source": [
    "dataNL = dataNL[dataNL.text != '']\n",
    "dataNL.tail()"
   ]
  },
  {
   "cell_type": "code",
   "execution_count": 30,
   "metadata": {
    "collapsed": false
   },
   "outputs": [
    {
     "data": {
      "text/plain": [
       "3181"
      ]
     },
     "execution_count": 30,
     "metadata": {},
     "output_type": "execute_result"
    }
   ],
   "source": [
    "len(dataNL)"
   ]
  },
  {
   "cell_type": "markdown",
   "metadata": {},
   "source": [
    "---\n",
    "### Label Formatting"
   ]
  },
  {
   "cell_type": "code",
   "execution_count": 31,
   "metadata": {
    "collapsed": false
   },
   "outputs": [
    {
     "name": "stdout",
     "output_type": "stream",
     "text": [
      "1503\n",
      "1678\n"
     ]
    }
   ],
   "source": [
    "print(len(dataNL[dataNL.label > 7]))\n",
    "print(len(dataNL[dataNL.label <= 7]))"
   ]
  },
  {
   "cell_type": "code",
   "execution_count": 32,
   "metadata": {
    "collapsed": false
   },
   "outputs": [
    {
     "data": {
      "text/html": [
       "<div>\n",
       "<table border=\"1\" class=\"dataframe\">\n",
       "  <thead>\n",
       "    <tr style=\"text-align: right;\">\n",
       "      <th></th>\n",
       "      <th>label</th>\n",
       "      <th>text</th>\n",
       "    </tr>\n",
       "    <tr>\n",
       "      <th>Respondent</th>\n",
       "      <th></th>\n",
       "      <th></th>\n",
       "    </tr>\n",
       "  </thead>\n",
       "  <tbody>\n",
       "    <tr>\n",
       "      <th>10395</th>\n",
       "      <td>0</td>\n",
       "      <td>er</td>\n",
       "    </tr>\n",
       "    <tr>\n",
       "      <th>10397</th>\n",
       "      <td>1</td>\n",
       "      <td>lagere prijzen</td>\n",
       "    </tr>\n",
       "    <tr>\n",
       "      <th>10398</th>\n",
       "      <td>0</td>\n",
       "      <td>ik denk niet dat essent beter of slechter is d...</td>\n",
       "    </tr>\n",
       "    <tr>\n",
       "      <th>10399</th>\n",
       "      <td>0</td>\n",
       "      <td>rekening even hoog als bij vorige leverancier</td>\n",
       "    </tr>\n",
       "    <tr>\n",
       "      <th>10400</th>\n",
       "      <td>0</td>\n",
       "      <td>duur</td>\n",
       "    </tr>\n",
       "  </tbody>\n",
       "</table>\n",
       "</div>"
      ],
      "text/plain": [
       "            label                                               text\n",
       "Respondent                                                          \n",
       "10395           0                                                 er\n",
       "10397           1                                     lagere prijzen\n",
       "10398           0  ik denk niet dat essent beter of slechter is d...\n",
       "10399           0      rekening even hoog als bij vorige leverancier\n",
       "10400           0                                               duur"
      ]
     },
     "execution_count": 32,
     "metadata": {},
     "output_type": "execute_result"
    }
   ],
   "source": [
    "dataNL.label = dataNL.label.apply(lambda x: 1 if x > 7 else 0)\n",
    "dataNL.tail()"
   ]
  },
  {
   "cell_type": "markdown",
   "metadata": {},
   "source": [
    "---\n",
    "## Get Word Counts & Tfidfs with Sklearn"
   ]
  },
  {
   "cell_type": "code",
   "execution_count": 33,
   "metadata": {
    "collapsed": true
   },
   "outputs": [],
   "source": [
    "from sklearn.feature_extraction.text import CountVectorizer\n",
    "from sklearn.feature_extraction.text import TfidfVectorizer\n",
    "\n",
    "a = CountVectorizer()\n",
    "b = CountVectorizer(ngram_range=(1, 2))\n",
    "c = CountVectorizer(ngram_range=(1, 3))\n",
    "d = TfidfVectorizer(sublinear_tf=True)\n",
    "e = TfidfVectorizer(sublinear_tf=True, ngram_range=(1,3))\n",
    "f = TfidfVectorizer(sublinear_tf=True, ngram_range=(1,3))"
   ]
  },
  {
   "cell_type": "code",
   "execution_count": 34,
   "metadata": {
    "collapsed": true
   },
   "outputs": [],
   "source": [
    "onegrams = pd.DataFrame(a.fit_transform(dataNL.text).toarray(), columns=a.get_feature_names())\n",
    "twograms = pd.DataFrame(b.fit_transform(dataNL.text).toarray(), columns=b.get_feature_names())\n",
    "trigrams = pd.DataFrame(c.fit_transform(dataNL.text).toarray(), columns=c.get_feature_names())\n",
    "onetfidf = pd.DataFrame(d.fit_transform(dataNL.text).toarray(), columns=d.get_feature_names())\n",
    "twotfidf = pd.DataFrame(e.fit_transform(dataNL.text).toarray(), columns=e.get_feature_names())\n",
    "tritfidf = pd.DataFrame(f.fit_transform(dataNL.text).toarray(), columns=f.get_feature_names())"
   ]
  },
  {
   "cell_type": "code",
   "execution_count": 35,
   "metadata": {
    "collapsed": false
   },
   "outputs": [
    {
     "data": {
      "text/html": [
       "<div>\n",
       "<table border=\"1\" class=\"dataframe\">\n",
       "  <thead>\n",
       "    <tr style=\"text-align: right;\">\n",
       "      <th></th>\n",
       "      <th>aagesloten</th>\n",
       "      <th>aagesloten via</th>\n",
       "      <th>aagesloten via groepsaankoop</th>\n",
       "      <th>aan</th>\n",
       "      <th>aan als</th>\n",
       "      <th>aan als de</th>\n",
       "      <th>aan andere</th>\n",
       "      <th>aan andere dat</th>\n",
       "      <th>aan anderen</th>\n",
       "      <th>aan anderen hoeft</th>\n",
       "      <th>...</th>\n",
       "      <th>zwart op</th>\n",
       "      <th>zwart op wit</th>\n",
       "      <th>zweem</th>\n",
       "      <th>zweem van</th>\n",
       "      <th>zweem van onbereikbaarheid</th>\n",
       "      <th>zyn</th>\n",
       "      <th>zyn ben</th>\n",
       "      <th>zyn ben aant</th>\n",
       "      <th>zyn voor</th>\n",
       "      <th>zyn voor nieuwe</th>\n",
       "    </tr>\n",
       "  </thead>\n",
       "  <tbody>\n",
       "    <tr>\n",
       "      <th>3176</th>\n",
       "      <td>0.0</td>\n",
       "      <td>0.0</td>\n",
       "      <td>0.0</td>\n",
       "      <td>0.0</td>\n",
       "      <td>0.0</td>\n",
       "      <td>0.0</td>\n",
       "      <td>0.0</td>\n",
       "      <td>0.0</td>\n",
       "      <td>0.0</td>\n",
       "      <td>0.0</td>\n",
       "      <td>...</td>\n",
       "      <td>0.0</td>\n",
       "      <td>0.0</td>\n",
       "      <td>0.0</td>\n",
       "      <td>0.0</td>\n",
       "      <td>0.0</td>\n",
       "      <td>0.0</td>\n",
       "      <td>0.0</td>\n",
       "      <td>0.0</td>\n",
       "      <td>0.0</td>\n",
       "      <td>0.0</td>\n",
       "    </tr>\n",
       "    <tr>\n",
       "      <th>3177</th>\n",
       "      <td>0.0</td>\n",
       "      <td>0.0</td>\n",
       "      <td>0.0</td>\n",
       "      <td>0.0</td>\n",
       "      <td>0.0</td>\n",
       "      <td>0.0</td>\n",
       "      <td>0.0</td>\n",
       "      <td>0.0</td>\n",
       "      <td>0.0</td>\n",
       "      <td>0.0</td>\n",
       "      <td>...</td>\n",
       "      <td>0.0</td>\n",
       "      <td>0.0</td>\n",
       "      <td>0.0</td>\n",
       "      <td>0.0</td>\n",
       "      <td>0.0</td>\n",
       "      <td>0.0</td>\n",
       "      <td>0.0</td>\n",
       "      <td>0.0</td>\n",
       "      <td>0.0</td>\n",
       "      <td>0.0</td>\n",
       "    </tr>\n",
       "    <tr>\n",
       "      <th>3178</th>\n",
       "      <td>0.0</td>\n",
       "      <td>0.0</td>\n",
       "      <td>0.0</td>\n",
       "      <td>0.0</td>\n",
       "      <td>0.0</td>\n",
       "      <td>0.0</td>\n",
       "      <td>0.0</td>\n",
       "      <td>0.0</td>\n",
       "      <td>0.0</td>\n",
       "      <td>0.0</td>\n",
       "      <td>...</td>\n",
       "      <td>0.0</td>\n",
       "      <td>0.0</td>\n",
       "      <td>0.0</td>\n",
       "      <td>0.0</td>\n",
       "      <td>0.0</td>\n",
       "      <td>0.0</td>\n",
       "      <td>0.0</td>\n",
       "      <td>0.0</td>\n",
       "      <td>0.0</td>\n",
       "      <td>0.0</td>\n",
       "    </tr>\n",
       "    <tr>\n",
       "      <th>3179</th>\n",
       "      <td>0.0</td>\n",
       "      <td>0.0</td>\n",
       "      <td>0.0</td>\n",
       "      <td>0.0</td>\n",
       "      <td>0.0</td>\n",
       "      <td>0.0</td>\n",
       "      <td>0.0</td>\n",
       "      <td>0.0</td>\n",
       "      <td>0.0</td>\n",
       "      <td>0.0</td>\n",
       "      <td>...</td>\n",
       "      <td>0.0</td>\n",
       "      <td>0.0</td>\n",
       "      <td>0.0</td>\n",
       "      <td>0.0</td>\n",
       "      <td>0.0</td>\n",
       "      <td>0.0</td>\n",
       "      <td>0.0</td>\n",
       "      <td>0.0</td>\n",
       "      <td>0.0</td>\n",
       "      <td>0.0</td>\n",
       "    </tr>\n",
       "    <tr>\n",
       "      <th>3180</th>\n",
       "      <td>0.0</td>\n",
       "      <td>0.0</td>\n",
       "      <td>0.0</td>\n",
       "      <td>0.0</td>\n",
       "      <td>0.0</td>\n",
       "      <td>0.0</td>\n",
       "      <td>0.0</td>\n",
       "      <td>0.0</td>\n",
       "      <td>0.0</td>\n",
       "      <td>0.0</td>\n",
       "      <td>...</td>\n",
       "      <td>0.0</td>\n",
       "      <td>0.0</td>\n",
       "      <td>0.0</td>\n",
       "      <td>0.0</td>\n",
       "      <td>0.0</td>\n",
       "      <td>0.0</td>\n",
       "      <td>0.0</td>\n",
       "      <td>0.0</td>\n",
       "      <td>0.0</td>\n",
       "      <td>0.0</td>\n",
       "    </tr>\n",
       "  </tbody>\n",
       "</table>\n",
       "<p>5 rows × 50160 columns</p>\n",
       "</div>"
      ],
      "text/plain": [
       "      aagesloten  aagesloten via  aagesloten via groepsaankoop  aan  aan als  \\\n",
       "3176         0.0             0.0                           0.0  0.0      0.0   \n",
       "3177         0.0             0.0                           0.0  0.0      0.0   \n",
       "3178         0.0             0.0                           0.0  0.0      0.0   \n",
       "3179         0.0             0.0                           0.0  0.0      0.0   \n",
       "3180         0.0             0.0                           0.0  0.0      0.0   \n",
       "\n",
       "      aan als de  aan andere  aan andere dat  aan anderen  aan anderen hoeft  \\\n",
       "3176         0.0         0.0             0.0          0.0                0.0   \n",
       "3177         0.0         0.0             0.0          0.0                0.0   \n",
       "3178         0.0         0.0             0.0          0.0                0.0   \n",
       "3179         0.0         0.0             0.0          0.0                0.0   \n",
       "3180         0.0         0.0             0.0          0.0                0.0   \n",
       "\n",
       "           ...         zwart op  zwart op wit  zweem  zweem van  \\\n",
       "3176       ...              0.0           0.0    0.0        0.0   \n",
       "3177       ...              0.0           0.0    0.0        0.0   \n",
       "3178       ...              0.0           0.0    0.0        0.0   \n",
       "3179       ...              0.0           0.0    0.0        0.0   \n",
       "3180       ...              0.0           0.0    0.0        0.0   \n",
       "\n",
       "      zweem van onbereikbaarheid  zyn  zyn ben  zyn ben aant  zyn voor  \\\n",
       "3176                         0.0  0.0      0.0           0.0       0.0   \n",
       "3177                         0.0  0.0      0.0           0.0       0.0   \n",
       "3178                         0.0  0.0      0.0           0.0       0.0   \n",
       "3179                         0.0  0.0      0.0           0.0       0.0   \n",
       "3180                         0.0  0.0      0.0           0.0       0.0   \n",
       "\n",
       "      zyn voor nieuwe  \n",
       "3176              0.0  \n",
       "3177              0.0  \n",
       "3178              0.0  \n",
       "3179              0.0  \n",
       "3180              0.0  \n",
       "\n",
       "[5 rows x 50160 columns]"
      ]
     },
     "execution_count": 35,
     "metadata": {},
     "output_type": "execute_result"
    }
   ],
   "source": [
    "tritfidf.tail()"
   ]
  },
  {
   "cell_type": "code",
   "execution_count": 36,
   "metadata": {
    "collapsed": true
   },
   "outputs": [],
   "source": [
    "def getTopValues(s):\n",
    "    tmp = s.sort_values(ascending=False)[:3]\n",
    "    return tuple(tmp.index) #dict(zip(tmp.index, tmp))"
   ]
  },
  {
   "cell_type": "code",
   "execution_count": 37,
   "metadata": {
    "collapsed": false
   },
   "outputs": [
    {
     "data": {
      "text/plain": [
       "3176              (er, zyn, geraakt)\n",
       "3177          (prijzen, lagere, zyn)\n",
       "3178               (essent, dat, of)\n",
       "3179    (leverancier, rekening, bij)\n",
       "3180         (duur, zyn, geschreven)\n",
       "dtype: object"
      ]
     },
     "execution_count": 37,
     "metadata": {},
     "output_type": "execute_result"
    }
   ],
   "source": [
    "onegrams.apply(getTopValues, axis=1).tail()"
   ]
  },
  {
   "cell_type": "markdown",
   "metadata": {},
   "source": [
    "---\n",
    "## Logistic Regression"
   ]
  },
  {
   "cell_type": "code",
   "execution_count": 100,
   "metadata": {
    "collapsed": false
   },
   "outputs": [],
   "source": [
    "from sklearn.model_selection import train_test_split\n",
    "trainX, validX, trainY, validY = train_test_split(tritfidf.as_matrix(), dataNL.label, train_size=0.7)"
   ]
  },
  {
   "cell_type": "code",
   "execution_count": 127,
   "metadata": {
    "collapsed": false
   },
   "outputs": [],
   "source": [
    "from sklearn.linear_model import LogisticRegression\n",
    "from sklearn.naive_bayes import GaussianNB\n",
    "from sklearn.linear_model import SGDClassifier\n",
    "from sklearn.svm import SVC\n",
    "from sklearn.tree import DecisionTreeClassifier\n",
    "from sklearn.ensemble import RandomForestClassifier\n",
    "from sklearn.ensemble import ExtraTreesClassifier\n",
    "\n",
    "lr = LogisticRegression()         # Logistic Regression\n",
    "nb = GaussianNB()                 # Gaussian Naive Bayes\n",
    "sd = SGDClassifier()              # Stochastic Gradient Descent\n",
    "dt = DecisionTreeClassifier()     # Decision Tree\n",
    "ft = RandomForestClassifier()     # Random Forrest Tree\n",
    "et = ExtraTreesClassifier()       # Extra Trees"
   ]
  },
  {
   "cell_type": "code",
   "execution_count": 128,
   "metadata": {
    "collapsed": false
   },
   "outputs": [
    {
     "data": {
      "text/plain": [
       "LogisticRegression(C=1.0, class_weight=None, dual=False, fit_intercept=True,\n",
       "          intercept_scaling=1, max_iter=100, multi_class='ovr', n_jobs=1,\n",
       "          penalty='l2', random_state=None, solver='liblinear', tol=0.0001,\n",
       "          verbose=0, warm_start=False)"
      ]
     },
     "execution_count": 128,
     "metadata": {},
     "output_type": "execute_result"
    }
   ],
   "source": [
    "lr.fit(trainX, trainY)\n",
    "#nb.fit(trainX, trainY)\n",
    "#sd.fit(trainX, trainY)\n",
    "#dt.fit(trainX, trainY)\n",
    "#ft.fit(trainX, trainY)\n",
    "#et.fit(trainX, trainY)"
   ]
  },
  {
   "cell_type": "code",
   "execution_count": 129,
   "metadata": {
    "collapsed": false
   },
   "outputs": [
    {
     "name": "stdout",
     "output_type": "stream",
     "text": [
      "0.702617801047\n"
     ]
    }
   ],
   "source": [
    "print(lr.score(validX, validY))\n",
    "#print(nb.score(validX, validY))\n",
    "#print(sd.score(validX, validY))\n",
    "#print(dt.score(validX, validY))\n",
    "#print(ft.score(validX, validY))\n",
    "#print(et.score(validX, validY))"
   ]
  },
  {
   "cell_type": "code",
   "execution_count": 130,
   "metadata": {
    "collapsed": false
   },
   "outputs": [
    {
     "name": "stdout",
     "output_type": "stream",
     "text": [
      "0.916891284816\n"
     ]
    }
   ],
   "source": [
    "print(lr.score(trainX, trainY))\n",
    "#print(nb.score(trainX, trainY))\n",
    "#print(sd.score(trainX, trainY))\n",
    "#print(dt.score(trainX, trainY))\n",
    "#print(ft.score(trainX, trainY))\n",
    "#print(et.score(trainX, trainY))"
   ]
  },
  {
   "cell_type": "code",
   "execution_count": 131,
   "metadata": {
    "collapsed": false
   },
   "outputs": [
    {
     "data": {
      "text/html": [
       "<div>\n",
       "<table border=\"1\" class=\"dataframe\">\n",
       "  <thead>\n",
       "    <tr style=\"text-align: right;\">\n",
       "      <th></th>\n",
       "      <th>label</th>\n",
       "      <th>text</th>\n",
       "      <th>predictions</th>\n",
       "    </tr>\n",
       "    <tr>\n",
       "      <th>Respondent</th>\n",
       "      <th></th>\n",
       "      <th></th>\n",
       "      <th></th>\n",
       "    </tr>\n",
       "  </thead>\n",
       "  <tbody>\n",
       "    <tr>\n",
       "      <th>8490</th>\n",
       "      <td>0</td>\n",
       "      <td>energiemarkt die van langs om meer opengaat en...</td>\n",
       "      <td>0</td>\n",
       "    </tr>\n",
       "    <tr>\n",
       "      <th>1047</th>\n",
       "      <td>0</td>\n",
       "      <td>weet ik echt niet</td>\n",
       "      <td>0</td>\n",
       "    </tr>\n",
       "    <tr>\n",
       "      <th>6506</th>\n",
       "      <td>1</td>\n",
       "      <td>nooit problemen en bij de voordeligste in belgie</td>\n",
       "      <td>1</td>\n",
       "    </tr>\n",
       "    <tr>\n",
       "      <th>3530</th>\n",
       "      <td>1</td>\n",
       "      <td>ik vind de goedkoopste prijs</td>\n",
       "      <td>1</td>\n",
       "    </tr>\n",
       "    <tr>\n",
       "      <th>2742</th>\n",
       "      <td>1</td>\n",
       "      <td>een goede dienst</td>\n",
       "      <td>1</td>\n",
       "    </tr>\n",
       "    <tr>\n",
       "      <th>2703</th>\n",
       "      <td>0</td>\n",
       "      <td>even als de anderen</td>\n",
       "      <td>0</td>\n",
       "    </tr>\n",
       "    <tr>\n",
       "      <th>3132</th>\n",
       "      <td>1</td>\n",
       "      <td>de mensen die aan de telefoon zitten zouden ju...</td>\n",
       "      <td>0</td>\n",
       "    </tr>\n",
       "    <tr>\n",
       "      <th>3703</th>\n",
       "      <td>0</td>\n",
       "      <td>de goedkoopste zijn bij de groepsaankoop van d...</td>\n",
       "      <td>0</td>\n",
       "    </tr>\n",
       "    <tr>\n",
       "      <th>8921</th>\n",
       "      <td>1</td>\n",
       "      <td>zelf voordeligere tarieven voorstellen ipv dat...</td>\n",
       "      <td>0</td>\n",
       "    </tr>\n",
       "    <tr>\n",
       "      <th>3614</th>\n",
       "      <td>0</td>\n",
       "      <td>doorgeven van prijsvergelijkingen meer communi...</td>\n",
       "      <td>0</td>\n",
       "    </tr>\n",
       "  </tbody>\n",
       "</table>\n",
       "</div>"
      ],
      "text/plain": [
       "            label                                               text  \\\n",
       "Respondent                                                             \n",
       "8490            0  energiemarkt die van langs om meer opengaat en...   \n",
       "1047            0                                  weet ik echt niet   \n",
       "6506            1   nooit problemen en bij de voordeligste in belgie   \n",
       "3530            1                       ik vind de goedkoopste prijs   \n",
       "2742            1                                   een goede dienst   \n",
       "2703            0                                even als de anderen   \n",
       "3132            1  de mensen die aan de telefoon zitten zouden ju...   \n",
       "3703            0  de goedkoopste zijn bij de groepsaankoop van d...   \n",
       "8921            1  zelf voordeligere tarieven voorstellen ipv dat...   \n",
       "3614            0  doorgeven van prijsvergelijkingen meer communi...   \n",
       "\n",
       "            predictions  \n",
       "Respondent               \n",
       "8490                  0  \n",
       "1047                  0  \n",
       "6506                  1  \n",
       "3530                  1  \n",
       "2742                  1  \n",
       "2703                  0  \n",
       "3132                  0  \n",
       "3703                  0  \n",
       "8921                  0  \n",
       "3614                  0  "
      ]
     },
     "execution_count": 131,
     "metadata": {},
     "output_type": "execute_result"
    }
   ],
   "source": [
    "predictions = dataNL.loc[validY[:10].index]\n",
    "predictions['predictions'] = lr.predict(validX[:10])\n",
    "predictions"
   ]
  },
  {
   "cell_type": "markdown",
   "metadata": {},
   "source": [
    "---\n",
    "## Neural Network"
   ]
  },
  {
   "cell_type": "markdown",
   "metadata": {},
   "source": [
    "---\n",
    "### Visualizer Functions\n",
    "These are some helper functions"
   ]
  },
  {
   "cell_type": "code",
   "execution_count": 47,
   "metadata": {
    "collapsed": false
   },
   "outputs": [],
   "source": [
    "def plotter(history):\n",
    "    at, av, lt, lv = zip(*history)\n",
    "    fig = plt.figure(figsize=(15, 8)); ax1 = fig.add_subplot(221); ax2 = fig.add_subplot(222)\n",
    "\n",
    "    ax1.plot(np.arange(0, len(at), 1), at,\".-\", color='#2A6EA6', label=\"Training: {0:.2f}%\".format(at[-1]))\n",
    "    ax1.plot(np.arange(0, len(av), 1), av,\".-\", color='#FFA933', label=\"Validation: {0:.2f}%\".format(av[-1]))\n",
    "    ax1.grid(True); ax1.legend(loc=\"lower right\"); ax1.set_title(\"Accuracy per epoch\")\n",
    "\n",
    "    ax2.plot(np.arange(0, len(lt), 1), lt,\".-\", color='#2A6EA6', label=\"Training: {0:.2f}\".format(lt[-1]))\n",
    "    ax2.plot(np.arange(0, len(lv), 1), lv,\".-\", color='#FFA933', label=\"Validation: {0:.2f}\".format(lv[-1]))\n",
    "    ax2.grid(True); ax2.legend(loc=\"upper right\"); ax2.set_title(\"Cost per epoch\")\n",
    "    plt.show()"
   ]
  },
  {
   "cell_type": "markdown",
   "metadata": {},
   "source": [
    "---\n",
    "### Data Preproccessing\n",
    "Reformat into a TensorFlow-friendly shape:\n",
    "- all input should be numpy\n",
    "- labels as float 1-hot encodings."
   ]
  },
  {
   "cell_type": "code",
   "execution_count": 48,
   "metadata": {
    "collapsed": false
   },
   "outputs": [
    {
     "name": "stdout",
     "output_type": "stream",
     "text": [
      "('Training set:', (3181, 50160), (3181,))\n"
     ]
    }
   ],
   "source": [
    "print('Training set:', twotfidf.shape, dataNL.label.shape)"
   ]
  },
  {
   "cell_type": "code",
   "execution_count": 49,
   "metadata": {
    "collapsed": true
   },
   "outputs": [],
   "source": [
    "data = twotfidf.values\n",
    "labels = pd.get_dummies(dataNL.label).values"
   ]
  },
  {
   "cell_type": "code",
   "execution_count": 50,
   "metadata": {
    "collapsed": false
   },
   "outputs": [
    {
     "name": "stdout",
     "output_type": "stream",
     "text": [
      "('Training set:', (3181, 50160), (3181, 2))\n"
     ]
    }
   ],
   "source": [
    "print('Training set:', data.shape, labels.shape)"
   ]
  },
  {
   "cell_type": "code",
   "execution_count": 51,
   "metadata": {
    "collapsed": true
   },
   "outputs": [],
   "source": [
    "from sklearn.model_selection import train_test_split\n",
    "trainX, validX, trainY, validY = train_test_split(data, labels, train_size=0.7)"
   ]
  },
  {
   "cell_type": "code",
   "execution_count": 52,
   "metadata": {
    "collapsed": false
   },
   "outputs": [
    {
     "name": "stdout",
     "output_type": "stream",
     "text": [
      "('Training set:', (2226, 50160), (2226, 2))\n",
      "('Validation set:', (955, 50160), (955, 2))\n"
     ]
    }
   ],
   "source": [
    "print('Training set:', trainX.shape, trainY.shape)\n",
    "print('Validation set:', validX.shape, validY.shape)"
   ]
  },
  {
   "cell_type": "code",
   "execution_count": 53,
   "metadata": {
    "collapsed": false
   },
   "outputs": [],
   "source": [
    "SIZE = trainX.shape[1]\n",
    "LABELS = 2\n",
    "BREAKS = 5\n",
    "BATCH = 64\n",
    "HIDDEN1 = 10\n",
    "RATE = 0.01\n",
    "STEPS = 100"
   ]
  },
  {
   "cell_type": "code",
   "execution_count": 54,
   "metadata": {
    "collapsed": true
   },
   "outputs": [],
   "source": [
    "graph = tf.Graph()\n",
    "with graph.as_default():\n",
    "\n",
    "    # Input data.\n",
    "    tfDataX = tf.placeholder(tf.float32, shape=(None, SIZE))\n",
    "    tfDataY = tf.placeholder(tf.float32, shape=(None, LABELS))\n",
    "\n",
    "    # Variables.\n",
    "    w1 = tf.Variable(tf.truncated_normal([SIZE, HIDDEN1], stddev=np.sqrt(2.0/SIZE)))\n",
    "    w2 = tf.Variable(tf.truncated_normal([HIDDEN1, LABELS], stddev=np.sqrt(2.0/SIZE)))\n",
    "    b1 = tf.Variable(tf.zeros([HIDDEN1]))\n",
    "    b2 = tf.Variable(tf.zeros([LABELS]))\n",
    "\n",
    "    # Model.\n",
    "    def model(x, training=False):\n",
    "        x = tf.nn.relu(tf.matmul(x, w1) + b1)\n",
    "        return tf.matmul(x, w2) + b2\n",
    "  \n",
    "    # Training computation.\n",
    "    logits = model(tfDataX, training=True)\n",
    "    loss = tf.reduce_mean(tf.nn.softmax_cross_entropy_with_logits(logits=logits, labels=tfDataY))\n",
    "    rate = tf.train.exponential_decay(0.5, tf.Variable(0), 4000, 0.65, staircase=True)\n",
    "    optimizer = tf.train.GradientDescentOptimizer(RATE).minimize(loss)\n",
    "\n",
    "    # Predictions and Accuracy.\n",
    "    predictions = {\"classes\": tf.argmax(model(tfDataX), axis=1),\"probabilities\": tf.nn.softmax(model(tfDataX))}\n",
    "    accuracy = tf.reduce_mean(tf.to_float(tf.equal(predictions[\"classes\"], tf.argmax(tfDataY, axis=1)))) * 100"
   ]
  },
  {
   "cell_type": "code",
   "execution_count": 55,
   "metadata": {
    "collapsed": false
   },
   "outputs": [
    {
     "name": "stdout",
     "output_type": "stream",
     "text": [
      ". . . . .\n"
     ]
    }
   ],
   "source": [
    "with tf.Session(graph=graph) as session:\n",
    "    tf.global_variables_initializer().run()\n",
    "    history = []\n",
    "    for step in range(STEPS):\n",
    "        offset = (step * BATCH) % (trainY.shape[0] - BATCH)\n",
    "        batchX = trainX[offset:(offset + BATCH), :]\n",
    "        batchY = trainY[offset:(offset + BATCH), :]\n",
    "        session.run(optimizer, {tfDataX: trainX, tfDataY: trainY})\n",
    "        if(step % (STEPS // BREAKS) == 0):\n",
    "            lt, at = session.run([loss, accuracy], {tfDataX: trainX, tfDataY: trainY})\n",
    "            lv, av = session.run([loss, accuracy], {tfDataX: validX, tfDataY: validY})\n",
    "            history.append((at, av, lt, lv))\n",
    "            print \".\",\n",
    "    predictions = session.run(predictions, {tfDataX: validX})\n",
    "    #accuracy = session.run(accuracy, {tfDataX: testX, tfDataY: testY})\n",
    "    #print('\\nTest accuracy: %.2f%%' % accuracy)"
   ]
  },
  {
   "cell_type": "code",
   "execution_count": 56,
   "metadata": {
    "collapsed": false
   },
   "outputs": [
    {
     "data": {
      "image/png": "[encoded data removed]",
      "text/plain": [
       "<matplotlib.figure.Figure at 0x1de656310>"
      ]
     },
     "metadata": {},
     "output_type": "display_data"
    }
   ],
   "source": [
    "plotter(history)"
   ]
  },
  {
   "cell_type": "code",
   "execution_count": null,
   "metadata": {
    "collapsed": true
   },
   "outputs": [],
   "source": []
  }
 ],
 "metadata": {
  "kernelspec": {
   "display_name": "Python 2",
   "language": "python",
   "name": "python2"
  },
  "language_info": {
   "codemirror_mode": {
    "name": "ipython",
    "version": 2
   },
   "file_extension": ".py",
   "mimetype": "text/x-python",
   "name": "python",
   "nbconvert_exporter": "python",
   "pygments_lexer": "ipython2",
   "version": "2.7.13"
  }
 },
 "nbformat": 4,
 "nbformat_minor": 2
}
