{
 "cells": [
  {
   "cell_type": "markdown",
   "metadata": {
    "colab_type": "text",
    "deletable": true,
    "editable": true,
    "id": "D7tqLMoKF6uq"
   },
   "source": [
    "Deep Learning\n",
    "=============\n",
    "\n",
    "Assignment 6\n",
    "------------\n",
    "\n",
    "After training a skip-gram model in `5_word2vec.ipynb`, the goal of this notebook is to train a LSTM character model over [Text8](http://mattmahoney.net/dc/textdata) data."
   ]
  },
  {
   "cell_type": "code",
   "execution_count": 1,
   "metadata": {
    "cellView": "both",
    "colab": {
     "autoexec": {
      "startup": false,
      "wait_interval": 0
     }
    },
    "colab_type": "code",
    "collapsed": true,
    "deletable": true,
    "editable": true,
    "id": "MvEblsgEXxrd"
   },
   "outputs": [],
   "source": [
    "# These are all the modules we'll be using later. Make sure you can import them\n",
    "# before proceeding further.\n",
    "from __future__ import print_function\n",
    "import os\n",
    "import numpy as np\n",
    "import random\n",
    "import string\n",
    "import tensorflow as tf\n",
    "import zipfile\n",
    "from six.moves import range\n",
    "from six.moves.urllib.request import urlretrieve"
   ]
  },
  {
   "cell_type": "code",
   "execution_count": 2,
   "metadata": {
    "cellView": "both",
    "colab": {
     "autoexec": {
      "startup": false,
      "wait_interval": 0
     },
     "output_extras": [
      {
       "item_id": 1
      }
     ]
    },
    "colab_type": "code",
    "collapsed": false,
    "deletable": true,
    "editable": true,
    "executionInfo": {
     "elapsed": 5993,
     "status": "ok",
     "timestamp": 1445965582896,
     "user": {
      "color": "#1FA15D",
      "displayName": "Vincent Vanhoucke",
      "isAnonymous": false,
      "isMe": true,
      "permissionId": "05076109866853157986",
      "photoUrl": "//lh6.googleusercontent.com/-cCJa7dTDcgQ/AAAAAAAAAAI/AAAAAAAACgw/r2EZ_8oYer4/s50-c-k-no/photo.jpg",
      "sessionId": "6f6f07b359200c46",
      "userId": "102167687554210253930"
     },
     "user_tz": 420
    },
    "id": "RJ-o3UBUFtCw",
    "outputId": "d530534e-0791-4a94-ca6d-1c8f1b908a9e"
   },
   "outputs": [
    {
     "name": "stdout",
     "output_type": "stream",
     "text": [
      "Found and verified text8.zip\n"
     ]
    }
   ],
   "source": [
    "url = 'http://mattmahoney.net/dc/'\n",
    "\n",
    "def maybe_download(filename, expected_bytes):\n",
    "    \"\"\"Download a file if not present, and make sure it's the right size.\"\"\"\n",
    "    if not os.path.exists(filename):\n",
    "        filename, _ = urlretrieve(url + filename, filename)\n",
    "    statinfo = os.stat(filename)\n",
    "    if statinfo.st_size == expected_bytes:\n",
    "        print('Found and verified %s' % filename)\n",
    "    else:\n",
    "        print(statinfo.st_size)\n",
    "        raise Exception('Failed to verify ' + filename + '. Can you get to it with a browser?')\n",
    "    return filename\n",
    "\n",
    "filename = maybe_download('text8.zip', 31344016)"
   ]
  },
  {
   "cell_type": "code",
   "execution_count": 3,
   "metadata": {
    "cellView": "both",
    "colab": {
     "autoexec": {
      "startup": false,
      "wait_interval": 0
     },
     "output_extras": [
      {
       "item_id": 1
      }
     ]
    },
    "colab_type": "code",
    "collapsed": false,
    "deletable": true,
    "editable": true,
    "executionInfo": {
     "elapsed": 5982,
     "status": "ok",
     "timestamp": 1445965582916,
     "user": {
      "color": "#1FA15D",
      "displayName": "Vincent Vanhoucke",
      "isAnonymous": false,
      "isMe": true,
      "permissionId": "05076109866853157986",
      "photoUrl": "//lh6.googleusercontent.com/-cCJa7dTDcgQ/AAAAAAAAAAI/AAAAAAAACgw/r2EZ_8oYer4/s50-c-k-no/photo.jpg",
      "sessionId": "6f6f07b359200c46",
      "userId": "102167687554210253930"
     },
     "user_tz": 420
    },
    "id": "Mvf09fjugFU_",
    "outputId": "8f75db58-3862-404b-a0c3-799380597390"
   },
   "outputs": [
    {
     "name": "stdout",
     "output_type": "stream",
     "text": [
      "Data size 100000000\n"
     ]
    }
   ],
   "source": [
    "def read_data(filename):\n",
    "    with zipfile.ZipFile(filename) as f:\n",
    "        name = f.namelist()[0]\n",
    "        data = tf.compat.as_str(f.read(name))\n",
    "    return data\n",
    "  \n",
    "text = read_data(filename)\n",
    "print('Data size %d' % len(text))"
   ]
  },
  {
   "cell_type": "markdown",
   "metadata": {
    "colab_type": "text",
    "deletable": true,
    "editable": true,
    "id": "ga2CYACE-ghb"
   },
   "source": [
    "Create a small validation set."
   ]
  },
  {
   "cell_type": "code",
   "execution_count": 4,
   "metadata": {
    "cellView": "both",
    "colab": {
     "autoexec": {
      "startup": false,
      "wait_interval": 0
     },
     "output_extras": [
      {
       "item_id": 1
      }
     ]
    },
    "colab_type": "code",
    "collapsed": false,
    "deletable": true,
    "editable": true,
    "executionInfo": {
     "elapsed": 6184,
     "status": "ok",
     "timestamp": 1445965583138,
     "user": {
      "color": "#1FA15D",
      "displayName": "Vincent Vanhoucke",
      "isAnonymous": false,
      "isMe": true,
      "permissionId": "05076109866853157986",
      "photoUrl": "//lh6.googleusercontent.com/-cCJa7dTDcgQ/AAAAAAAAAAI/AAAAAAAACgw/r2EZ_8oYer4/s50-c-k-no/photo.jpg",
      "sessionId": "6f6f07b359200c46",
      "userId": "102167687554210253930"
     },
     "user_tz": 420
    },
    "id": "w-oBpfFG-j43",
    "outputId": "bdb96002-d021-4379-f6de-a977924f0d02"
   },
   "outputs": [
    {
     "name": "stdout",
     "output_type": "stream",
     "text": [
      "99999000 ons anarchists advocate social relations based upon voluntary as\n",
      "1000  anarchism originated as a term of abuse first used against earl\n"
     ]
    }
   ],
   "source": [
    "valid_size = 1000\n",
    "valid_text = text[:valid_size]\n",
    "train_text = text[valid_size:]\n",
    "train_size = len(train_text)\n",
    "print(train_size, train_text[:64])\n",
    "print(valid_size, valid_text[:64])"
   ]
  },
  {
   "cell_type": "markdown",
   "metadata": {
    "colab_type": "text",
    "deletable": true,
    "editable": true,
    "id": "Zdw6i4F8glpp"
   },
   "source": [
    "Utility functions to map characters to vocabulary IDs and back."
   ]
  },
  {
   "cell_type": "code",
   "execution_count": 5,
   "metadata": {
    "cellView": "both",
    "colab": {
     "autoexec": {
      "startup": false,
      "wait_interval": 0
     },
     "output_extras": [
      {
       "item_id": 1
      }
     ]
    },
    "colab_type": "code",
    "collapsed": false,
    "deletable": true,
    "editable": true,
    "executionInfo": {
     "elapsed": 6276,
     "status": "ok",
     "timestamp": 1445965583249,
     "user": {
      "color": "#1FA15D",
      "displayName": "Vincent Vanhoucke",
      "isAnonymous": false,
      "isMe": true,
      "permissionId": "05076109866853157986",
      "photoUrl": "//lh6.googleusercontent.com/-cCJa7dTDcgQ/AAAAAAAAAAI/AAAAAAAACgw/r2EZ_8oYer4/s50-c-k-no/photo.jpg",
      "sessionId": "6f6f07b359200c46",
      "userId": "102167687554210253930"
     },
     "user_tz": 420
    },
    "id": "gAL1EECXeZsD",
    "outputId": "88fc9032-feb9-45ff-a9a0-a26759cc1f2e"
   },
   "outputs": [
    {
     "name": "stdout",
     "output_type": "stream",
     "text": [
      "Unexpected character: ï\n",
      "1 26 0 0\n",
      "a z  \n"
     ]
    }
   ],
   "source": [
    "VOCAB = len(string.ascii_lowercase) + 1 # [a-z] + ' '\n",
    "firstLetter = ord(string.ascii_lowercase[0])\n",
    "\n",
    "def char2id(char):\n",
    "    if char in string.ascii_lowercase:\n",
    "        return ord(char) - firstLetter + 1\n",
    "    elif char == ' ':\n",
    "        return 0\n",
    "    else:\n",
    "        print('Unexpected character: %s' % char)\n",
    "    return 0\n",
    "\n",
    "def id2char(dictid):\n",
    "    if dictid > 0:\n",
    "        return chr(dictid + firstLetter - 1)\n",
    "    else:\n",
    "        return ' '\n",
    "\n",
    "print(char2id('a'), char2id('z'), char2id(' '), char2id('ï'))\n",
    "print(id2char(1), id2char(26), id2char(0))"
   ]
  },
  {
   "cell_type": "markdown",
   "metadata": {
    "colab_type": "text",
    "deletable": true,
    "editable": true,
    "id": "lFwoyygOmWsL"
   },
   "source": [
    "Function to generate a training batch for the LSTM model."
   ]
  },
  {
   "cell_type": "code",
   "execution_count": 6,
   "metadata": {
    "cellView": "both",
    "colab": {
     "autoexec": {
      "startup": false,
      "wait_interval": 0
     },
     "output_extras": [
      {
       "item_id": 1
      }
     ]
    },
    "colab_type": "code",
    "collapsed": false,
    "deletable": true,
    "editable": true,
    "executionInfo": {
     "elapsed": 6473,
     "status": "ok",
     "timestamp": 1445965583467,
     "user": {
      "color": "#1FA15D",
      "displayName": "Vincent Vanhoucke",
      "isAnonymous": false,
      "isMe": true,
      "permissionId": "05076109866853157986",
      "photoUrl": "//lh6.googleusercontent.com/-cCJa7dTDcgQ/AAAAAAAAAAI/AAAAAAAACgw/r2EZ_8oYer4/s50-c-k-no/photo.jpg",
      "sessionId": "6f6f07b359200c46",
      "userId": "102167687554210253930"
     },
     "user_tz": 420
    },
    "id": "d9wMtjy5hCj9",
    "outputId": "3dd79c80-454a-4be0-8b71-4a4a357b3367"
   },
   "outputs": [
    {
     "name": "stdout",
     "output_type": "stream",
     "text": [
      "['ons anarchi', 'when milita', 'lleria arch', ' abbeys and', 'married urr', 'hel and ric', 'y and litur', 'ay opened f', 'tion from t', 'migration t', 'new york ot', 'he boeing s', 'e listed wi', 'eber has pr', 'o be made t', 'yer who rec', 'ore signifi', 'a fierce cr', ' two six ei', 'aristotle s', 'ity can be ', ' and intrac', 'tion of the', 'dy to pass ', 'f certain d', 'at it will ', 'e convince ', 'ent told hi', 'ampaign and', 'rver side s', 'ious texts ', 'o capitaliz', 'a duplicate', 'gh ann es d', 'ine january', 'ross zero t', 'cal theorie', 'ast instanc', ' dimensiona', 'most holy m', 't s support', 'u is still ', 'e oscillati', 'o eight sub', 'of italy la', 's the tower', 'klahoma pre', 'erprise lin', 'ws becomes ', 'et in a naz', 'the fabian ', 'etchy to re', ' sharman ne', 'ised empero', 'ting in pol', 'd neo latin', 'th risky ri', 'encyclopedi', 'fense the a', 'duating fro', 'treet grid ', 'ations more', 'appeal of d', 'si have mad']\n",
      "['ists advoca', 'ary governm', 'hes nationa', 'd monasteri', 'raca prince', 'chard baer ', 'rgical lang', 'for passeng', 'the nationa', 'took place ', 'ther well k', 'seven six s', 'ith a gloss', 'robably bee', 'to recogniz', 'ceived the ', 'icant than ', 'ritic of th', 'ight in sig', 's uncaused ', ' lost as in', 'cellular ic', 'e size of t', ' him a stic', 'drugs confu', ' take to co', ' the priest', 'im to name ', 'd barred at', 'standard fo', ' such as es', 'ze on the g', 'e of the or', 'd hiver one', 'y eight mar', 'the lead ch', 'es classica', 'ce the non ', 'al analysis', 'mormons bel', 't or at lea', ' disagreed ', 'ing system ', 'btypes base', 'anguages th', 'r commissio', 'ess one nin', 'nux suse li', ' the first ', 'zi concentr', ' society ne', 'elatively s', 'etworks sha', 'or hirohito', 'litical ini', 'n most of t', 'iskerdoo ri', 'ic overview', 'air compone', 'om acnm acc', ' centerline', 'e than any ', 'devotional ', 'de such dev']\n",
      "[' a']\n",
      "['an']\n"
     ]
    }
   ],
   "source": [
    "BATCH = 64\n",
    "UNROLLINGS =10\n",
    "\n",
    "class BatchGenerator(object):\n",
    "    def __init__(self, text, BATCH, UNROLLINGS):\n",
    "        self._text = text\n",
    "        self._text_size = len(text)\n",
    "        self._batch_size = BATCH\n",
    "        self._num_unrollings = UNROLLINGS\n",
    "        segment = self._text_size // BATCH\n",
    "        self._cursor = [ offset * segment for offset in range(BATCH)]\n",
    "        self._last_batch = self._next_batch()\n",
    "  \n",
    "    def _next_batch(self):\n",
    "        \"\"\"Generate a single batch from the current cursor position in the data.\"\"\"\n",
    "        batch = np.zeros(shape=(self._batch_size, VOCAB), dtype=np.float)\n",
    "        for b in range(self._batch_size):\n",
    "            batch[b, char2id(self._text[self._cursor[b]])] = 1.0\n",
    "            self._cursor[b] = (self._cursor[b] + 1) % self._text_size\n",
    "        return batch\n",
    "  \n",
    "    def next(self):\n",
    "        \"\"\"Generate the next array of batches from the data. The array consists of\n",
    "        the last batch of the previous array, followed by num_unrollings new ones.\n",
    "        \"\"\"\n",
    "        batches = [self._last_batch]\n",
    "        for step in range(self._num_unrollings):\n",
    "            batches.append(self._next_batch())\n",
    "        self._last_batch = batches[-1]\n",
    "        return batches\n",
    "\n",
    "def characters(probabilities):\n",
    "    \"\"\"Turn a 1-hot encoding or a probability distribution over the possible\n",
    "    characters back into its (most likely) character representation.\"\"\"\n",
    "    return [id2char(c) for c in np.argmax(probabilities, 1)]\n",
    "\n",
    "def batches2string(batches):\n",
    "    \"\"\"Convert a sequence of batches back into their (most likely) string\n",
    "    representation.\"\"\"\n",
    "    s = [''] * batches[0].shape[0]\n",
    "    for b in batches:\n",
    "        s = [''.join(x) for x in zip(s, characters(b))]\n",
    "    return s\n",
    "\n",
    "train_batches = BatchGenerator(train_text, BATCH, UNROLLINGS)\n",
    "valid_batches = BatchGenerator(valid_text, 1, 1)\n",
    "\n",
    "print(batches2string(train_batches.next()))\n",
    "print(batches2string(train_batches.next()))\n",
    "print(batches2string(valid_batches.next()))\n",
    "print(batches2string(valid_batches.next()))"
   ]
  },
  {
   "cell_type": "code",
   "execution_count": 7,
   "metadata": {
    "cellView": "both",
    "colab": {
     "autoexec": {
      "startup": false,
      "wait_interval": 0
     }
    },
    "colab_type": "code",
    "collapsed": true,
    "deletable": true,
    "editable": true,
    "id": "KyVd8FxT5QBc"
   },
   "outputs": [],
   "source": [
    "def logprob(predictions, labels):\n",
    "    \"\"\"Log-probability of the true labels in a predicted batch.\"\"\"\n",
    "    predictions[predictions < 1e-10] = 1e-10\n",
    "    return np.sum(np.multiply(labels, -np.log(predictions))) / labels.shape[0]\n",
    "\n",
    "def sample_distribution(distribution):\n",
    "    \"\"\"Sample one element from a distribution assumed to be an array of normalized\n",
    "    probabilities.\n",
    "    \"\"\"\n",
    "    r = random.uniform(0, 1)\n",
    "    s = 0\n",
    "    for i in range(len(distribution)):\n",
    "        s += distribution[i]\n",
    "        if s >= r:\n",
    "            return i\n",
    "    return len(distribution) - 1\n",
    "\n",
    "def sample(prediction):\n",
    "    \"\"\"Turn a (column) prediction into 1-hot encoded samples.\"\"\"\n",
    "    p = np.zeros(shape=[1, VOCAB], dtype=np.float)\n",
    "    p[0, sample_distribution(prediction[0])] = 1.0\n",
    "    return p\n",
    "\n",
    "def random_distribution():\n",
    "    \"\"\"Generate a random column of probabilities.\"\"\"\n",
    "    b = np.random.uniform(0.0, 1.0, size=[1, VOCAB])\n",
    "    return b / np.sum(b, 1)[:,None]"
   ]
  },
  {
   "cell_type": "markdown",
   "metadata": {
    "colab_type": "text",
    "deletable": true,
    "editable": true,
    "id": "K8f67YXaDr4C"
   },
   "source": [
    "## LSTM"
   ]
  },
  {
   "cell_type": "code",
   "execution_count": 8,
   "metadata": {
    "collapsed": true,
    "deletable": true,
    "editable": true
   },
   "outputs": [],
   "source": [
    "NODES = 64\n",
    "BATCH = 64\n",
    "UNROLLINGS = 10"
   ]
  },
  {
   "cell_type": "markdown",
   "metadata": {
    "deletable": true,
    "editable": true
   },
   "source": [
    "### Input data"
   ]
  },
  {
   "cell_type": "code",
   "execution_count": 23,
   "metadata": {
    "collapsed": false,
    "deletable": true,
    "editable": true
   },
   "outputs": [],
   "source": [
    "data = [tf.placeholder(tf.float32, shape=[BATCH, VOCAB]) for _ in range(UNROLLINGS + 1)]\n",
    "trainX = data[:UNROLLINGS]\n",
    "trainY = data[1:]  # labels are inputs shifted by one time step."
   ]
  },
  {
   "cell_type": "markdown",
   "metadata": {
    "deletable": true,
    "editable": true
   },
   "source": [
    "<img src=\"../Portfolio/img/lstm.png\" style=\"width: 600px;float:left\"/>"
   ]
  },
  {
   "cell_type": "markdown",
   "metadata": {
    "deletable": true,
    "editable": true
   },
   "source": [
    "### Forget Gate"
   ]
  },
  {
   "cell_type": "markdown",
   "metadata": {
    "deletable": true,
    "editable": true
   },
   "source": [
    "<img src=\"../Portfolio/img/forget.png\" style=\"width: 600px;float:left\"/>"
   ]
  },
  {
   "cell_type": "code",
   "execution_count": 10,
   "metadata": {
    "collapsed": false,
    "deletable": true,
    "editable": true
   },
   "outputs": [],
   "source": [
    "wfH = tf.Variable(tf.truncated_normal([NODES, NODES], -0.1, 0.1))\n",
    "wfX = tf.Variable(tf.truncated_normal([VOCAB, NODES], -0.1, 0.1))\n",
    "bf = tf.Variable(tf.zeros([1, NODES]))"
   ]
  },
  {
   "cell_type": "markdown",
   "metadata": {
    "deletable": true,
    "editable": true
   },
   "source": [
    "### Input Gate and Memory Cell"
   ]
  },
  {
   "cell_type": "markdown",
   "metadata": {
    "deletable": true,
    "editable": true
   },
   "source": [
    "<img src=\"../Portfolio/img/input.png\" style=\"width: 600px;float:left\"/>"
   ]
  },
  {
   "cell_type": "code",
   "execution_count": 11,
   "metadata": {
    "collapsed": true,
    "deletable": true,
    "editable": true
   },
   "outputs": [],
   "source": [
    "wiH = tf.Variable(tf.truncated_normal([NODES, NODES], -0.1, 0.1))\n",
    "wiX = tf.Variable(tf.truncated_normal([VOCAB, NODES], -0.1, 0.1))\n",
    "bi = tf.Variable(tf.zeros([1, NODES]))"
   ]
  },
  {
   "cell_type": "code",
   "execution_count": 12,
   "metadata": {
    "collapsed": true,
    "deletable": true,
    "editable": true
   },
   "outputs": [],
   "source": [
    "wcH = tf.Variable(tf.truncated_normal([NODES, NODES], -0.1, 0.1))\n",
    "wcX = tf.Variable(tf.truncated_normal([VOCAB, NODES], -0.1, 0.1))\n",
    "bc = tf.Variable(tf.zeros([1, NODES]))"
   ]
  },
  {
   "cell_type": "markdown",
   "metadata": {
    "deletable": true,
    "editable": true
   },
   "source": [
    "### Output Gate"
   ]
  },
  {
   "cell_type": "markdown",
   "metadata": {
    "deletable": true,
    "editable": true
   },
   "source": [
    "<img src=\"../Portfolio/img/output.png\" style=\"width: 600px;float:left\"/>"
   ]
  },
  {
   "cell_type": "code",
   "execution_count": 13,
   "metadata": {
    "collapsed": true,
    "deletable": true,
    "editable": true
   },
   "outputs": [],
   "source": [
    "woH = tf.Variable(tf.truncated_normal([NODES, NODES], -0.1, 0.1))\n",
    "woX = tf.Variable(tf.truncated_normal([VOCAB, NODES], -0.1, 0.1))\n",
    "bo = tf.Variable(tf.zeros([1, NODES]))"
   ]
  },
  {
   "cell_type": "markdown",
   "metadata": {
    "deletable": true,
    "editable": true
   },
   "source": [
    "<img src=\"../Portfolio/img/update.png\" style=\"width: 600px;float:left\"/>"
   ]
  },
  {
   "cell_type": "code",
   "execution_count": 14,
   "metadata": {
    "collapsed": false,
    "deletable": true,
    "editable": true
   },
   "outputs": [],
   "source": [
    "def LSTM(inputX, outputH, state):\n",
    "    fGate = tf.sigmoid(tf.matmul(outputH, wfH) + tf.matmul(inputX, wfX) + bf)\n",
    "    iGate = tf.sigmoid(tf.matmul(outputH, wiH) + tf.matmul(inputX, wiX) + bi)\n",
    "    oGate = tf.sigmoid(tf.matmul(outputH, woH) + tf.matmul(inputX, woX) + bo)\n",
    "    update = tf.tanh(tf.matmul(outputH, wcH) + tf.matmul(inputX, wcX) + bc)\n",
    "    state = fGate * state + iGate * tf.tanh(update)\n",
    "    output = oGate * tf.tanh(state)\n",
    "    return output, state"
   ]
  },
  {
   "cell_type": "code",
   "execution_count": 15,
   "metadata": {
    "collapsed": false
   },
   "outputs": [],
   "source": [
    "savedOutput = tf.Variable(tf.zeros([BATCH, NODES]), trainable=False)\n",
    "savedState = tf.Variable(tf.zeros([BATCH, NODES]), trainable=False)\n",
    "\n",
    "# Unrolled LSTM loop.\n",
    "outputs = list()\n",
    "outputH = savedOutput\n",
    "state = savedState\n",
    "for inputX in trainX:\n",
    "    output, state = LSTM(inputX, outputH, state)\n",
    "    outputs.append(output)"
   ]
  },
  {
   "cell_type": "code",
   "execution_count": 16,
   "metadata": {
    "collapsed": true
   },
   "outputs": [],
   "source": [
    "# Classifier weights and biases.\n",
    "w = tf.Variable(tf.truncated_normal([NODES, VOCAB], -0.1, 0.1))\n",
    "b = tf.Variable(tf.zeros([VOCAB]))\n",
    "\n",
    "# State saving across unrollings.\n",
    "with tf.control_dependencies([savedOutput.assign(outputH), savedState.assign(state)]):\n",
    "    # Classifier.\n",
    "    logits = tf.nn.xw_plus_b(tf.concat(outputs, 0), w, b)\n",
    "    loss = tf.reduce_mean(tf.nn.softmax_cross_entropy_with_logits(labels=tf.concat(trainY, 0), logits=logits))"
   ]
  },
  {
   "cell_type": "code",
   "execution_count": 18,
   "metadata": {
    "collapsed": false,
    "deletable": true,
    "editable": true
   },
   "outputs": [],
   "source": [
    "# Optimizer.\n",
    "global_step = tf.Variable(0)\n",
    "learning_rate = tf.train.exponential_decay(10.0, global_step, 5000, 0.1, staircase=True)\n",
    "optimizer = tf.train.GradientDescentOptimizer(learning_rate)\n",
    "gradients, v = zip(*optimizer.compute_gradients(loss))\n",
    "gradients, _ = tf.clip_by_global_norm(gradients, 1.25)\n",
    "optimizer = optimizer.apply_gradients(zip(gradients, v), global_step=global_step)\n",
    "\n",
    "# Predictions.\n",
    "train_prediction = tf.nn.softmax(logits)\n",
    "\n",
    "# Sampling and validation eval: batch 1, no unrolling.\n",
    "sample_input = tf.placeholder(tf.float32, shape=[1, VOCAB])\n",
    "saved_sample_output = tf.Variable(tf.zeros([1, NODES]))\n",
    "saved_sample_state = tf.Variable(tf.zeros([1, NODES]))\n",
    "reset_sample_state = tf.group(saved_sample_output.assign(tf.zeros([1, NODES])), saved_sample_state.assign(tf.zeros([1, NODES])))\n",
    "sample_output, sample_state = LSTM(sample_input, saved_sample_output, saved_sample_state)\n",
    "with tf.control_dependencies([saved_sample_output.assign(sample_output), saved_sample_state.assign(sample_state)]):\n",
    "    sample_prediction = tf.nn.softmax(tf.nn.xw_plus_b(sample_output, w, b))"
   ]
  },
  {
   "cell_type": "markdown",
   "metadata": {},
   "source": [
    "## Training"
   ]
  },
  {
   "cell_type": "code",
   "execution_count": 19,
   "metadata": {
    "collapsed": false,
    "deletable": true,
    "editable": true,
    "scrolled": true
   },
   "outputs": [
    {
     "name": "stdout",
     "output_type": "stream",
     "text": [
      "Initialized\n",
      "Average loss at step 0: 3.300707 learning rate: 10.000000\n",
      "Minibatch perplexity: 27.13\n",
      "================================================================================\n",
      "qqjf ljwubn wzxe o uansnzmk rgeynnwjak s ii ycnc ltlkjxxfeezfiye wznivlamasthlro\n",
      "sinfrsmcvvvehpfquonixtqxvp vbugivmzgyvjudymtqvrfcwmrs lieoshjaizm iiwt miurrho g\n",
      "l xwf x xbtt lunfe i dvpedubefis tesg yl dizze phfehfp ixvrizsyesajhxrlinap hvjy\n",
      "fse t rnzimzlfbaw ey ue  aft bvzwtimz iantaikrhhihn azywitnwinyrttlmtbnmtstlrrth\n",
      "o zw qgugcosinryuxuutjmcfblrsdtrlgzfofdopi cekitw ic dtjsooctsuniwo ymewwxufin  \n",
      "================================================================================\n",
      "Validation set perplexity: 20.41\n",
      "Average loss at step 100: 2.663669 learning rate: 10.000000\n",
      "Minibatch perplexity: 12.60\n",
      "Validation set perplexity: 12.64\n",
      "Average loss at step 200: 2.411752 learning rate: 10.000000\n",
      "Minibatch perplexity: 10.60\n",
      "Validation set perplexity: 10.79\n",
      "Average loss at step 300: 2.344332 learning rate: 10.000000\n",
      "Minibatch perplexity: 9.60\n",
      "Validation set perplexity: 10.61\n",
      "Average loss at step 400: 2.292584 learning rate: 10.000000\n",
      "Minibatch perplexity: 9.62\n",
      "Validation set perplexity: 10.77\n",
      "Average loss at step 500: 2.260144 learning rate: 10.000000\n",
      "Minibatch perplexity: 8.54\n",
      "Validation set perplexity: 10.18\n",
      "Average loss at step 600: 2.240538 learning rate: 10.000000\n",
      "Minibatch perplexity: 8.76\n",
      "Validation set perplexity: 10.35\n",
      "Average loss at step 700: 2.201879 learning rate: 10.000000\n",
      "Minibatch perplexity: 9.18\n",
      "Validation set perplexity: 10.32\n",
      "Average loss at step 800: 2.185672 learning rate: 10.000000\n",
      "Minibatch perplexity: 8.91\n",
      "Validation set perplexity: 9.67\n",
      "Average loss at step 900: 2.183388 learning rate: 10.000000\n",
      "Minibatch perplexity: 9.63\n",
      "Validation set perplexity: 9.47\n",
      "Average loss at step 1000: 2.179288 learning rate: 10.000000\n",
      "Minibatch perplexity: 8.45\n",
      "================================================================================\n",
      "riain ampef seme the of froud revaue e wsed op frupe ofen walin romme hute fit d\n",
      "se no fougule ors of unaz in wen on en beterm he seve inaghto pealricth he phe d\n",
      "enints whe wase he eve in asuy elpeste cali siclurelly liguth warn d kingh denon\n",
      "quame ide al the ishu aurg forkeate the led of stseden feit kry off refill suray\n",
      "che aticke calt reas einn hit ase feroll the bealo ferixe cof six an rearome alk\n",
      "================================================================================\n",
      "Validation set perplexity: 9.58\n",
      "Average loss at step 1100: 2.139796 learning rate: 10.000000\n",
      "Minibatch perplexity: 8.11\n",
      "Validation set perplexity: 9.30\n",
      "Average loss at step 1200: 2.110355 learning rate: 10.000000\n",
      "Minibatch perplexity: 7.55\n",
      "Validation set perplexity: 9.00\n",
      "Average loss at step 1300: 2.099186 learning rate: 10.000000\n",
      "Minibatch perplexity: 8.51\n",
      "Validation set perplexity: 9.16\n",
      "Average loss at step 1400: 2.098226 learning rate: 10.000000\n",
      "Minibatch perplexity: 8.28\n",
      "Validation set perplexity: 8.77\n",
      "Average loss at step 1500: 2.102614 learning rate: 10.000000\n",
      "Minibatch perplexity: 6.82\n",
      "Validation set perplexity: 8.79\n",
      "Average loss at step 1600: 2.093066 learning rate: 10.000000\n",
      "Minibatch perplexity: 7.88\n",
      "Validation set perplexity: 9.03\n",
      "Average loss at step 1700: 2.071799 learning rate: 10.000000\n",
      "Minibatch perplexity: 8.20\n",
      "Validation set perplexity: 8.67\n",
      "Average loss at step 1800: 2.035152 learning rate: 10.000000\n",
      "Minibatch perplexity: 7.88\n",
      "Validation set perplexity: 9.38\n",
      "Average loss at step 1900: 2.016127 learning rate: 10.000000\n",
      "Minibatch perplexity: 7.53\n",
      "Validation set perplexity: 9.06\n",
      "Average loss at step 2000: 2.059872 learning rate: 10.000000\n",
      "Minibatch perplexity: 8.33\n",
      "================================================================================\n",
      "dese hadiles cour fomnudiods ters wattme eight one inastintur modixper natingual\n",
      "lyustinanoning on dastedinginef luces fie itive piras uthrimaingdision is is bis\n",
      "y lecicabsed indernins so gigthate sudion vise wereningets siz kleped tewoly whe\n",
      "liven gatry woe veorpistiznadingency one drosapliviedd berim mpian in nine ex te\n",
      "ysaby his fim ingh pas in afer ivactrys otcoulded hes signal byem hat secsumanu \n",
      "================================================================================\n",
      "Validation set perplexity: 8.55\n",
      "Average loss at step 2100: 2.058360 learning rate: 10.000000\n",
      "Minibatch perplexity: 7.45\n",
      "Validation set perplexity: 8.32\n",
      "Average loss at step 2200: 2.049452 learning rate: 10.000000\n",
      "Minibatch perplexity: 8.89\n",
      "Validation set perplexity: 8.38\n",
      "Average loss at step 2300: 2.011766 learning rate: 10.000000\n",
      "Minibatch perplexity: 7.12\n",
      "Validation set perplexity: 8.34\n",
      "Average loss at step 2400: 2.023936 learning rate: 10.000000\n",
      "Minibatch perplexity: 7.10\n",
      "Validation set perplexity: 8.17\n",
      "Average loss at step 2500: 2.026065 learning rate: 10.000000\n",
      "Minibatch perplexity: 7.57\n",
      "Validation set perplexity: 7.89\n",
      "Average loss at step 2600: 2.011524 learning rate: 10.000000\n",
      "Minibatch perplexity: 8.03\n",
      "Validation set perplexity: 7.82\n",
      "Average loss at step 2700: 2.013364 learning rate: 10.000000\n",
      "Minibatch perplexity: 6.57\n",
      "Validation set perplexity: 7.93\n",
      "Average loss at step 2800: 2.005289 learning rate: 10.000000\n",
      "Minibatch perplexity: 7.94\n",
      "Validation set perplexity: 7.77\n",
      "Average loss at step 2900: 1.998856 learning rate: 10.000000\n",
      "Minibatch perplexity: 7.72\n",
      "Validation set perplexity: 7.95\n",
      "Average loss at step 3000: 1.991784 learning rate: 10.000000\n",
      "Minibatch perplexity: 7.15\n",
      "================================================================================\n",
      "ftratingal in jobspeond sevess aughide las picaution neve undench anly symetwo i\n",
      "knorgize siden wath threes v corm orcicish of riglan termand metirikist instiang\n",
      "e of arves the nin wo mader solly i am uploly of ace pecless astron ofigh ader f\n",
      "cles are one san golan amed it he wit ar padingss stackan of dectidy two is whig\n",
      "corical fauted whilase spakingassiscarcaund whicall rut for colan bew it it one \n",
      "================================================================================\n",
      "Validation set perplexity: 7.73\n",
      "Average loss at step 3100: 1.971234 learning rate: 10.000000\n",
      "Minibatch perplexity: 8.14\n",
      "Validation set perplexity: 7.76\n",
      "Average loss at step 3200: 1.988646 learning rate: 10.000000\n",
      "Minibatch perplexity: 8.74\n",
      "Validation set perplexity: 7.75\n",
      "Average loss at step 3300: 1.982487 learning rate: 10.000000\n",
      "Minibatch perplexity: 7.24\n",
      "Validation set perplexity: 7.62\n",
      "Average loss at step 3400: 2.015271 learning rate: 10.000000\n",
      "Minibatch perplexity: 7.39\n",
      "Validation set perplexity: 7.75\n",
      "Average loss at step 3500: 1.997076 learning rate: 10.000000\n",
      "Minibatch perplexity: 7.65\n",
      "Validation set perplexity: 7.76\n",
      "Average loss at step 3600: 2.000256 learning rate: 10.000000\n",
      "Minibatch perplexity: 6.44\n",
      "Validation set perplexity: 7.61\n",
      "Average loss at step 3700: 1.984753 learning rate: 10.000000\n",
      "Minibatch perplexity: 7.23\n",
      "Validation set perplexity: 7.54\n",
      "Average loss at step 3800: 1.967246 learning rate: 10.000000\n",
      "Minibatch perplexity: 7.72\n",
      "Validation set perplexity: 7.71\n",
      "Average loss at step 3900: 1.975035 learning rate: 10.000000\n",
      "Minibatch perplexity: 6.88\n",
      "Validation set perplexity: 7.66\n",
      "Average loss at step 4000: 1.981748 learning rate: 10.000000\n",
      "Minibatch perplexity: 6.97\n",
      "================================================================================\n",
      "st wirch ferm cannturikasiking femail bhak coupl ind arduder ofllos grem maition\n",
      "hentor maught prominco puchta sperecelty of cive feder reigs height wherwo ropha\n",
      "rivme one nine zero zero fars beample zerered recentso whiz sppentog ext ceakers\n",
      "feder zero zero fic faloonse one feary togat the relbersiong gatexcomphintionate\n",
      "fems serari s hoke eight grophresagy abrgeey pences twor grican mero th sespunse\n",
      "================================================================================\n",
      "Validation set perplexity: 7.72\n",
      "Average loss at step 4100: 1.967019 learning rate: 10.000000\n",
      "Minibatch perplexity: 6.93\n",
      "Validation set perplexity: 7.67\n",
      "Average loss at step 4200: 1.970493 learning rate: 10.000000\n",
      "Minibatch perplexity: 7.01\n",
      "Validation set perplexity: 7.44\n",
      "Average loss at step 4300: 1.958305 learning rate: 10.000000\n",
      "Minibatch perplexity: 7.16\n",
      "Validation set perplexity: 7.32\n",
      "Average loss at step 4400: 1.959878 learning rate: 10.000000\n",
      "Minibatch perplexity: 7.06\n",
      "Validation set perplexity: 7.37\n",
      "Average loss at step 4500: 1.949243 learning rate: 10.000000\n",
      "Minibatch perplexity: 7.13\n",
      "Validation set perplexity: 7.46\n",
      "Average loss at step 4600: 1.947132 learning rate: 10.000000\n",
      "Minibatch perplexity: 6.80\n",
      "Validation set perplexity: 7.73\n",
      "Average loss at step 4700: 1.970908 learning rate: 10.000000\n",
      "Minibatch perplexity: 7.31\n",
      "Validation set perplexity: 7.34\n",
      "Average loss at step 4800: 1.957743 learning rate: 10.000000\n",
      "Minibatch perplexity: 6.29\n",
      "Validation set perplexity: 7.32\n",
      "Average loss at step 4900: 1.966406 learning rate: 10.000000\n",
      "Minibatch perplexity: 6.72\n",
      "Validation set perplexity: 7.50\n",
      "Average loss at step 5000: 1.924808 learning rate: 1.000000\n",
      "Minibatch perplexity: 6.52\n",
      "================================================================================\n",
      "x lave nine of the with hat in pustave fal a somprest woldubine shenratefterul z\n",
      "luand beto oul sis ompors sibal ro krowk be lased sain ame coant whand cominke f\n",
      "fooundenty sef ares comber doanted nominjere smives ofe nine milabe unther frora\n",
      "frotman onine kuntued be the sextae of one zeres one dopen by bets ims ine thage\n",
      "ion by ch otdustath with acors plaweer s cillod birkine prost the mous mibloon s\n",
      "================================================================================\n",
      "Validation set perplexity: 7.52\n",
      "Average loss at step 5100: 1.938437 learning rate: 1.000000\n",
      "Minibatch perplexity: 7.03\n",
      "Validation set perplexity: 7.24\n",
      "Average loss at step 5200: 1.937669 learning rate: 1.000000\n",
      "Minibatch perplexity: 6.72\n",
      "Validation set perplexity: 7.17\n",
      "Average loss at step 5300: 1.913030 learning rate: 1.000000\n",
      "Minibatch perplexity: 6.11\n",
      "Validation set perplexity: 7.21\n",
      "Average loss at step 5400: 1.914836 learning rate: 1.000000\n",
      "Minibatch perplexity: 7.26\n",
      "Validation set perplexity: 7.20\n",
      "Average loss at step 5500: 1.921673 learning rate: 1.000000\n",
      "Minibatch perplexity: 7.16\n",
      "Validation set perplexity: 7.14\n",
      "Average loss at step 5600: 1.933500 learning rate: 1.000000\n",
      "Minibatch perplexity: 6.76\n",
      "Validation set perplexity: 7.19\n",
      "Average loss at step 5700: 1.923554 learning rate: 1.000000\n",
      "Minibatch perplexity: 6.10\n",
      "Validation set perplexity: 7.17\n",
      "Average loss at step 5800: 1.922388 learning rate: 1.000000\n",
      "Minibatch perplexity: 6.88\n",
      "Validation set perplexity: 7.19\n",
      "Average loss at step 5900: 1.923586 learning rate: 1.000000\n",
      "Minibatch perplexity: 6.94\n",
      "Validation set perplexity: 7.16\n",
      "Average loss at step 6000: 1.900160 learning rate: 1.000000\n",
      "Minibatch perplexity: 7.24\n",
      "================================================================================\n",
      "quettrain in cotery cort fiver arke as mare any insbear marenods ofre the dimal \n",
      "becy brely the one and one ete of a thrus hand hawre wineht repoperts marhickly \n",
      "jed bynow isth fulll no nintine the minity alpo three greit found terain othattl\n",
      "n theider the hans omplel inisffede foriv foffender becautiotioused bocologooghy\n",
      "ars ben doen nine fullwan two nisee elser jects forment fen zero hreenct est to \n",
      "================================================================================\n",
      "Validation set perplexity: 7.20\n",
      "Average loss at step 6100: 1.911384 learning rate: 1.000000\n",
      "Minibatch perplexity: 7.10\n",
      "Validation set perplexity: 7.18\n",
      "Average loss at step 6200: 1.887278 learning rate: 1.000000\n",
      "Minibatch perplexity: 6.99\n",
      "Validation set perplexity: 7.18\n",
      "Average loss at step 6300: 1.898013 learning rate: 1.000000\n",
      "Minibatch perplexity: 6.47\n",
      "Validation set perplexity: 7.18\n",
      "Average loss at step 6400: 1.881919 learning rate: 1.000000\n",
      "Minibatch perplexity: 6.45\n",
      "Validation set perplexity: 7.20\n",
      "Average loss at step 6500: 1.909114 learning rate: 1.000000\n",
      "Minibatch perplexity: 6.74\n",
      "Validation set perplexity: 7.16\n",
      "Average loss at step 6600: 1.934757 learning rate: 1.000000\n",
      "Minibatch perplexity: 6.41\n",
      "Validation set perplexity: 7.17\n",
      "Average loss at step 6700: 1.922598 learning rate: 1.000000\n",
      "Minibatch perplexity: 7.26\n",
      "Validation set perplexity: 7.18\n",
      "Average loss at step 6800: 1.944446 learning rate: 1.000000\n",
      "Minibatch perplexity: 6.66\n",
      "Validation set perplexity: 7.16\n",
      "Average loss at step 6900: 1.922872 learning rate: 1.000000\n",
      "Minibatch perplexity: 6.86\n",
      "Validation set perplexity: 7.23\n",
      "Average loss at step 7000: 1.926010 learning rate: 1.000000\n",
      "Minibatch perplexity: 7.23\n",
      "================================================================================\n",
      "s elt six dcuribles revantional pres and an whouthat the wakither comy sty the s\n",
      "joheypredile eight therisocyr eign tark balthent with zero accomed off clites fi\n",
      "quir sign ase laternh condines one conold dectorizno ov band onne neacting raute\n",
      "encilencep ist merrochad collkapons the the nine igunder v nine ostims ewe heign\n",
      "x of sight itst abulos the parishare ofteruse inned a ad tho pulat ushat jist ja\n",
      "================================================================================\n",
      "Validation set perplexity: 7.19\n"
     ]
    }
   ],
   "source": [
    "STEPS = 7001\n",
    "summary_frequency = 100\n",
    "\n",
    "init = tf.global_variables_initializer()\n",
    "session = tf.Session()\n",
    "session.run(init)\n",
    "\n",
    "print('Initialized')\n",
    "mean_loss = 0\n",
    "for step in range(STEPS):\n",
    "    batches = train_batches.next()\n",
    "    feed_dict = dict()\n",
    "    for i in range(UNROLLINGS + 1):\n",
    "        feed_dict[data[i]] = batches[i]\n",
    "    _, l, predictions, lr = session.run([optimizer, loss, train_prediction, learning_rate], feed_dict=feed_dict)\n",
    "    mean_loss += l\n",
    "    if step % summary_frequency == 0:\n",
    "        if step > 0:\n",
    "            mean_loss = mean_loss / summary_frequency\n",
    "            # The mean loss is an estimate of the loss over the last few batches.\n",
    "        print('Average loss at step %d: %f learning rate: %f' % (step, mean_loss, lr))\n",
    "        mean_loss = 0\n",
    "        labels = np.concatenate(list(batches)[1:])\n",
    "        print('Minibatch perplexity: %.2f' % float(np.exp(logprob(predictions, labels))))\n",
    "        if step % (summary_frequency * 10) == 0:\n",
    "            # Generate some samples.\n",
    "            print('=' * 80)\n",
    "            for _ in range(5):\n",
    "                feed = sample(random_distribution())\n",
    "                sentence = characters(feed)[0]\n",
    "                session.run(reset_sample_state)\n",
    "                for _ in range(79):\n",
    "                    prediction = session.run(sample_prediction, {sample_input: feed})\n",
    "                    feed = sample(prediction)\n",
    "                    sentence += characters(feed)[0]\n",
    "                print(sentence)\n",
    "            print('=' * 80)\n",
    "        # Measure validation set perplexity.\n",
    "        session.run(reset_sample_state)\n",
    "        valid_logprob = 0\n",
    "        for _ in range(valid_size):\n",
    "            b = valid_batches.next()\n",
    "            predictions = session.run(sample_prediction, {sample_input: b[0]})\n",
    "            valid_logprob = valid_logprob + logprob(predictions, b[1])\n",
    "        print('Validation set perplexity: %.2f' % float(np.exp(valid_logprob / valid_size)))"
   ]
  },
  {
   "cell_type": "markdown",
   "metadata": {
    "colab_type": "text",
    "deletable": true,
    "editable": true,
    "id": "pl4vtmFfa5nn"
   },
   "source": [
    "---\n",
    "Problem 1\n",
    "---------\n",
    "\n",
    "You might have noticed that the definition of the LSTM cell involves 4 matrix multiplications with the input, and 4 matrix multiplications with the output. Simplify the expression by using a single matrix multiply for each, and variables that are 4 times larger.\n",
    "\n",
    "---"
   ]
  },
  {
   "cell_type": "markdown",
   "metadata": {
    "colab_type": "text",
    "deletable": true,
    "editable": true,
    "id": "4eErTCTybtph"
   },
   "source": [
    "---\n",
    "Problem 2\n",
    "---------\n",
    "\n",
    "We want to train a LSTM over bigrams, that is pairs of consecutive characters like 'ab' instead of single characters like 'a'. Since the number of possible bigrams is large, feeding them directly to the LSTM using 1-hot encodings will lead to a very sparse representation that is very wasteful computationally.\n",
    "\n",
    "a- Introduce an embedding lookup on the inputs, and feed the embeddings to the LSTM cell instead of the inputs themselves.\n",
    "\n",
    "b- Write a bigram-based LSTM, modeled on the character LSTM above.\n",
    "\n",
    "c- Introduce Dropout. For best practices on how to use Dropout in LSTMs, refer to this [article](http://arxiv.org/abs/1409.2329).\n",
    "\n",
    "---"
   ]
  },
  {
   "cell_type": "markdown",
   "metadata": {
    "colab_type": "text",
    "deletable": true,
    "editable": true,
    "id": "Y5tapX3kpcqZ"
   },
   "source": [
    "---\n",
    "Problem 3\n",
    "---------\n",
    "\n",
    "(difficult!)\n",
    "\n",
    "Write a sequence-to-sequence LSTM which mirrors all the words in a sentence. For example, if your input is:\n",
    "\n",
    "    the quick brown fox\n",
    "    \n",
    "the model should attempt to output:\n",
    "\n",
    "    eht kciuq nworb xof\n",
    "    \n",
    "Refer to the lecture on how to put together a sequence-to-sequence model, as well as [this article](http://arxiv.org/abs/1409.3215) for best practices.\n",
    "\n",
    "---"
   ]
  }
 ],
 "metadata": {
  "colab": {
   "default_view": {},
   "name": "6_lstm.ipynb",
   "provenance": [],
   "version": "0.3.2",
   "views": {}
  },
  "kernelspec": {
   "display_name": "Python 2",
   "language": "python",
   "name": "python2"
  },
  "language_info": {
   "codemirror_mode": {
    "name": "ipython",
    "version": 2
   },
   "file_extension": ".py",
   "mimetype": "text/x-python",
   "name": "python",
   "nbconvert_exporter": "python",
   "pygments_lexer": "ipython2",
   "version": "2.7.13"
  }
 },
 "nbformat": 4,
 "nbformat_minor": 0
}
