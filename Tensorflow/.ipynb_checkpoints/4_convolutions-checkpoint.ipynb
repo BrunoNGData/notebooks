{
 "cells": [
  {
   "cell_type": "markdown",
   "metadata": {
    "colab_type": "text",
    "deletable": true,
    "editable": true,
    "id": "4embtkV0pNxM"
   },
   "source": [
    "Deep Learning\n",
    "=============\n",
    "\n",
    "Assignment 4\n",
    "------------\n",
    "\n",
    "Previously in `2_fullyconnected.ipynb` and `3_regularization.ipynb`, we trained fully connected networks to classify [notMNIST](http://yaroslavvb.blogspot.com/2011/09/notmnist-dataset.html) characters.\n",
    "\n",
    "The goal of this assignment is to make the neural network convolutional."
   ]
  },
  {
   "cell_type": "code",
   "execution_count": 1,
   "metadata": {
    "cellView": "both",
    "colab": {
     "autoexec": {
      "startup": false,
      "wait_interval": 0
     }
    },
    "colab_type": "code",
    "collapsed": false,
    "deletable": true,
    "editable": true,
    "id": "tm2CQN_Cpwj0"
   },
   "outputs": [],
   "source": [
    "# These are all the modules we'll be using later. Make sure you can import them before proceeding further.\n",
    "import numpy as np\n",
    "import tensorflow as tf\n",
    "import matplotlib.pyplot as plt\n",
    "from six.moves import cPickle as pickle\n",
    "from six.moves import range"
   ]
  },
  {
   "cell_type": "code",
   "execution_count": 2,
   "metadata": {
    "cellView": "both",
    "colab": {
     "autoexec": {
      "startup": false,
      "wait_interval": 0
     },
     "output_extras": [
      {
       "item_id": 1
      }
     ]
    },
    "colab_type": "code",
    "collapsed": false,
    "deletable": true,
    "editable": true,
    "executionInfo": {
     "elapsed": 11948,
     "status": "ok",
     "timestamp": 1446658914837,
     "user": {
      "color": "",
      "displayName": "",
      "isAnonymous": false,
      "isMe": true,
      "permissionId": "",
      "photoUrl": "",
      "sessionId": "0",
      "userId": ""
     },
     "user_tz": 480
    },
    "id": "y3-cj1bpmuxc",
    "outputId": "016b1a51-0290-4b08-efdb-8c95ffc3cd01"
   },
   "outputs": [],
   "source": [
    "pickle_file = '/Users/desiredewaele/Google Drive/Datasets/notMNIST.pickle'\n",
    "\n",
    "with open(pickle_file, 'rb') as f:\n",
    "    save = pickle.load(f)\n",
    "    trainX = save['train_dataset']\n",
    "    trainY = save['train_labels']\n",
    "    validX = save['valid_dataset']\n",
    "    validY = save['valid_labels']\n",
    "    testX = save['test_dataset']\n",
    "    testY = save['test_labels']\n",
    "    del save  # hint to help gc free up memory"
   ]
  },
  {
   "cell_type": "markdown",
   "metadata": {},
   "source": [
    "## Helper Functions\n",
    "These are some helper functions"
   ]
  },
  {
   "cell_type": "code",
   "execution_count": 3,
   "metadata": {
    "collapsed": true
   },
   "outputs": [],
   "source": [
    "def printShapes():\n",
    "    print('Training set', trainX.shape, trainY.shape)\n",
    "    print('Validation set', validX.shape, validY.shape)\n",
    "    print('Test set', testX.shape, testY.shape)"
   ]
  },
  {
   "cell_type": "code",
   "execution_count": 4,
   "metadata": {
    "cellView": "both",
    "colab": {
     "autoexec": {
      "startup": false,
      "wait_interval": 0
     }
    },
    "colab_type": "code",
    "collapsed": true,
    "deletable": true,
    "editable": true,
    "id": "AgQDIREv02p1"
   },
   "outputs": [],
   "source": [
    "def accuracy(predictions, labels):\n",
    "    return (100.0 * np.sum(np.argmax(predictions, 1) == np.argmax(labels, 1)) / predictions.shape[0])"
   ]
  },
  {
   "cell_type": "code",
   "execution_count": 5,
   "metadata": {
    "collapsed": true,
    "deletable": true,
    "editable": true
   },
   "outputs": [],
   "source": [
    "def viewer(history):\n",
    "    accBatch, accValid, lossBatch, lossValid = zip(*history)\n",
    "    fig = plt.figure(figsize=(15, 8)); ax1 = fig.add_subplot(221); ax2 = fig.add_subplot(222)\n",
    "\n",
    "    ax1.plot(np.arange(0, len(accBatch), 1), accBatch,\".-\", color='#2A6EA6', label=\"Training: {0:.2f}%\".format(accBatch[-1]))\n",
    "    ax1.plot(np.arange(0, len(accValid), 1), accValid,\".-\", color='#FFA933', label=\"Validation: {0:.2f}%\".format(accValid[-1]))\n",
    "    ax1.grid(True); ax1.legend(loc=\"lower right\"); ax1.set_title(\"Accuracy per epoch\")\n",
    "\n",
    "    ax2.plot(np.arange(0, len(lossBatch), 1), lossBatch,\".-\", color='#2A6EA6', label=\"Training: {0:.2f}\".format(lossBatch[-1]))\n",
    "    ax2.plot(np.arange(0, len(lossValid), 1), lossValid,\".-\", color='#FFA933', label=\"Validation: {0:.2f}\".format(lossValid[-1]))\n",
    "    ax2.grid(True); ax2.legend(loc=\"upper right\"); ax2.set_title(\"Cost per epoch\")\n",
    "    plt.show()"
   ]
  },
  {
   "cell_type": "markdown",
   "metadata": {},
   "source": [
    "## Data Preproccessing"
   ]
  },
  {
   "cell_type": "markdown",
   "metadata": {
    "colab_type": "text",
    "deletable": true,
    "editable": true,
    "id": "L7aHrm6nGDMB"
   },
   "source": [
    "Reformat into a TensorFlow-friendly shape:\n",
    "- convolutions need the image data formatted as a cube (width by height by #channels)\n",
    "- labels as float 1-hot encodings."
   ]
  },
  {
   "cell_type": "code",
   "execution_count": 6,
   "metadata": {
    "collapsed": false
   },
   "outputs": [
    {
     "name": "stdout",
     "output_type": "stream",
     "text": [
      "('Training set', (200000, 28, 28), (200000,))\n",
      "('Validation set', (10000, 28, 28), (10000,))\n",
      "('Test set', (10000, 28, 28), (10000,))\n"
     ]
    }
   ],
   "source": [
    "printShapes()"
   ]
  },
  {
   "cell_type": "code",
   "execution_count": 7,
   "metadata": {
    "cellView": "both",
    "colab": {
     "autoexec": {
      "startup": false,
      "wait_interval": 0
     },
     "output_extras": [
      {
       "item_id": 1
      }
     ]
    },
    "colab_type": "code",
    "collapsed": false,
    "deletable": true,
    "editable": true,
    "executionInfo": {
     "elapsed": 11952,
     "status": "ok",
     "timestamp": 1446658914857,
     "user": {
      "color": "",
      "displayName": "",
      "isAnonymous": false,
      "isMe": true,
      "permissionId": "",
      "photoUrl": "",
      "sessionId": "0",
      "userId": ""
     },
     "user_tz": 480
    },
    "id": "IRSyYiIIGIzS",
    "outputId": "650a208c-8359-4852-f4f5-8bf10e80ef6c"
   },
   "outputs": [],
   "source": [
    "SIZE = 28\n",
    "LABELS = 10\n",
    "CHANNELS = 1 # grayscale\n",
    "BREAKS = 100\n",
    "\n",
    "def reformat(dataset, labels):\n",
    "    dataset = dataset.reshape((-1, SIZE, SIZE, CHANNELS)).astype(np.float32)\n",
    "    labels = (np.arange(LABELS) == labels[:,None]).astype(np.float32)\n",
    "    return dataset, labels\n",
    "trainX, trainY = reformat(trainX, trainY)\n",
    "validX, validY = reformat(validX, validY)\n",
    "testX, testY = reformat(testX, testY)"
   ]
  },
  {
   "cell_type": "code",
   "execution_count": 8,
   "metadata": {
    "collapsed": false,
    "deletable": true,
    "editable": true
   },
   "outputs": [
    {
     "name": "stdout",
     "output_type": "stream",
     "text": [
      "('Training set', (200000, 28, 28, 1), (200000, 10))\n",
      "('Validation set', (10000, 28, 28, 1), (10000, 10))\n",
      "('Test set', (10000, 28, 28, 1), (10000, 10))\n"
     ]
    }
   ],
   "source": [
    "printShapes()"
   ]
  },
  {
   "cell_type": "markdown",
   "metadata": {
    "colab_type": "text",
    "deletable": true,
    "editable": true,
    "id": "KedKkn4EutIK"
   },
   "source": [
    "---\n",
    "Problem 0\n",
    "---------\n",
    "\n",
    "Let's build a small network with two convolutional layers, followed by one fully connected layer. Convolutional networks are more expensive computationally, so we'll limit its depth and number of fully connected nodes.\n",
    "\n",
    "---"
   ]
  },
  {
   "cell_type": "code",
   "execution_count": 9,
   "metadata": {
    "collapsed": true
   },
   "outputs": [],
   "source": [
    "BATCH = 16\n",
    "PATCH = 5\n",
    "DEPTH = 16\n",
    "HIDDEN = 64\n",
    "STEPS = 501"
   ]
  },
  {
   "cell_type": "code",
   "execution_count": 10,
   "metadata": {
    "cellView": "both",
    "colab": {
     "autoexec": {
      "startup": false,
      "wait_interval": 0
     }
    },
    "colab_type": "code",
    "collapsed": false,
    "deletable": true,
    "editable": true,
    "id": "IZYv70SvvOan"
   },
   "outputs": [],
   "source": [
    "graph = tf.Graph()\n",
    "with graph.as_default():\n",
    "\n",
    "    # Input data.\n",
    "    tfDataX = tf.placeholder(tf.float32, shape=(None, SIZE, SIZE, CHANNELS))\n",
    "    tfDataY = tf.placeholder(tf.float32, shape=(None, LABELS))\n",
    "\n",
    "    # Variables.\n",
    "    w1 = tf.Variable(tf.truncated_normal([PATCH, PATCH, CHANNELS, DEPTH], stddev=0.1))\n",
    "    w2 = tf.Variable(tf.truncated_normal([PATCH, PATCH, DEPTH, DEPTH], stddev=0.1))\n",
    "    w3 = tf.Variable(tf.truncated_normal([SIZE // 4 * SIZE // 4 * DEPTH, HIDDEN], stddev=0.1))\n",
    "    w4 = tf.Variable(tf.truncated_normal([HIDDEN, LABELS], stddev=0.1))\n",
    "    b1 = tf.Variable(tf.zeros([DEPTH]))\n",
    "    b2 = tf.Variable(tf.constant(1.0, shape=[DEPTH]))\n",
    "    b3 = tf.Variable(tf.constant(1.0, shape=[HIDDEN]))\n",
    "    b4 = tf.Variable(tf.constant(1.0, shape=[LABELS]))\n",
    "\n",
    "    # Model.\n",
    "    def model(x):\n",
    "        x = tf.nn.conv2d(x, w1, [1, 2, 2, 1], padding='SAME')\n",
    "        x = tf.nn.relu(x + b1)\n",
    "        x = tf.nn.conv2d(x, w2, [1, 2, 2, 1], padding='SAME')\n",
    "        x = tf.nn.relu(x + b2)\n",
    "        shape = x.get_shape().as_list()\n",
    "        x = tf.reshape(x, [-1, shape[1] * shape[2] * shape[3]])\n",
    "        x = tf.nn.relu(tf.matmul(x, w3) + b3)\n",
    "        return tf.matmul(x, w4) + b4\n",
    "  \n",
    "    # Training computation.\n",
    "    logits = model(tfDataX)\n",
    "    loss = tf.reduce_mean(tf.nn.softmax_cross_entropy_with_logits(logits=logits, labels=tfDataY))\n",
    "    optimizer = tf.train.GradientDescentOptimizer(0.05).minimize(loss)\n",
    "\n",
    "    # Predictions and Accuracy.\n",
    "    predictions = tf.nn.softmax(model(tfDataX))\n",
    "    accuracy = 100*tf.reduce_mean(tf.to_float(tf.equal(tf.argmax(predictions, 1), tf.argmax(tfDataY, 1))))"
   ]
  },
  {
   "cell_type": "code",
   "execution_count": 11,
   "metadata": {
    "cellView": "both",
    "colab": {
     "autoexec": {
      "startup": false,
      "wait_interval": 0
     },
     "output_extras": [
      {
       "item_id": 37
      }
     ]
    },
    "colab_type": "code",
    "collapsed": false,
    "deletable": true,
    "editable": true,
    "executionInfo": {
     "elapsed": 63292,
     "status": "ok",
     "timestamp": 1446658966251,
     "user": {
      "color": "",
      "displayName": "",
      "isAnonymous": false,
      "isMe": true,
      "permissionId": "",
      "photoUrl": "",
      "sessionId": "0",
      "userId": ""
     },
     "user_tz": 480
    },
    "id": "noKFb2UovVFR",
    "outputId": "28941338-2ef9-4088-8bd1-44295661e628"
   },
   "outputs": [
    {
     "name": "stdout",
     "output_type": "stream",
     "text": [
      "\n",
      "Test accuracy: 87.4%\n"
     ]
    }
   ],
   "source": [
    "with tf.Session(graph=graph) as session:\n",
    "    tf.global_variables_initializer().run()\n",
    "    history = []\n",
    "    for step in range(STEPS):\n",
    "        offset = (step * BATCH) % (trainY.shape[0] - BATCH)\n",
    "        batchX = trainX[offset:(offset + BATCH), :, :, :]\n",
    "        batchY = trainY[offset:(offset + BATCH), :]\n",
    "        session.run(optimizer, {tfDataX: batchX, tfDataY: batchY})\n",
    "        if(step % (STEPS // BREAKS) == 0):\n",
    "            lt, at = session.run([loss, accuracy], {tfDataX: batchX, tfDataY: batchY})\n",
    "            lv, av = session.run([loss, accuracy], {tfDataX: validX, tfDataY: validY})\n",
    "            history.append((at, av, lt, lv))\n",
    "    accuracy = session.run(accuracy, {tfDataX: testX, tfDataY: testY})\n",
    "    print('\\nTest accuracy: %.1f%%' % accuracy)"
   ]
  },
  {
   "cell_type": "code",
   "execution_count": 12,
   "metadata": {
    "collapsed": false,
    "deletable": true,
    "editable": true
   },
   "outputs": [
    {
     "data": {
      "image/png": "[encoded data removed]",
      "text/plain": [
       "<matplotlib.figure.Figure at 0x1100721d0>"
      ]
     },
     "metadata": {},
     "output_type": "display_data"
    }
   ],
   "source": [
    "viewer(history)"
   ]
  },
  {
   "cell_type": "markdown",
   "metadata": {
    "colab_type": "text",
    "deletable": true,
    "editable": true,
    "id": "KedKkn4EutIK"
   },
   "source": [
    "---\n",
    "Problem 1\n",
    "---------\n",
    "\n",
    "The convolutional model above uses convolutions with stride 2 to reduce the dimensionality. Replace the strides by a max pooling operation (`nn.max_pool()`) of stride 2 and kernel size 2.\n",
    "\n",
    "---"
   ]
  },
  {
   "cell_type": "code",
   "execution_count": 17,
   "metadata": {
    "collapsed": true
   },
   "outputs": [],
   "source": [
    "BATCH = 16\n",
    "PATCH = 5\n",
    "DEPTH = 16\n",
    "HIDDEN = 64\n",
    "STEPS = 1001"
   ]
  },
  {
   "cell_type": "code",
   "execution_count": 18,
   "metadata": {
    "collapsed": false,
    "deletable": true,
    "editable": true
   },
   "outputs": [],
   "source": [
    "graph = tf.Graph()\n",
    "with graph.as_default():\n",
    "\n",
    "    # Input data.\n",
    "    tfDataX = tf.placeholder(tf.float32, shape=(None, SIZE, SIZE, CHANNELS))\n",
    "    tfDataY = tf.placeholder(tf.float32, shape=(None, LABELS))\n",
    "\n",
    "    # Variables.\n",
    "    w1 = tf.Variable(tf.truncated_normal([PATCH, PATCH, CHANNELS, DEPTH], stddev=0.1))\n",
    "    w2 = tf.Variable(tf.truncated_normal([PATCH, PATCH, DEPTH, DEPTH], stddev=0.1))\n",
    "    w3 = tf.Variable(tf.truncated_normal([SIZE // 4 * SIZE // 4 * DEPTH, HIDDEN], stddev=0.1))\n",
    "    w4 = tf.Variable(tf.truncated_normal([HIDDEN, LABELS], stddev=0.1))\n",
    "    b1 = tf.Variable(tf.zeros([DEPTH]))\n",
    "    b2 = tf.Variable(tf.constant(1.0, shape=[DEPTH]))\n",
    "    b3 = tf.Variable(tf.constant(1.0, shape=[HIDDEN]))\n",
    "    b4 = tf.Variable(tf.constant(1.0, shape=[LABELS]))\n",
    "    \n",
    "    def model(x):\n",
    "        # Convolutional layer 1\n",
    "        x = tf.nn.conv2d(x, w1, [1, 1, 1, 1], padding='SAME') + b1\n",
    "        x = tf.nn.relu(x)\n",
    "        x = tf.nn.max_pool(x, [1, 2, 2, 1], [1, 2, 2, 1], padding='SAME')\n",
    "        # Convolutional layer 2\n",
    "        x = tf.nn.conv2d(x, w2, [1, 1, 1, 1], padding='SAME') + b2\n",
    "        x = tf.nn.relu(x)\n",
    "        x = tf.nn.max_pool(x, [1, 2, 2, 1], [1, 2, 2, 1], padding='SAME')\n",
    "        # Two fully conected layers\n",
    "        shape = x.get_shape().as_list()\n",
    "        x = tf.reshape(x, [-1, shape[1] * shape[2] * shape[3]])\n",
    "        x = tf.matmul(x, w3) + b3\n",
    "        x = tf.nn.relu(x)\n",
    "        return tf.matmul(x, w4) + b4\n",
    "  \n",
    "    # Training computation.\n",
    "    logits = model(tfDataX)\n",
    "    loss = tf.reduce_mean(tf.nn.softmax_cross_entropy_with_logits(logits=logits, labels=tfDataY))\n",
    "    optimizer = tf.train.GradientDescentOptimizer(0.05).minimize(loss)\n",
    "\n",
    "    # Predictions and Accuracy.\n",
    "    predictions = tf.nn.softmax(model(tfDataX))\n",
    "    accuracy = 100*tf.reduce_mean(tf.to_float(tf.equal(tf.argmax(predictions, 1), tf.argmax(tfDataY, 1))))"
   ]
  },
  {
   "cell_type": "code",
   "execution_count": null,
   "metadata": {
    "collapsed": false,
    "deletable": true,
    "editable": true
   },
   "outputs": [],
   "source": [
    "with tf.Session(graph=graph) as session:\n",
    "    tf.global_variables_initializer().run()\n",
    "    history = []\n",
    "    for step in range(STEPS):\n",
    "        offset = (step * BATCH) % (trainY.shape[0] - BATCH)\n",
    "        batchX = trainX[offset:(offset + BATCH), :, :, :]\n",
    "        batchY = trainY[offset:(offset + BATCH), :]\n",
    "        session.run(optimizer, {tfDataX: batchX, tfDataY: batchY})\n",
    "        if(step % (STEPS // BREAKS) == 0):\n",
    "            lt, at = session.run([loss, accuracy], {tfDataX: batchX, tfDataY: batchY})\n",
    "            lv, av = session.run([loss, accuracy], {tfDataX: validX, tfDataY: validY})\n",
    "            history.append((at, av, lt, lv))\n",
    "    accuracy = session.run(accuracy, {tfDataX: testX, tfDataY: testY})\n",
    "    print('\\nTest accuracy: %.1f%%' % accuracy)"
   ]
  },
  {
   "cell_type": "code",
   "execution_count": null,
   "metadata": {
    "collapsed": false,
    "deletable": true,
    "editable": true
   },
   "outputs": [],
   "source": [
    "viewer(history)"
   ]
  },
  {
   "cell_type": "markdown",
   "metadata": {
    "colab_type": "text",
    "deletable": true,
    "editable": true,
    "id": "klf21gpbAgb-"
   },
   "source": [
    "---\n",
    "Problem 2\n",
    "---------\n",
    "\n",
    "Try to get the best performance you can using a convolutional net. Look for example at the classic [LeNet5](http://yann.lecun.com/exdb/lenet/) architecture, adding Dropout, and/or adding learning rate decay.\n",
    "\n",
    "---"
   ]
  },
  {
   "cell_type": "code",
   "execution_count": null,
   "metadata": {
    "collapsed": true
   },
   "outputs": [],
   "source": [
    "BATCH = 16\n",
    "PATCH = 5\n",
    "DEPTH = 16\n",
    "HIDDEN = 64\n",
    "STEPS = 20001"
   ]
  },
  {
   "cell_type": "code",
   "execution_count": null,
   "metadata": {
    "collapsed": false,
    "deletable": true,
    "editable": true
   },
   "outputs": [],
   "source": [
    "graph = tf.Graph()\n",
    "with graph.as_default():\n",
    "\n",
    "    # Input data.\n",
    "    tfDataX = tf.placeholder(tf.float32, shape=(None, SIZE, SIZE, CHANNELS))\n",
    "    tfDataY = tf.placeholder(tf.float32, shape=(None, LABELS))\n",
    "\n",
    "    # Variables.\n",
    "    w1 = tf.Variable(tf.truncated_normal([PATCH, PATCH, CHANNELS, DEPTH], stddev=0.1))\n",
    "    w2 = tf.Variable(tf.truncated_normal([PATCH, PATCH, DEPTH, DEPTH], stddev=0.1))\n",
    "    size3 = ((SIZE - PATCH + 1) // 2 - PATCH + 1) // 2\n",
    "    w3 = tf.Variable(tf.truncated_normal([size3 * size3 * DEPTH, HIDDEN], stddev=0.1))\n",
    "    w4 = tf.Variable(tf.truncated_normal([HIDDEN, LABELS], stddev=0.1))\n",
    "    \n",
    "    b1 = tf.Variable(tf.zeros([DEPTH]))\n",
    "    b2 = tf.Variable(tf.constant(1.0, shape=[DEPTH]))\n",
    "    b3 = tf.Variable(tf.constant(1.0, shape=[HIDDEN]))\n",
    "    b4 = tf.Variable(tf.constant(1.0, shape=[LABELS]))\n",
    "  \n",
    "    # Model.\n",
    "    def model(data):\n",
    "        x = tf.nn.conv2d(data, w1, [1, 1, 1, 1], padding='VALID') + b1\n",
    "        x = tf.nn.relu(x )\n",
    "        x = tf.nn.avg_pool(x, [1, 2, 2, 1], [1, 2, 2, 1], padding='VALID')\n",
    "        x = tf.nn.conv2d(x, w2, [1, 1, 1, 1], padding='VALID') + b2\n",
    "        x = tf.nn.relu(x)\n",
    "        x = tf.nn.avg_pool(x, [1, 2, 2, 1], [1, 2, 2, 1], padding='VALID')\n",
    "        shape = x.get_shape().as_list()\n",
    "        x = tf.reshape(x, [-1, shape[1] * shape[2] * shape[3]])\n",
    "        x = tf.nn.relu(tf.matmul(x, w3) + b3)\n",
    "        return tf.matmul(x, w4) + b4\n",
    "  \n",
    "    # Training computation.\n",
    "    logits = model(tfDataX)\n",
    "    loss = tf.reduce_mean(tf.nn.softmax_cross_entropy_with_logits(logits=logits, labels=tfDataY))\n",
    "    optimizer = tf.train.GradientDescentOptimizer(0.05).minimize(loss)\n",
    "\n",
    "    # Predictions and Accuracy.\n",
    "    predictions = tf.nn.softmax(model(tfDataX))\n",
    "    accuracy = 100*tf.reduce_mean(tf.to_float(tf.equal(tf.argmax(predictions, 1), tf.argmax(tfDataY, 1))))"
   ]
  },
  {
   "cell_type": "code",
   "execution_count": null,
   "metadata": {
    "collapsed": false,
    "deletable": true,
    "editable": true
   },
   "outputs": [],
   "source": [
    "with tf.Session(graph=graph) as session:\n",
    "    tf.global_variables_initializer().run()\n",
    "    history = []\n",
    "    for step in range(STEPS):\n",
    "        offset = (step * BATCH) % (trainY.shape[0] - BATCH)\n",
    "        batchX = trainX[offset:(offset + BATCH), :, :, :]\n",
    "        batchY = trainY[offset:(offset + BATCH), :]\n",
    "        session.run(optimizer, {tfDataX: batchX, tfDataY: batchY})\n",
    "        if(step % (STEPS // BREAKS) == 0):\n",
    "            lt, at = session.run([loss, accuracy], {tfDataX: batchX, tfDataY: batchY})\n",
    "            lv, av = session.run([loss, accuracy], {tfDataX: validX, tfDataY: validY})\n",
    "            history.append((at, av, lt, lv))\n",
    "    accuracy = session.run(accuracy, {tfDataX: testX, tfDataY: testY})\n",
    "    print('\\nTest accuracy: %.1f%%' % accuracy)"
   ]
  },
  {
   "cell_type": "code",
   "execution_count": null,
   "metadata": {
    "collapsed": false,
    "deletable": true,
    "editable": true
   },
   "outputs": [],
   "source": [
    "viewer(history)"
   ]
  },
  {
   "cell_type": "code",
   "execution_count": null,
   "metadata": {
    "collapsed": true,
    "deletable": true,
    "editable": true
   },
   "outputs": [],
   "source": []
  }
 ],
 "metadata": {
  "colab": {
   "default_view": {},
   "name": "4_convolutions.ipynb",
   "provenance": [],
   "version": "0.3.2",
   "views": {}
  },
  "kernelspec": {
   "display_name": "Python 2",
   "language": "python",
   "name": "python2"
  },
  "language_info": {
   "codemirror_mode": {
    "name": "ipython",
    "version": 2
   },
   "file_extension": ".py",
   "mimetype": "text/x-python",
   "name": "python",
   "nbconvert_exporter": "python",
   "pygments_lexer": "ipython2",
   "version": "2.7.13"
  }
 },
 "nbformat": 4,
 "nbformat_minor": 0
}
