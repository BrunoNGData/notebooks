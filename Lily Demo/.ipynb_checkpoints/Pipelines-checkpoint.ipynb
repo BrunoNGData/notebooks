{
 "cells": [
  {
   "cell_type": "markdown",
   "metadata": {
    "deletable": true,
    "editable": true
   },
   "source": [
    "# Lily"
   ]
  },
  {
   "cell_type": "markdown",
   "metadata": {},
   "source": [
    "## Load Data"
   ]
  },
  {
   "cell_type": "code",
   "execution_count": 71,
   "metadata": {
    "collapsed": true,
    "deletable": true,
    "editable": true
   },
   "outputs": [],
   "source": [
    "import pandas as pd\n",
    "import numpy as np\n",
    "import matplotlib.pyplot as plt\n",
    "\n",
    "import warnings\n",
    "warnings.filterwarnings('ignore')"
   ]
  },
  {
   "cell_type": "code",
   "execution_count": 72,
   "metadata": {
    "collapsed": false,
    "deletable": true,
    "editable": true
   },
   "outputs": [
    {
     "data": {
      "text/html": [
       "<div>\n",
       "<table border=\"1\" class=\"dataframe\">\n",
       "  <thead>\n",
       "    <tr style=\"text-align: right;\">\n",
       "      <th></th>\n",
       "      <th>ID</th>\n",
       "      <th>referenceTime</th>\n",
       "      <th>originalSourceIds</th>\n",
       "      <th>title</th>\n",
       "      <th>lastName</th>\n",
       "      <th>firstName</th>\n",
       "      <th>middleName</th>\n",
       "      <th>streetAddress</th>\n",
       "      <th>state</th>\n",
       "      <th>zipcode</th>\n",
       "      <th>...</th>\n",
       "      <th>totalAssets</th>\n",
       "      <th>age</th>\n",
       "      <th>ageCategory</th>\n",
       "      <th>crmId</th>\n",
       "      <th>flagElitesMember</th>\n",
       "      <th>flagSelfSufficientsMember</th>\n",
       "      <th>flagNewWorldlyAdoptersMember</th>\n",
       "      <th>flagSafetySeekersMember</th>\n",
       "      <th>flagTraditionalistsMember</th>\n",
       "      <th>flagUpwardlyMobilesMember</th>\n",
       "    </tr>\n",
       "  </thead>\n",
       "  <tbody>\n",
       "    <tr>\n",
       "      <th>50013</th>\n",
       "      <td>-4618209560386695881</td>\n",
       "      <td>2017-01-26T13:53:55.288Z</td>\n",
       "      <td>[\"\"CRM:16017\"\"]</td>\n",
       "      <td>Ms.</td>\n",
       "      <td>Lacefield</td>\n",
       "      <td>Mary</td>\n",
       "      <td>P</td>\n",
       "      <td>1776 Patterson Street</td>\n",
       "      <td>TX</td>\n",
       "      <td>77002.0</td>\n",
       "      <td>...</td>\n",
       "      <td>29987.0</td>\n",
       "      <td>20.0</td>\n",
       "      <td>18-34</td>\n",
       "      <td>16017.0</td>\n",
       "      <td>0</td>\n",
       "      <td>0</td>\n",
       "      <td>0</td>\n",
       "      <td>0</td>\n",
       "      <td>0</td>\n",
       "      <td>0</td>\n",
       "    </tr>\n",
       "    <tr>\n",
       "      <th>50014</th>\n",
       "      <td>-4618028639641339898</td>\n",
       "      <td>2017-01-26T13:53:55.288Z</td>\n",
       "      <td>[\"\"CRM:26883\"\"]</td>\n",
       "      <td>Mr.</td>\n",
       "      <td>Walker</td>\n",
       "      <td>Warren</td>\n",
       "      <td>L</td>\n",
       "      <td>498 Willison Street</td>\n",
       "      <td>MN</td>\n",
       "      <td>55429.0</td>\n",
       "      <td>...</td>\n",
       "      <td>28607.0</td>\n",
       "      <td>31.0</td>\n",
       "      <td>18-34</td>\n",
       "      <td>26883.0</td>\n",
       "      <td>0</td>\n",
       "      <td>0</td>\n",
       "      <td>0</td>\n",
       "      <td>0</td>\n",
       "      <td>0</td>\n",
       "      <td>0</td>\n",
       "    </tr>\n",
       "    <tr>\n",
       "      <th>50015</th>\n",
       "      <td>-4617960797035284685</td>\n",
       "      <td>2017-01-26T13:53:55.288Z</td>\n",
       "      <td>[\"\"CRM:43096\"\"]</td>\n",
       "      <td>Dr.</td>\n",
       "      <td>Czajkowski</td>\n",
       "      <td>Eric</td>\n",
       "      <td>C</td>\n",
       "      <td>2246 Bicetown Road</td>\n",
       "      <td>NY</td>\n",
       "      <td>10013.0</td>\n",
       "      <td>...</td>\n",
       "      <td>25481.0</td>\n",
       "      <td>86.0</td>\n",
       "      <td>50 or older</td>\n",
       "      <td>43096.0</td>\n",
       "      <td>0</td>\n",
       "      <td>0</td>\n",
       "      <td>0</td>\n",
       "      <td>0</td>\n",
       "      <td>0</td>\n",
       "      <td>0</td>\n",
       "    </tr>\n",
       "    <tr>\n",
       "      <th>50016</th>\n",
       "      <td>-4617721746446202455</td>\n",
       "      <td>2017-01-26T13:53:55.288Z</td>\n",
       "      <td>[\"\"CRM:10273\"\"]</td>\n",
       "      <td>Mrs.</td>\n",
       "      <td>Harris</td>\n",
       "      <td>Jana</td>\n",
       "      <td>J</td>\n",
       "      <td>1548 Watson Street</td>\n",
       "      <td>NJ</td>\n",
       "      <td>8102.0</td>\n",
       "      <td>...</td>\n",
       "      <td>38964.0</td>\n",
       "      <td>85.0</td>\n",
       "      <td>50 or older</td>\n",
       "      <td>10273.0</td>\n",
       "      <td>0</td>\n",
       "      <td>0</td>\n",
       "      <td>0</td>\n",
       "      <td>0</td>\n",
       "      <td>1</td>\n",
       "      <td>0</td>\n",
       "    </tr>\n",
       "    <tr>\n",
       "      <th>50017</th>\n",
       "      <td>-4616424157466986398</td>\n",
       "      <td>2017-01-26T13:53:55.288Z</td>\n",
       "      <td>[\"\"CRM:22798\"\"]</td>\n",
       "      <td>Ms.</td>\n",
       "      <td>Foye</td>\n",
       "      <td>Jennie</td>\n",
       "      <td>R</td>\n",
       "      <td>2184 Heliport Loop</td>\n",
       "      <td>IN</td>\n",
       "      <td>47631.0</td>\n",
       "      <td>...</td>\n",
       "      <td>30969.0</td>\n",
       "      <td>40.0</td>\n",
       "      <td>35-49</td>\n",
       "      <td>22798.0</td>\n",
       "      <td>0</td>\n",
       "      <td>0</td>\n",
       "      <td>0</td>\n",
       "      <td>0</td>\n",
       "      <td>1</td>\n",
       "      <td>0</td>\n",
       "    </tr>\n",
       "  </tbody>\n",
       "</table>\n",
       "<p>5 rows × 49 columns</p>\n",
       "</div>"
      ],
      "text/plain": [
       "                        ID             referenceTime originalSourceIds title  \\\n",
       "50013 -4618209560386695881  2017-01-26T13:53:55.288Z   [\"\"CRM:16017\"\"]   Ms.   \n",
       "50014 -4618028639641339898  2017-01-26T13:53:55.288Z   [\"\"CRM:26883\"\"]   Mr.   \n",
       "50015 -4617960797035284685  2017-01-26T13:53:55.288Z   [\"\"CRM:43096\"\"]   Dr.   \n",
       "50016 -4617721746446202455  2017-01-26T13:53:55.288Z   [\"\"CRM:10273\"\"]  Mrs.   \n",
       "50017 -4616424157466986398  2017-01-26T13:53:55.288Z   [\"\"CRM:22798\"\"]   Ms.   \n",
       "\n",
       "         lastName firstName middleName          streetAddress state  zipcode  \\\n",
       "50013   Lacefield      Mary          P  1776 Patterson Street    TX  77002.0   \n",
       "50014      Walker    Warren          L    498 Willison Street    MN  55429.0   \n",
       "50015  Czajkowski      Eric          C     2246 Bicetown Road    NY  10013.0   \n",
       "50016      Harris      Jana          J     1548 Watson Street    NJ   8102.0   \n",
       "50017        Foye    Jennie          R     2184 Heliport Loop    IN  47631.0   \n",
       "\n",
       "                 ...            totalAssets   age  ageCategory    crmId  \\\n",
       "50013            ...                29987.0  20.0        18-34  16017.0   \n",
       "50014            ...                28607.0  31.0        18-34  26883.0   \n",
       "50015            ...                25481.0  86.0  50 or older  43096.0   \n",
       "50016            ...                38964.0  85.0  50 or older  10273.0   \n",
       "50017            ...                30969.0  40.0        35-49  22798.0   \n",
       "\n",
       "      flagElitesMember flagSelfSufficientsMember flagNewWorldlyAdoptersMember  \\\n",
       "50013                0                         0                            0   \n",
       "50014                0                         0                            0   \n",
       "50015                0                         0                            0   \n",
       "50016                0                         0                            0   \n",
       "50017                0                         0                            0   \n",
       "\n",
       "      flagSafetySeekersMember  flagTraditionalistsMember  \\\n",
       "50013                       0                          0   \n",
       "50014                       0                          0   \n",
       "50015                       0                          0   \n",
       "50016                       0                          1   \n",
       "50017                       0                          1   \n",
       "\n",
       "      flagUpwardlyMobilesMember  \n",
       "50013                         0  \n",
       "50014                         0  \n",
       "50015                         0  \n",
       "50016                         0  \n",
       "50017                         0  \n",
       "\n",
       "[5 rows x 49 columns]"
      ]
     },
     "execution_count": 72,
     "metadata": {},
     "output_type": "execute_result"
    }
   ],
   "source": [
    "data = pd.read_csv(\"dataframe.csv\", delimiter=\"|\")\n",
    "data.tail()"
   ]
  },
  {
   "cell_type": "markdown",
   "metadata": {},
   "source": [
    "## Handle Missing Values"
   ]
  },
  {
   "cell_type": "code",
   "execution_count": 73,
   "metadata": {
    "collapsed": false,
    "deletable": true,
    "editable": true
   },
   "outputs": [
    {
     "name": "stdout",
     "output_type": "stream",
     "text": [
      "714350 Before deleting anything\n",
      "264188 After deleting columns with less than 1000 non values\n",
      "414 After changing binary columns\n",
      "0 After deleting rows with any missing values\n"
     ]
    }
   ],
   "source": [
    "print(data.isnull().sum().sum(), 'Before deleting anything')\n",
    "data.dropna(axis=1, thresh=1000, inplace=True)\n",
    "print(data.isnull().sum().sum(), 'After deleting columns with less than 1000 non values')\n",
    "data.flagStudent = data.flagStudent.apply(lambda x: 0 if np.isnan(x) else 1)\n",
    "data.flagRetired = data.flagRetired.apply(lambda x: 0 if np.isnan(x) else 1)\n",
    "data.flagHouseOwner = data.flagHouseOwner.apply(lambda x: 0 if np.isnan(x) else 1)\n",
    "data.flagHomeTenant = data.flagHomeTenant.apply(lambda x: 0 if np.isnan(x) else 1)\n",
    "data.flagValueProperty = data.flagValueProperty.apply(lambda x: 0 if np.isnan(x) else 1)\n",
    "data.flagLandlord = data.flagLandlord.apply(lambda x: 0 if np.isnan(x) else 1)\n",
    "data.flagWealthyRegion = data.flagWealthyRegion.apply(lambda x: 0 if np.isnan(x) else 1)\n",
    "print(data.isnull().sum().sum(), 'After changing binary columns')\n",
    "data.dropna(axis=0, inplace=True)\n",
    "print(data.isnull().sum().sum(), 'After deleting rows with any missing values')\n",
    "\n",
    "targets = data.loc[:,'monthlyIncomeReal']\n",
    "data.drop('monthlyIncomeReal', axis=1, inplace=True)\n",
    "\n",
    "data.drop(['ID', 'zipcode', 'crmId', 'referenceTime', 'originalSourceIds', 'lastName', 'firstName', 'middleName',\n",
    "             'streetAddress', 'state', 'emailAddress', 'phoneNumber', 'occupation', 'resCity', 'resCountry'],\n",
    "             axis=1, inplace=True)"
   ]
  },
  {
   "cell_type": "code",
   "execution_count": 74,
   "metadata": {
    "collapsed": false,
    "deletable": true,
    "editable": true
   },
   "outputs": [
    {
     "data": {
      "text/html": [
       "<div>\n",
       "<table border=\"1\" class=\"dataframe\">\n",
       "  <thead>\n",
       "    <tr style=\"text-align: right;\">\n",
       "      <th></th>\n",
       "      <th>title</th>\n",
       "      <th>flagAlive</th>\n",
       "      <th>gender</th>\n",
       "      <th>lifestage</th>\n",
       "      <th>maritalStatus</th>\n",
       "      <th>education</th>\n",
       "      <th>flagStudent</th>\n",
       "      <th>flagRetired</th>\n",
       "      <th>nbrChildren</th>\n",
       "      <th>flagHouseOwner</th>\n",
       "      <th>...</th>\n",
       "      <th>nbrPropertiesOwned</th>\n",
       "      <th>totalAssets</th>\n",
       "      <th>age</th>\n",
       "      <th>ageCategory</th>\n",
       "      <th>flagElitesMember</th>\n",
       "      <th>flagSelfSufficientsMember</th>\n",
       "      <th>flagNewWorldlyAdoptersMember</th>\n",
       "      <th>flagSafetySeekersMember</th>\n",
       "      <th>flagTraditionalistsMember</th>\n",
       "      <th>flagUpwardlyMobilesMember</th>\n",
       "    </tr>\n",
       "  </thead>\n",
       "  <tbody>\n",
       "    <tr>\n",
       "      <th>50013</th>\n",
       "      <td>Ms.</td>\n",
       "      <td>1</td>\n",
       "      <td>female</td>\n",
       "      <td>Younger Years Fiscal Fledlings</td>\n",
       "      <td>Single (never in legal unions)</td>\n",
       "      <td>bachelor</td>\n",
       "      <td>1</td>\n",
       "      <td>0</td>\n",
       "      <td>0.0</td>\n",
       "      <td>0</td>\n",
       "      <td>...</td>\n",
       "      <td>0.0</td>\n",
       "      <td>29987.0</td>\n",
       "      <td>20.0</td>\n",
       "      <td>18-34</td>\n",
       "      <td>0</td>\n",
       "      <td>0</td>\n",
       "      <td>0</td>\n",
       "      <td>0</td>\n",
       "      <td>0</td>\n",
       "      <td>0</td>\n",
       "    </tr>\n",
       "    <tr>\n",
       "      <th>50014</th>\n",
       "      <td>Mr.</td>\n",
       "      <td>1</td>\n",
       "      <td>male</td>\n",
       "      <td>Younger Years Fiscal Fledlings</td>\n",
       "      <td>Single (never in legal unions)</td>\n",
       "      <td>bachelor</td>\n",
       "      <td>0</td>\n",
       "      <td>0</td>\n",
       "      <td>1.0</td>\n",
       "      <td>0</td>\n",
       "      <td>...</td>\n",
       "      <td>0.0</td>\n",
       "      <td>28607.0</td>\n",
       "      <td>31.0</td>\n",
       "      <td>18-34</td>\n",
       "      <td>0</td>\n",
       "      <td>0</td>\n",
       "      <td>0</td>\n",
       "      <td>0</td>\n",
       "      <td>0</td>\n",
       "      <td>0</td>\n",
       "    </tr>\n",
       "    <tr>\n",
       "      <th>50015</th>\n",
       "      <td>Dr.</td>\n",
       "      <td>1</td>\n",
       "      <td>male</td>\n",
       "      <td>Mature Years</td>\n",
       "      <td>Married</td>\n",
       "      <td>associate</td>\n",
       "      <td>0</td>\n",
       "      <td>1</td>\n",
       "      <td>1.0</td>\n",
       "      <td>1</td>\n",
       "      <td>...</td>\n",
       "      <td>1.0</td>\n",
       "      <td>25481.0</td>\n",
       "      <td>86.0</td>\n",
       "      <td>50 or older</td>\n",
       "      <td>0</td>\n",
       "      <td>0</td>\n",
       "      <td>0</td>\n",
       "      <td>0</td>\n",
       "      <td>0</td>\n",
       "      <td>0</td>\n",
       "    </tr>\n",
       "    <tr>\n",
       "      <th>50016</th>\n",
       "      <td>Mrs.</td>\n",
       "      <td>1</td>\n",
       "      <td>female</td>\n",
       "      <td>Family Life</td>\n",
       "      <td>Divorced</td>\n",
       "      <td>associate</td>\n",
       "      <td>0</td>\n",
       "      <td>1</td>\n",
       "      <td>2.0</td>\n",
       "      <td>1</td>\n",
       "      <td>...</td>\n",
       "      <td>1.0</td>\n",
       "      <td>38964.0</td>\n",
       "      <td>85.0</td>\n",
       "      <td>50 or older</td>\n",
       "      <td>0</td>\n",
       "      <td>0</td>\n",
       "      <td>0</td>\n",
       "      <td>0</td>\n",
       "      <td>1</td>\n",
       "      <td>0</td>\n",
       "    </tr>\n",
       "    <tr>\n",
       "      <th>50017</th>\n",
       "      <td>Ms.</td>\n",
       "      <td>1</td>\n",
       "      <td>female</td>\n",
       "      <td>Family Life</td>\n",
       "      <td>Married</td>\n",
       "      <td>secondary</td>\n",
       "      <td>0</td>\n",
       "      <td>0</td>\n",
       "      <td>0.0</td>\n",
       "      <td>1</td>\n",
       "      <td>...</td>\n",
       "      <td>1.0</td>\n",
       "      <td>30969.0</td>\n",
       "      <td>40.0</td>\n",
       "      <td>35-49</td>\n",
       "      <td>0</td>\n",
       "      <td>0</td>\n",
       "      <td>0</td>\n",
       "      <td>0</td>\n",
       "      <td>1</td>\n",
       "      <td>0</td>\n",
       "    </tr>\n",
       "  </tbody>\n",
       "</table>\n",
       "<p>5 rows × 24 columns</p>\n",
       "</div>"
      ],
      "text/plain": [
       "      title  flagAlive  gender                       lifestage  \\\n",
       "50013   Ms.          1  female  Younger Years Fiscal Fledlings   \n",
       "50014   Mr.          1    male  Younger Years Fiscal Fledlings   \n",
       "50015   Dr.          1    male                    Mature Years   \n",
       "50016  Mrs.          1  female                     Family Life   \n",
       "50017   Ms.          1  female                     Family Life   \n",
       "\n",
       "                        maritalStatus  education  flagStudent  flagRetired  \\\n",
       "50013  Single (never in legal unions)   bachelor            1            0   \n",
       "50014  Single (never in legal unions)   bachelor            0            0   \n",
       "50015                         Married  associate            0            1   \n",
       "50016                        Divorced  associate            0            1   \n",
       "50017                         Married  secondary            0            0   \n",
       "\n",
       "       nbrChildren  flagHouseOwner            ...              \\\n",
       "50013          0.0               0            ...               \n",
       "50014          1.0               0            ...               \n",
       "50015          1.0               1            ...               \n",
       "50016          2.0               1            ...               \n",
       "50017          0.0               1            ...               \n",
       "\n",
       "       nbrPropertiesOwned  totalAssets   age  ageCategory  flagElitesMember  \\\n",
       "50013                 0.0      29987.0  20.0        18-34                 0   \n",
       "50014                 0.0      28607.0  31.0        18-34                 0   \n",
       "50015                 1.0      25481.0  86.0  50 or older                 0   \n",
       "50016                 1.0      38964.0  85.0  50 or older                 0   \n",
       "50017                 1.0      30969.0  40.0        35-49                 0   \n",
       "\n",
       "       flagSelfSufficientsMember  flagNewWorldlyAdoptersMember  \\\n",
       "50013                          0                             0   \n",
       "50014                          0                             0   \n",
       "50015                          0                             0   \n",
       "50016                          0                             0   \n",
       "50017                          0                             0   \n",
       "\n",
       "      flagSafetySeekersMember  flagTraditionalistsMember  \\\n",
       "50013                       0                          0   \n",
       "50014                       0                          0   \n",
       "50015                       0                          0   \n",
       "50016                       0                          1   \n",
       "50017                       0                          1   \n",
       "\n",
       "       flagUpwardlyMobilesMember  \n",
       "50013                          0  \n",
       "50014                          0  \n",
       "50015                          0  \n",
       "50016                          0  \n",
       "50017                          0  \n",
       "\n",
       "[5 rows x 24 columns]"
      ]
     },
     "execution_count": 74,
     "metadata": {},
     "output_type": "execute_result"
    }
   ],
   "source": [
    "data.tail()"
   ]
  },
  {
   "cell_type": "code",
   "execution_count": 65,
   "metadata": {
    "collapsed": false,
    "deletable": true,
    "editable": true
   },
   "outputs": [
    {
     "name": "stdout",
     "output_type": "stream",
     "text": [
      "title ['Mr.' 'Mrs.' 'Ms.' 'Dr.']\n",
      "gender ['male' 'female']\n",
      "lifestage ['Mature Years' 'Younger Years Fiscal Fledlings' 'Younger Years'\n",
      " 'Family Life']\n",
      "maritalStatus ['Married' 'Single (never in legal unions)' 'In registered partnership'\n",
      " 'Divorced' 'Widowed']\n",
      "education ['associate' 'bachelor' 'doctoral' 'master' 'secondary' 'elementary'\n",
      " 'first-professional degree']\n",
      "ageCategory ['50 or older' '35-49' '18-34']\n"
     ]
    }
   ],
   "source": [
    "dummies, nDummies = [], []\n",
    "for i in range(len(data.columns)):\n",
    "    possibleValues = len(data.iloc[:,i].unique())\n",
    "    feature = data.columns[i]\n",
    "    featureType = data.iloc[:,i].dtype\n",
    "    if featureType == 'object' and possibleValues in range(2, 10):\n",
    "        dummies.append(feature)\n",
    "        print(feature, data.iloc[:,i].unique())\n",
    "    else:\n",
    "        nDummies.append(feature)"
   ]
  },
  {
   "cell_type": "code",
   "execution_count": 67,
   "metadata": {
    "collapsed": true
   },
   "outputs": [],
   "source": [
    "from sklearn.model_selection import train_test_split\n",
    "trainX, validX, trainY, validY = train_test_split(data, targets, train_size=0.7, random_state=100)"
   ]
  },
  {
   "cell_type": "code",
   "execution_count": 132,
   "metadata": {
    "collapsed": false,
    "deletable": true,
    "editable": true
   },
   "outputs": [],
   "source": [
    "from sklearn_pandas import DataFrameMapper\n",
    "from sklearn.preprocessing import StandardScaler\n",
    "from sklearn.preprocessing import LabelBinarizer\n",
    "\n",
    "mapper = DataFrameMapper(\n",
    "    [(a, StandardScaler()) for a in nDummies] +\n",
    "    [(d, LabelBinarizer()) for d in dummies]\n",
    ")"
   ]
  },
  {
   "cell_type": "code",
   "execution_count": 133,
   "metadata": {
    "collapsed": false
   },
   "outputs": [
    {
     "data": {
      "text/plain": [
       "array([ 0.        , -0.29676864,  1.69878384, -0.5847225 ,  0.86370379,\n",
       "       -0.86370379, -0.46575283, -0.24244023, -0.42716786, -0.80790238,\n",
       "       -0.54562665,  2.14648784, -0.02330562,  3.26717762, -0.17070251,\n",
       "       -0.04346581, -0.32415589, -0.03930956,  0.        ,  1.        ,\n",
       "        0.        ,  0.        ,  1.        ,  0.        ,  1.        ,\n",
       "        0.        ,  0.        ,  0.        ,  0.        ,  1.        ,\n",
       "        0.        ,  0.        ,  1.        ,  0.        ,  0.        ,\n",
       "        0.        ,  0.        ,  0.        ,  0.        ,  0.        ,\n",
       "        0.        ,  1.        ])"
      ]
     },
     "execution_count": 133,
     "metadata": {},
     "output_type": "execute_result"
    }
   ],
   "source": [
    "mapper.fit_transform(trainX)[0]"
   ]
  },
  {
   "cell_type": "code",
   "execution_count": 134,
   "metadata": {
    "collapsed": false,
    "deletable": true,
    "editable": true
   },
   "outputs": [],
   "source": [
    "from sklearn2pmml import PMMLPipeline\n",
    "from sklearn.linear_model import Ridge\n",
    "\n",
    "pipe = PMMLPipeline([\n",
    "    (\"mapper\", mapper),\n",
    "    (\"regressor\", Ridge(alpha=2))\n",
    "])"
   ]
  },
  {
   "cell_type": "code",
   "execution_count": 135,
   "metadata": {
    "collapsed": false,
    "deletable": true,
    "editable": true
   },
   "outputs": [
    {
     "name": "stdout",
     "output_type": "stream",
     "text": [
      "0.958107096503\n",
      "0.957776681237\n"
     ]
    }
   ],
   "source": [
    "pipe.fit(trainX, trainY)\n",
    "print(pipe.score(trainX, trainY))\n",
    "print(pipe.score(validX, validY))"
   ]
  },
  {
   "cell_type": "code",
   "execution_count": 130,
   "metadata": {
    "collapsed": false,
    "deletable": true,
    "editable": true
   },
   "outputs": [
    {
     "data": {
      "image/png": "[encoded data removed]",
      "text/plain": [
       "<matplotlib.figure.Figure at 0x120a8bc50>"
      ]
     },
     "metadata": {},
     "output_type": "display_data"
    }
   ],
   "source": [
    "plt.scatter(validY, pipe.predict(validX), color=\"darkred\", marker='.')\n",
    "plt.title(\"Predictions vs. Targets\")\n",
    "plt.xlabel('Targets'); plt.ylabel('Predictions'); plt.grid(True)\n",
    "plt.show()"
   ]
  },
  {
   "cell_type": "code",
   "execution_count": 131,
   "metadata": {
    "collapsed": false,
    "deletable": true,
    "editable": true
   },
   "outputs": [
    {
     "ename": "CalledProcessError",
     "evalue": "Command '['java', '-cp', '/Users/desiredewaele/Library/Python/3.6/lib/python/site-packages/sklearn2pmml/resources/guava-19.0.jar:/Users/desiredewaele/Library/Python/3.6/lib/python/site-packages/sklearn2pmml/resources/istack-commons-runtime-2.21.jar:/Users/desiredewaele/Library/Python/3.6/lib/python/site-packages/sklearn2pmml/resources/jaxb-core-2.2.11.jar:/Users/desiredewaele/Library/Python/3.6/lib/python/site-packages/sklearn2pmml/resources/jaxb-runtime-2.2.11.jar:/Users/desiredewaele/Library/Python/3.6/lib/python/site-packages/sklearn2pmml/resources/jcommander-1.48.jar:/Users/desiredewaele/Library/Python/3.6/lib/python/site-packages/sklearn2pmml/resources/jpmml-converter-1.2.1.jar:/Users/desiredewaele/Library/Python/3.6/lib/python/site-packages/sklearn2pmml/resources/jpmml-lightgbm-1.0.2.jar:/Users/desiredewaele/Library/Python/3.6/lib/python/site-packages/sklearn2pmml/resources/jpmml-sklearn-1.2.5.jar:/Users/desiredewaele/Library/Python/3.6/lib/python/site-packages/sklearn2pmml/resources/jpmml-xgboost-1.1.5.jar:/Users/desiredewaele/Library/Python/3.6/lib/python/site-packages/sklearn2pmml/resources/pmml-agent-1.3.4.jar:/Users/desiredewaele/Library/Python/3.6/lib/python/site-packages/sklearn2pmml/resources/pmml-model-1.3.4.jar:/Users/desiredewaele/Library/Python/3.6/lib/python/site-packages/sklearn2pmml/resources/pmml-model-metro-1.3.4.jar:/Users/desiredewaele/Library/Python/3.6/lib/python/site-packages/sklearn2pmml/resources/pmml-schema-1.3.4.jar:/Users/desiredewaele/Library/Python/3.6/lib/python/site-packages/sklearn2pmml/resources/pyrolite-4.15.jar:/Users/desiredewaele/Library/Python/3.6/lib/python/site-packages/sklearn2pmml/resources/serpent-1.16.jar:/Users/desiredewaele/Library/Python/3.6/lib/python/site-packages/sklearn2pmml/resources/slf4j-api-1.7.22.jar:/Users/desiredewaele/Library/Python/3.6/lib/python/site-packages/sklearn2pmml/resources/slf4j-jdk14-1.7.22.jar', 'org.jpmml.sklearn.Main', '--pkl-pipeline-input', '/var/folders/zk/z53vrs154q5_w79596900sn80000gn/T/pipeline-x7l2qny2.pkl.z', '--pmml-output', 'MetricModelDemo.xml']' returned non-zero exit status 1.",
     "output_type": "error",
     "traceback": [
      "\u001b[0;31m---------------------------------------------------------------------------\u001b[0m",
      "\u001b[0;31mCalledProcessError\u001b[0m                        Traceback (most recent call last)",
      "\u001b[0;32m<ipython-input-131-ff380704d8a2>\u001b[0m in \u001b[0;36m<module>\u001b[0;34m()\u001b[0m\n\u001b[1;32m      1\u001b[0m \u001b[0;32mfrom\u001b[0m \u001b[0msklearn2pmml\u001b[0m \u001b[0;32mimport\u001b[0m \u001b[0msklearn2pmml\u001b[0m\u001b[0;34m\u001b[0m\u001b[0m\n\u001b[0;32m----> 2\u001b[0;31m \u001b[0msklearn2pmml\u001b[0m\u001b[0;34m(\u001b[0m\u001b[0mpipe\u001b[0m\u001b[0;34m,\u001b[0m \u001b[0;34m\"MetricModelDemo.xml\"\u001b[0m\u001b[0;34m)\u001b[0m\u001b[0;34m\u001b[0m\u001b[0m\n\u001b[0m",
      "\u001b[0;32m/Users/desiredewaele/Library/Python/3.6/lib/python/site-packages/sklearn2pmml/__init__.py\u001b[0m in \u001b[0;36msklearn2pmml\u001b[0;34m(pipeline, pmml, user_classpath, with_repr, debug)\u001b[0m\n\u001b[1;32m    130\u001b[0m                 \u001b[0;32mif\u001b[0m\u001b[0;34m(\u001b[0m\u001b[0mdebug\u001b[0m\u001b[0;34m)\u001b[0m\u001b[0;34m:\u001b[0m\u001b[0;34m\u001b[0m\u001b[0m\n\u001b[1;32m    131\u001b[0m                         \u001b[0mprint\u001b[0m\u001b[0;34m(\u001b[0m\u001b[0;34m\" \"\u001b[0m\u001b[0;34m.\u001b[0m\u001b[0mjoin\u001b[0m\u001b[0;34m(\u001b[0m\u001b[0mcmd\u001b[0m\u001b[0;34m)\u001b[0m\u001b[0;34m)\u001b[0m\u001b[0;34m\u001b[0m\u001b[0m\n\u001b[0;32m--> 132\u001b[0;31m                 \u001b[0msubprocess\u001b[0m\u001b[0;34m.\u001b[0m\u001b[0mcheck_call\u001b[0m\u001b[0;34m(\u001b[0m\u001b[0mcmd\u001b[0m\u001b[0;34m)\u001b[0m\u001b[0;34m\u001b[0m\u001b[0m\n\u001b[0m\u001b[1;32m    133\u001b[0m         \u001b[0;32mfinally\u001b[0m\u001b[0;34m:\u001b[0m\u001b[0;34m\u001b[0m\u001b[0m\n\u001b[1;32m    134\u001b[0m                 \u001b[0;32mif\u001b[0m\u001b[0;34m(\u001b[0m\u001b[0mdebug\u001b[0m\u001b[0;34m)\u001b[0m\u001b[0;34m:\u001b[0m\u001b[0;34m\u001b[0m\u001b[0m\n",
      "\u001b[0;32m/Library/Frameworks/Python.framework/Versions/3.6/lib/python3.6/subprocess.py\u001b[0m in \u001b[0;36mcheck_call\u001b[0;34m(*popenargs, **kwargs)\u001b[0m\n\u001b[1;32m    289\u001b[0m         \u001b[0;32mif\u001b[0m \u001b[0mcmd\u001b[0m \u001b[0;32mis\u001b[0m \u001b[0;32mNone\u001b[0m\u001b[0;34m:\u001b[0m\u001b[0;34m\u001b[0m\u001b[0m\n\u001b[1;32m    290\u001b[0m             \u001b[0mcmd\u001b[0m \u001b[0;34m=\u001b[0m \u001b[0mpopenargs\u001b[0m\u001b[0;34m[\u001b[0m\u001b[0;36m0\u001b[0m\u001b[0;34m]\u001b[0m\u001b[0;34m\u001b[0m\u001b[0m\n\u001b[0;32m--> 291\u001b[0;31m         \u001b[0;32mraise\u001b[0m \u001b[0mCalledProcessError\u001b[0m\u001b[0;34m(\u001b[0m\u001b[0mretcode\u001b[0m\u001b[0;34m,\u001b[0m \u001b[0mcmd\u001b[0m\u001b[0;34m)\u001b[0m\u001b[0;34m\u001b[0m\u001b[0m\n\u001b[0m\u001b[1;32m    292\u001b[0m     \u001b[0;32mreturn\u001b[0m \u001b[0;36m0\u001b[0m\u001b[0;34m\u001b[0m\u001b[0m\n\u001b[1;32m    293\u001b[0m \u001b[0;34m\u001b[0m\u001b[0m\n",
      "\u001b[0;31mCalledProcessError\u001b[0m: Command '['java', '-cp', '/Users/desiredewaele/Library/Python/3.6/lib/python/site-packages/sklearn2pmml/resources/guava-19.0.jar:/Users/desiredewaele/Library/Python/3.6/lib/python/site-packages/sklearn2pmml/resources/istack-commons-runtime-2.21.jar:/Users/desiredewaele/Library/Python/3.6/lib/python/site-packages/sklearn2pmml/resources/jaxb-core-2.2.11.jar:/Users/desiredewaele/Library/Python/3.6/lib/python/site-packages/sklearn2pmml/resources/jaxb-runtime-2.2.11.jar:/Users/desiredewaele/Library/Python/3.6/lib/python/site-packages/sklearn2pmml/resources/jcommander-1.48.jar:/Users/desiredewaele/Library/Python/3.6/lib/python/site-packages/sklearn2pmml/resources/jpmml-converter-1.2.1.jar:/Users/desiredewaele/Library/Python/3.6/lib/python/site-packages/sklearn2pmml/resources/jpmml-lightgbm-1.0.2.jar:/Users/desiredewaele/Library/Python/3.6/lib/python/site-packages/sklearn2pmml/resources/jpmml-sklearn-1.2.5.jar:/Users/desiredewaele/Library/Python/3.6/lib/python/site-packages/sklearn2pmml/resources/jpmml-xgboost-1.1.5.jar:/Users/desiredewaele/Library/Python/3.6/lib/python/site-packages/sklearn2pmml/resources/pmml-agent-1.3.4.jar:/Users/desiredewaele/Library/Python/3.6/lib/python/site-packages/sklearn2pmml/resources/pmml-model-1.3.4.jar:/Users/desiredewaele/Library/Python/3.6/lib/python/site-packages/sklearn2pmml/resources/pmml-model-metro-1.3.4.jar:/Users/desiredewaele/Library/Python/3.6/lib/python/site-packages/sklearn2pmml/resources/pmml-schema-1.3.4.jar:/Users/desiredewaele/Library/Python/3.6/lib/python/site-packages/sklearn2pmml/resources/pyrolite-4.15.jar:/Users/desiredewaele/Library/Python/3.6/lib/python/site-packages/sklearn2pmml/resources/serpent-1.16.jar:/Users/desiredewaele/Library/Python/3.6/lib/python/site-packages/sklearn2pmml/resources/slf4j-api-1.7.22.jar:/Users/desiredewaele/Library/Python/3.6/lib/python/site-packages/sklearn2pmml/resources/slf4j-jdk14-1.7.22.jar', 'org.jpmml.sklearn.Main', '--pkl-pipeline-input', '/var/folders/zk/z53vrs154q5_w79596900sn80000gn/T/pipeline-x7l2qny2.pkl.z', '--pmml-output', 'MetricModelDemo.xml']' returned non-zero exit status 1."
     ]
    }
   ],
   "source": [
    "from sklearn2pmml import sklearn2pmml\n",
    "sklearn2pmml(pipe, \"MetricModelDemo.xml\")"
   ]
  },
  {
   "cell_type": "markdown",
   "metadata": {
    "deletable": true,
    "editable": true
   },
   "source": [
    "# Iris"
   ]
  },
  {
   "cell_type": "code",
   "execution_count": null,
   "metadata": {
    "collapsed": false,
    "deletable": true,
    "editable": true
   },
   "outputs": [],
   "source": [
    "import pandas as pd\n",
    "from sklearn import datasets\n",
    "iris = datasets.load_iris()\n",
    "iris_df = pd.DataFrame(iris.data, columns=iris.feature_names)\n",
    "iris_df.tail()"
   ]
  },
  {
   "cell_type": "code",
   "execution_count": null,
   "metadata": {
    "collapsed": true,
    "deletable": true,
    "editable": true
   },
   "outputs": [],
   "source": [
    "from sklearn2pmml import PMMLPipeline\n",
    "from sklearn.decomposition import PCA\n",
    "from sklearn.feature_selection import SelectKBest\n",
    "from sklearn.linear_model import LogisticRegression"
   ]
  },
  {
   "cell_type": "code",
   "execution_count": null,
   "metadata": {
    "collapsed": false,
    "deletable": true,
    "editable": true
   },
   "outputs": [],
   "source": [
    "iris.target"
   ]
  },
  {
   "cell_type": "code",
   "execution_count": null,
   "metadata": {
    "collapsed": false,
    "deletable": true,
    "editable": true
   },
   "outputs": [],
   "source": [
    "pipe = PMMLPipeline([\n",
    "    (\"pca\", PCA(n_components = 3)),\n",
    "    (\"slectKbest\", SelectKBest(2)),\n",
    "    (\"classifier\", LogisticRegression())\n",
    "])"
   ]
  },
  {
   "cell_type": "code",
   "execution_count": null,
   "metadata": {
    "collapsed": false,
    "deletable": true,
    "editable": true
   },
   "outputs": [],
   "source": [
    "pipe.fit(iris_df, iris.target)"
   ]
  },
  {
   "cell_type": "code",
   "execution_count": null,
   "metadata": {
    "collapsed": false,
    "deletable": true,
    "editable": true
   },
   "outputs": [],
   "source": [
    "from sklearn2pmml import sklearn2pmml\n",
    "sklearn2pmml(iris_pipeline, \"LogisticRegressionIris.xml\", with_repr = True)"
   ]
  },
  {
   "cell_type": "markdown",
   "metadata": {
    "deletable": true,
    "editable": true
   },
   "source": [
    "# Titanic"
   ]
  },
  {
   "cell_type": "code",
   "execution_count": null,
   "metadata": {
    "collapsed": false,
    "deletable": true,
    "editable": true
   },
   "outputs": [],
   "source": [
    "rawData = pd.read_csv(\"titanic.csv\")\n",
    "rawData.head()"
   ]
  },
  {
   "cell_type": "code",
   "execution_count": null,
   "metadata": {
    "collapsed": false,
    "deletable": true,
    "editable": true
   },
   "outputs": [],
   "source": [
    "targets = rawData.Survived\n",
    "features = rawData[['Pclass', 'Sex', 'Age', 'SibSp', 'Parch', 'Fare', 'Embarked']]"
   ]
  },
  {
   "cell_type": "code",
   "execution_count": null,
   "metadata": {
    "collapsed": true,
    "deletable": true,
    "editable": true
   },
   "outputs": [],
   "source": [
    "from sklearn.preprocessing import LabelEncoder"
   ]
  },
  {
   "cell_type": "code",
   "execution_count": null,
   "metadata": {
    "collapsed": false,
    "deletable": true,
    "editable": true
   },
   "outputs": [],
   "source": [
    "from sklearn.preprocessing import OneHotEncoder\n",
    "le = LabelEncoder(missing_values=-1)\n",
    "features.loc[:,['Pclass', 'Sex', 'Embarked']] = features.loc[:,['Pclass', 'Sex', 'Embarked']].apply(LabelEncoder().fit_transform)"
   ]
  },
  {
   "cell_type": "code",
   "execution_count": null,
   "metadata": {
    "collapsed": true,
    "deletable": true,
    "editable": true
   },
   "outputs": [],
   "source": [
    "from sklearn.model_selection import train_test_split\n",
    "from sklearn.preprocessing import Imputer\n",
    "trainX, testX, trainY, testY = train_test_split(features, targets, random_state=0)"
   ]
  },
  {
   "cell_type": "code",
   "execution_count": null,
   "metadata": {
    "collapsed": false,
    "deletable": true,
    "editable": true
   },
   "outputs": [],
   "source": [
    "from sklearn.preprocessing import Imputer\n",
    "imp = Imputer(missing_values=-1)\n",
    "imp.fit(trainX)\n",
    "trainX = imp.transform(trainX)\n",
    "testX = imp.transform(testX)"
   ]
  },
  {
   "cell_type": "code",
   "execution_count": null,
   "metadata": {
    "collapsed": true,
    "deletable": true,
    "editable": true
   },
   "outputs": [],
   "source": []
  }
 ],
 "metadata": {
  "kernelspec": {
   "display_name": "Python 3",
   "language": "python",
   "name": "python3"
  },
  "language_info": {
   "codemirror_mode": {
    "name": "ipython",
    "version": 3
   },
   "file_extension": ".py",
   "mimetype": "text/x-python",
   "name": "python",
   "nbconvert_exporter": "python",
   "pygments_lexer": "ipython3",
   "version": "3.6.0"
  }
 },
 "nbformat": 4,
 "nbformat_minor": 2
}
