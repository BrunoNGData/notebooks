{
 "cells": [
  {
   "cell_type": "markdown",
   "metadata": {
    "deletable": true,
    "editable": true
   },
   "source": [
    "<div id=\"toc\"></div>"
   ]
  },
  {
   "cell_type": "markdown",
   "metadata": {
    "deletable": true,
    "editable": true
   },
   "source": [
    "The following code is simply to generate a table of contents."
   ]
  },
  {
   "cell_type": "code",
   "execution_count": 1,
   "metadata": {
    "collapsed": false,
    "deletable": true,
    "editable": true
   },
   "outputs": [
    {
     "data": {
      "application/javascript": [
       "$.getScript('https://kmahelona.github.io/ipython_notebook_goodies/ipython_notebook_toc.js')"
      ],
      "text/plain": [
       "<IPython.core.display.Javascript object>"
      ]
     },
     "metadata": {},
     "output_type": "display_data"
    }
   ],
   "source": [
    "%%javascript \n",
    "$.getScript('https://kmahelona.github.io/ipython_notebook_goodies/ipython_notebook_toc.js')"
   ]
  },
  {
   "cell_type": "markdown",
   "metadata": {
    "deletable": true,
    "editable": true
   },
   "source": [
    "# Introduction\n",
    "This guide is for those that would like to create models in Python to create new metrics in Lily, according to the diagram below. Especially since generating PMML files from models in Python is a bit tricky, this overview might be of some use.\n",
    "\n",
    "I will go over most steps, from exporting dataframes out of Lily, to creating a model to predict a new metric in Python, to importing that metric back into Lily using PMML. I make use of several tools and packages, such as Jupyter Notebook, Pandas, Sklearn and a PMML-generator, which I will try to describe in some detail.\n",
    "\n",
    "For this demo, I created a model that predicts the monthly income of a customer based on socio demographic metrics. This simple regression model is only used for the sake of demonstration, so I did not put much effort into issues like handling missing data, feature engineering, etc. The goal is simply to provide a possible workflow for model metric creation, and to add Python to the diagram below.\n",
    "\n",
    "![](loop.png)"
   ]
  },
  {
   "cell_type": "markdown",
   "metadata": {
    "deletable": true,
    "editable": true
   },
   "source": [
    "# Export Dataframe out of Lily\n",
    "Generating a dataframe via the User Interface is pretty straightforward and well-documented. Just click on the '+' sign in the Dataframe tab to create a new dataframe, and provide a name and description. The set selection lets you choose which customers are included – i.e. the rows. The metric selection will take up the columns. For this demo, I simply selected all Socio Demo metrics, including the monthly income we would like to predict. It is important to enable the header option in the advanced options section as that will make life much easier.\n",
    "\n",
    "After hitting ‘Save’, a dataframe will be generated which might take several minutes. At the status tab, a download icon will appear eventually. The download will consist of four separate files, with ‘dataframe.csv’ being the one we are interested in."
   ]
  },
  {
   "cell_type": "markdown",
   "metadata": {
    "deletable": true,
    "editable": true
   },
   "source": [
    "# Setting up a Python Environment\n",
    "You should have installed [Python](https://www.python.org/downloads/) (2 or 3, as you like), [Git](https://git-scm.com/download/mac) and [Pip](https://pip.pypa.io/en/stable/installing/). The latter is a tool for installing Python packages. Simply download the get-pip.py script and run ‘python get-pip.py’ in the commander where you downloaded the script. Now you can install any packages running 'pip install -package-'. You should have these packages installed:\n",
    "\n",
    "* 'pip install jupyter notebook' –  a handy Python environment\n",
    "* 'pip install scipy' – providing scientific computing tools\n",
    "* 'pip install pandas' – providing dataframe functionality as in R\n",
    "* 'pip install scikit-learn' – providing model functionality\n",
    "* 'pip install sklearn_pandas' – providing necessary tools for generating PMML\n",
    "\n",
    "Some of these might require dependencies that will be installed automatically, but that might not be the case. If so, please install the required packages as well. If you successfully installed the packages above, you should be good to go.\n",
    "\n",
    "You should also install sklearn2pmml by running following command. It is a package that generates a PMML file from an Sklearn object.\n",
    "\n",
    "* 'pip install --user git+https://github.com/jpmml/sklearn2pmml.git'"
   ]
  },
  {
   "cell_type": "markdown",
   "metadata": {
    "deletable": true,
    "editable": true
   },
   "source": [
    "# Jupyter Notebook\n",
    "Jupyter notebook is a very accessible Python environment, consisting of text and code cells. If you are familiar with R Markdown, this is Python’s equivalent. Simply run ‘jupyter notebook’ in the terminal (at the directory where your ‘dataframe.csv’ is located) to fire it up. From there, hit the ‘New’ drop menu at the right, and ‘Python 2 or 3’ to create a new notebook. A typical notebook contains code and text cells alternating each other, where the code cells are being explained by text cells written in Markdown. You can try the notebook in your browser [here](https://try.jupyter.org/).\n",
    "\n",
    "If you are not familiar with Jupyter Notebook, it might be a bit daunting at first, but it really pays off to get to know the basics and the shortcuts in particular. There are many relevant tutorials out there, but basically, there are two modes: command mode and edit mode. Command mode lets you play around on the level of the cells, like selecting, adding, removing text and code cells. Edit mode lets you edit one cell in particular. This is a list of shortcuts that I for one use all the time. \n",
    "\n",
    "* Press Esc and Enter to switch between Command and Edit mode.\n",
    "* Press H to see a list of all shortcuts.\n",
    "* In command mode:\n",
    "    * Press B or A to create a new cell below or above\n",
    "    * Press Arrow up and down to navigate\n",
    "    * Press D twice to delete a cell\n",
    "    * Press Y or M to alternate between code or text cells\n",
    "* In Edit mode:\n",
    "    * Press Shift + Enter to run a cell, either text or code\n",
    "\n",
    "The next part will contain the actual code to import the dataframe in Python, to create a model, and to generate a PMML file."
   ]
  },
  {
   "cell_type": "markdown",
   "metadata": {
    "deletable": true,
    "editable": true
   },
   "source": [
    "# The Code\n",
    "First, we need to import the necessary packages. Pandas will give us dataframe functionality as in R. Matplotlib will be used to generate some plots."
   ]
  },
  {
   "cell_type": "code",
   "execution_count": 2,
   "metadata": {
    "collapsed": false,
    "deletable": true,
    "editable": true
   },
   "outputs": [],
   "source": [
    "import pandas as pd\n",
    "import numpy as np\n",
    "import matplotlib.pyplot as plt\n",
    "\n",
    "import warnings\n",
    "warnings.filterwarnings('ignore')"
   ]
  },
  {
   "cell_type": "markdown",
   "metadata": {
    "deletable": true,
    "editable": true
   },
   "source": [
    "## Import Dataframe\n",
    "When a dataframe is generated in Lily's User Interface, the name of the actual data file is always 'dataframe.csv' and the delimiter is by default set on a vertical bar. So to import the data into a Pandas dataframe, we can run the following code. Note that I have located the dataframe file in the same folder as this notebook. You should provide a path if that is not the case for you. \n",
    "\n",
    "Finally, the tail function just shows us the final rows for the sake of illustration. The head function could be used just as well, but I generally prefer the tail function as it lets you check if all rows are included and nothing is wrong with the data."
   ]
  },
  {
   "cell_type": "code",
   "execution_count": 3,
   "metadata": {
    "collapsed": false,
    "deletable": true,
    "editable": true,
    "scrolled": false
   },
   "outputs": [
    {
     "data": {
      "text/html": [
       "<div>\n",
       "<table border=\"1\" class=\"dataframe\">\n",
       "  <thead>\n",
       "    <tr style=\"text-align: right;\">\n",
       "      <th></th>\n",
       "      <th>ID</th>\n",
       "      <th>referenceTime</th>\n",
       "      <th>originalSourceIds</th>\n",
       "      <th>title</th>\n",
       "      <th>lastName</th>\n",
       "      <th>firstName</th>\n",
       "      <th>middleName</th>\n",
       "      <th>streetAddress</th>\n",
       "      <th>state</th>\n",
       "      <th>zipcode</th>\n",
       "      <th>...</th>\n",
       "      <th>totalAssets</th>\n",
       "      <th>age</th>\n",
       "      <th>ageCategory</th>\n",
       "      <th>crmId</th>\n",
       "      <th>flagElitesMember</th>\n",
       "      <th>flagSelfSufficientsMember</th>\n",
       "      <th>flagNewWorldlyAdoptersMember</th>\n",
       "      <th>flagSafetySeekersMember</th>\n",
       "      <th>flagTraditionalistsMember</th>\n",
       "      <th>flagUpwardlyMobilesMember</th>\n",
       "    </tr>\n",
       "  </thead>\n",
       "  <tbody>\n",
       "    <tr>\n",
       "      <th>50008</th>\n",
       "      <td>-4619305595032841619</td>\n",
       "      <td>2017-01-26T13:53:55.288Z</td>\n",
       "      <td>[\"\"CRM:20439\"\"]</td>\n",
       "      <td>Mr.</td>\n",
       "      <td>Gould</td>\n",
       "      <td>Ken</td>\n",
       "      <td>A</td>\n",
       "      <td>4756 Warner Street</td>\n",
       "      <td>FL</td>\n",
       "      <td>33137.0</td>\n",
       "      <td>...</td>\n",
       "      <td>96743.0</td>\n",
       "      <td>31.0</td>\n",
       "      <td>18-34</td>\n",
       "      <td>20439.0</td>\n",
       "      <td>0</td>\n",
       "      <td>0</td>\n",
       "      <td>1</td>\n",
       "      <td>0</td>\n",
       "      <td>0</td>\n",
       "      <td>0</td>\n",
       "    </tr>\n",
       "    <tr>\n",
       "      <th>50009</th>\n",
       "      <td>-4619282005108468590</td>\n",
       "      <td>2017-01-26T13:53:55.288Z</td>\n",
       "      <td>[\"\"CRM:3843\"\"]</td>\n",
       "      <td>Mr.</td>\n",
       "      <td>Durand</td>\n",
       "      <td>David</td>\n",
       "      <td>E</td>\n",
       "      <td>363 Tator Patch Road</td>\n",
       "      <td>IL</td>\n",
       "      <td>60455.0</td>\n",
       "      <td>...</td>\n",
       "      <td>116960.0</td>\n",
       "      <td>33.0</td>\n",
       "      <td>18-34</td>\n",
       "      <td>3843.0</td>\n",
       "      <td>0</td>\n",
       "      <td>0</td>\n",
       "      <td>0</td>\n",
       "      <td>0</td>\n",
       "      <td>0</td>\n",
       "      <td>0</td>\n",
       "    </tr>\n",
       "    <tr>\n",
       "      <th>50010</th>\n",
       "      <td>-4618812785648630615</td>\n",
       "      <td>2017-01-26T13:53:55.288Z</td>\n",
       "      <td>[\"\"CRM:27810\"\"]</td>\n",
       "      <td>Mr.</td>\n",
       "      <td>McCutcheon</td>\n",
       "      <td>Lloyd</td>\n",
       "      <td>C</td>\n",
       "      <td>3028 Locust Court</td>\n",
       "      <td>CA</td>\n",
       "      <td>90706.0</td>\n",
       "      <td>...</td>\n",
       "      <td>37051.0</td>\n",
       "      <td>29.0</td>\n",
       "      <td>18-34</td>\n",
       "      <td>27810.0</td>\n",
       "      <td>0</td>\n",
       "      <td>0</td>\n",
       "      <td>0</td>\n",
       "      <td>0</td>\n",
       "      <td>0</td>\n",
       "      <td>0</td>\n",
       "    </tr>\n",
       "    <tr>\n",
       "      <th>50011</th>\n",
       "      <td>-4618783767582262908</td>\n",
       "      <td>2017-01-26T13:53:55.288Z</td>\n",
       "      <td>[\"\"CRM:24247\"\"]</td>\n",
       "      <td>Ms.</td>\n",
       "      <td>Barr</td>\n",
       "      <td>Gloria</td>\n",
       "      <td>D</td>\n",
       "      <td>3048 Pinewood Drive</td>\n",
       "      <td>IL</td>\n",
       "      <td>60606.0</td>\n",
       "      <td>...</td>\n",
       "      <td>232889.0</td>\n",
       "      <td>24.0</td>\n",
       "      <td>18-34</td>\n",
       "      <td>24247.0</td>\n",
       "      <td>0</td>\n",
       "      <td>0</td>\n",
       "      <td>0</td>\n",
       "      <td>0</td>\n",
       "      <td>0</td>\n",
       "      <td>0</td>\n",
       "    </tr>\n",
       "    <tr>\n",
       "      <th>50012</th>\n",
       "      <td>-4618210187121199517</td>\n",
       "      <td>2017-01-26T13:53:55.288Z</td>\n",
       "      <td>[\"\"CRM:7639\"\"]</td>\n",
       "      <td>Mr.</td>\n",
       "      <td>Vo</td>\n",
       "      <td>Carlos</td>\n",
       "      <td>I</td>\n",
       "      <td>3232 Ashcraft Court</td>\n",
       "      <td>CA</td>\n",
       "      <td>92111.0</td>\n",
       "      <td>...</td>\n",
       "      <td>148206.0</td>\n",
       "      <td>20.0</td>\n",
       "      <td>18-34</td>\n",
       "      <td>7639.0</td>\n",
       "      <td>0</td>\n",
       "      <td>0</td>\n",
       "      <td>0</td>\n",
       "      <td>0</td>\n",
       "      <td>0</td>\n",
       "      <td>0</td>\n",
       "    </tr>\n",
       "    <tr>\n",
       "      <th>50013</th>\n",
       "      <td>-4618209560386695881</td>\n",
       "      <td>2017-01-26T13:53:55.288Z</td>\n",
       "      <td>[\"\"CRM:16017\"\"]</td>\n",
       "      <td>Ms.</td>\n",
       "      <td>Lacefield</td>\n",
       "      <td>Mary</td>\n",
       "      <td>P</td>\n",
       "      <td>1776 Patterson Street</td>\n",
       "      <td>TX</td>\n",
       "      <td>77002.0</td>\n",
       "      <td>...</td>\n",
       "      <td>29987.0</td>\n",
       "      <td>20.0</td>\n",
       "      <td>18-34</td>\n",
       "      <td>16017.0</td>\n",
       "      <td>0</td>\n",
       "      <td>0</td>\n",
       "      <td>0</td>\n",
       "      <td>0</td>\n",
       "      <td>0</td>\n",
       "      <td>0</td>\n",
       "    </tr>\n",
       "    <tr>\n",
       "      <th>50014</th>\n",
       "      <td>-4618028639641339898</td>\n",
       "      <td>2017-01-26T13:53:55.288Z</td>\n",
       "      <td>[\"\"CRM:26883\"\"]</td>\n",
       "      <td>Mr.</td>\n",
       "      <td>Walker</td>\n",
       "      <td>Warren</td>\n",
       "      <td>L</td>\n",
       "      <td>498 Willison Street</td>\n",
       "      <td>MN</td>\n",
       "      <td>55429.0</td>\n",
       "      <td>...</td>\n",
       "      <td>28607.0</td>\n",
       "      <td>31.0</td>\n",
       "      <td>18-34</td>\n",
       "      <td>26883.0</td>\n",
       "      <td>0</td>\n",
       "      <td>0</td>\n",
       "      <td>0</td>\n",
       "      <td>0</td>\n",
       "      <td>0</td>\n",
       "      <td>0</td>\n",
       "    </tr>\n",
       "    <tr>\n",
       "      <th>50015</th>\n",
       "      <td>-4617960797035284685</td>\n",
       "      <td>2017-01-26T13:53:55.288Z</td>\n",
       "      <td>[\"\"CRM:43096\"\"]</td>\n",
       "      <td>Dr.</td>\n",
       "      <td>Czajkowski</td>\n",
       "      <td>Eric</td>\n",
       "      <td>C</td>\n",
       "      <td>2246 Bicetown Road</td>\n",
       "      <td>NY</td>\n",
       "      <td>10013.0</td>\n",
       "      <td>...</td>\n",
       "      <td>25481.0</td>\n",
       "      <td>86.0</td>\n",
       "      <td>50 or older</td>\n",
       "      <td>43096.0</td>\n",
       "      <td>0</td>\n",
       "      <td>0</td>\n",
       "      <td>0</td>\n",
       "      <td>0</td>\n",
       "      <td>0</td>\n",
       "      <td>0</td>\n",
       "    </tr>\n",
       "    <tr>\n",
       "      <th>50016</th>\n",
       "      <td>-4617721746446202455</td>\n",
       "      <td>2017-01-26T13:53:55.288Z</td>\n",
       "      <td>[\"\"CRM:10273\"\"]</td>\n",
       "      <td>Mrs.</td>\n",
       "      <td>Harris</td>\n",
       "      <td>Jana</td>\n",
       "      <td>J</td>\n",
       "      <td>1548 Watson Street</td>\n",
       "      <td>NJ</td>\n",
       "      <td>8102.0</td>\n",
       "      <td>...</td>\n",
       "      <td>38964.0</td>\n",
       "      <td>85.0</td>\n",
       "      <td>50 or older</td>\n",
       "      <td>10273.0</td>\n",
       "      <td>0</td>\n",
       "      <td>0</td>\n",
       "      <td>0</td>\n",
       "      <td>0</td>\n",
       "      <td>1</td>\n",
       "      <td>0</td>\n",
       "    </tr>\n",
       "    <tr>\n",
       "      <th>50017</th>\n",
       "      <td>-4616424157466986398</td>\n",
       "      <td>2017-01-26T13:53:55.288Z</td>\n",
       "      <td>[\"\"CRM:22798\"\"]</td>\n",
       "      <td>Ms.</td>\n",
       "      <td>Foye</td>\n",
       "      <td>Jennie</td>\n",
       "      <td>R</td>\n",
       "      <td>2184 Heliport Loop</td>\n",
       "      <td>IN</td>\n",
       "      <td>47631.0</td>\n",
       "      <td>...</td>\n",
       "      <td>30969.0</td>\n",
       "      <td>40.0</td>\n",
       "      <td>35-49</td>\n",
       "      <td>22798.0</td>\n",
       "      <td>0</td>\n",
       "      <td>0</td>\n",
       "      <td>0</td>\n",
       "      <td>0</td>\n",
       "      <td>1</td>\n",
       "      <td>0</td>\n",
       "    </tr>\n",
       "  </tbody>\n",
       "</table>\n",
       "<p>10 rows × 49 columns</p>\n",
       "</div>"
      ],
      "text/plain": [
       "                        ID             referenceTime originalSourceIds title  \\\n",
       "50008 -4619305595032841619  2017-01-26T13:53:55.288Z   [\"\"CRM:20439\"\"]   Mr.   \n",
       "50009 -4619282005108468590  2017-01-26T13:53:55.288Z    [\"\"CRM:3843\"\"]   Mr.   \n",
       "50010 -4618812785648630615  2017-01-26T13:53:55.288Z   [\"\"CRM:27810\"\"]   Mr.   \n",
       "50011 -4618783767582262908  2017-01-26T13:53:55.288Z   [\"\"CRM:24247\"\"]   Ms.   \n",
       "50012 -4618210187121199517  2017-01-26T13:53:55.288Z    [\"\"CRM:7639\"\"]   Mr.   \n",
       "50013 -4618209560386695881  2017-01-26T13:53:55.288Z   [\"\"CRM:16017\"\"]   Ms.   \n",
       "50014 -4618028639641339898  2017-01-26T13:53:55.288Z   [\"\"CRM:26883\"\"]   Mr.   \n",
       "50015 -4617960797035284685  2017-01-26T13:53:55.288Z   [\"\"CRM:43096\"\"]   Dr.   \n",
       "50016 -4617721746446202455  2017-01-26T13:53:55.288Z   [\"\"CRM:10273\"\"]  Mrs.   \n",
       "50017 -4616424157466986398  2017-01-26T13:53:55.288Z   [\"\"CRM:22798\"\"]   Ms.   \n",
       "\n",
       "         lastName firstName middleName          streetAddress state  zipcode  \\\n",
       "50008       Gould       Ken          A     4756 Warner Street    FL  33137.0   \n",
       "50009      Durand     David          E   363 Tator Patch Road    IL  60455.0   \n",
       "50010  McCutcheon     Lloyd          C      3028 Locust Court    CA  90706.0   \n",
       "50011        Barr    Gloria          D    3048 Pinewood Drive    IL  60606.0   \n",
       "50012          Vo    Carlos          I    3232 Ashcraft Court    CA  92111.0   \n",
       "50013   Lacefield      Mary          P  1776 Patterson Street    TX  77002.0   \n",
       "50014      Walker    Warren          L    498 Willison Street    MN  55429.0   \n",
       "50015  Czajkowski      Eric          C     2246 Bicetown Road    NY  10013.0   \n",
       "50016      Harris      Jana          J     1548 Watson Street    NJ   8102.0   \n",
       "50017        Foye    Jennie          R     2184 Heliport Loop    IN  47631.0   \n",
       "\n",
       "                 ...            totalAssets   age  ageCategory    crmId  \\\n",
       "50008            ...                96743.0  31.0        18-34  20439.0   \n",
       "50009            ...               116960.0  33.0        18-34   3843.0   \n",
       "50010            ...                37051.0  29.0        18-34  27810.0   \n",
       "50011            ...               232889.0  24.0        18-34  24247.0   \n",
       "50012            ...               148206.0  20.0        18-34   7639.0   \n",
       "50013            ...                29987.0  20.0        18-34  16017.0   \n",
       "50014            ...                28607.0  31.0        18-34  26883.0   \n",
       "50015            ...                25481.0  86.0  50 or older  43096.0   \n",
       "50016            ...                38964.0  85.0  50 or older  10273.0   \n",
       "50017            ...                30969.0  40.0        35-49  22798.0   \n",
       "\n",
       "      flagElitesMember flagSelfSufficientsMember flagNewWorldlyAdoptersMember  \\\n",
       "50008                0                         0                            1   \n",
       "50009                0                         0                            0   \n",
       "50010                0                         0                            0   \n",
       "50011                0                         0                            0   \n",
       "50012                0                         0                            0   \n",
       "50013                0                         0                            0   \n",
       "50014                0                         0                            0   \n",
       "50015                0                         0                            0   \n",
       "50016                0                         0                            0   \n",
       "50017                0                         0                            0   \n",
       "\n",
       "      flagSafetySeekersMember  flagTraditionalistsMember  \\\n",
       "50008                       0                          0   \n",
       "50009                       0                          0   \n",
       "50010                       0                          0   \n",
       "50011                       0                          0   \n",
       "50012                       0                          0   \n",
       "50013                       0                          0   \n",
       "50014                       0                          0   \n",
       "50015                       0                          0   \n",
       "50016                       0                          1   \n",
       "50017                       0                          1   \n",
       "\n",
       "      flagUpwardlyMobilesMember  \n",
       "50008                         0  \n",
       "50009                         0  \n",
       "50010                         0  \n",
       "50011                         0  \n",
       "50012                         0  \n",
       "50013                         0  \n",
       "50014                         0  \n",
       "50015                         0  \n",
       "50016                         0  \n",
       "50017                         0  \n",
       "\n",
       "[10 rows x 49 columns]"
      ]
     },
     "execution_count": 3,
     "metadata": {},
     "output_type": "execute_result"
    }
   ],
   "source": [
    "rawData = pd.read_csv(\"dataframe.csv\", delimiter=\"|\")\n",
    "rawData.tail(10)"
   ]
  },
  {
   "cell_type": "markdown",
   "metadata": {
    "deletable": true,
    "editable": true
   },
   "source": [
    "## Feature Engineering\n",
    "There are quite a few categorical variables in our data that are as such not useful for a regression model. It is possible though to change such a variable into multiple binary variables, one for every value the original variable can take. This is something called one hot encoding. Because some variables (like zipcode) can take up many, many values, we would like to limit this number (as we would end up with too many binary features otherwise).\n",
    "\n",
    "With the following code, we loop through the columns and verify the number of values that variable can take. If it is within the range of 3 and 10 (and if it is an object and not already a string), we store that variable in a list called 'dummies'. These are the variables we would like to encode into binary features per value."
   ]
  },
  {
   "cell_type": "code",
   "execution_count": 4,
   "metadata": {
    "collapsed": false,
    "deletable": true,
    "editable": true
   },
   "outputs": [
    {
     "name": "stdout",
     "output_type": "stream",
     "text": [
      "title ['Mr.' 'Mrs.' 'Ms.' 'Dr.' nan]\n",
      "gender ['male' 'female' nan]\n",
      "lifestage ['Mature Years' 'Younger Years Fiscal Fledlings' 'Younger Years'\n",
      " 'Family Life' nan]\n",
      "maritalStatus ['Married' 'Single (never in legal unions)' 'In registered partnership'\n",
      " 'Divorced' 'Widowed' nan]\n",
      "education ['associate' 'bachelor' 'doctoral' 'master' 'secondary' 'elementary'\n",
      " 'first-professional degree' nan]\n",
      "resCountry ['US' nan]\n",
      "ageCategory ['50 or older' '35-49' '18-34' nan]\n"
     ]
    }
   ],
   "source": [
    "dummies, mask = [], []\n",
    "for i in range(len(rawData.columns)):\n",
    "    possibleValues = len(rawData.iloc[:,i].unique())\n",
    "    feature = rawData.columns[i]\n",
    "    featureType = rawData.iloc[:,i].dtype\n",
    "    if featureType == 'object' and possibleValues in range(2, 10):\n",
    "        dummies.append(feature)\n",
    "        mask.append(True)\n",
    "        print(feature, rawData.iloc[:,i].unique())\n",
    "    else:\n",
    "        mask.append(False)"
   ]
  },
  {
   "cell_type": "markdown",
   "metadata": {
    "deletable": true,
    "editable": true
   },
   "source": [
    "For now, we use the Pandas get_dummies() function to encode these dummy variables."
   ]
  },
  {
   "cell_type": "code",
   "execution_count": 5,
   "metadata": {
    "collapsed": false,
    "deletable": true,
    "editable": true
   },
   "outputs": [],
   "source": [
    "data = pd.get_dummies(rawData, columns=dummies)"
   ]
  },
  {
   "cell_type": "markdown",
   "metadata": {
    "deletable": true,
    "editable": true
   },
   "source": [
    "The result is a binary feature for every category the original feature could take, as we can see here."
   ]
  },
  {
   "cell_type": "code",
   "execution_count": 6,
   "metadata": {
    "collapsed": false,
    "deletable": true,
    "editable": true
   },
   "outputs": [
    {
     "data": {
      "text/plain": [
       "Index(['ID', 'referenceTime', 'originalSourceIds', 'lastName', 'firstName',\n",
       "       'middleName', 'streetAddress', 'state', 'zipcode', 'emailAddress',\n",
       "       'phoneNumber', 'flagAlive', 'occupation', 'jobSector', 'resCity',\n",
       "       'cityPopulation', 'cityDensity', 'mainNationality', 'primaryLanguage',\n",
       "       'flagStudent', 'flagRetired', 'flagEmployed', 'socialClassInd',\n",
       "       'cohort', 'monthlyIncomeReal', 'nbrChildren', 'flagHouseOwner',\n",
       "       'flagHomeTenant', 'flagValueProperty', 'flagLandlord',\n",
       "       'flagWealthyRegion', 'residenceType', 'nbrPropertiesOwned',\n",
       "       'totalAssets', 'age', 'crmId', 'flagElitesMember',\n",
       "       'flagSelfSufficientsMember', 'flagNewWorldlyAdoptersMember',\n",
       "       'flagSafetySeekersMember', 'flagTraditionalistsMember',\n",
       "       'flagUpwardlyMobilesMember', 'title_Dr.', 'title_Mr.', 'title_Mrs.',\n",
       "       'title_Ms.', 'gender_female', 'gender_male', 'lifestage_Family Life',\n",
       "       'lifestage_Mature Years', 'lifestage_Younger Years',\n",
       "       'lifestage_Younger Years Fiscal Fledlings', 'maritalStatus_Divorced',\n",
       "       'maritalStatus_In registered partnership', 'maritalStatus_Married',\n",
       "       'maritalStatus_Single (never in legal unions)', 'maritalStatus_Widowed',\n",
       "       'education_associate', 'education_bachelor', 'education_doctoral',\n",
       "       'education_elementary', 'education_first-professional degree',\n",
       "       'education_master', 'education_secondary', 'resCountry_US',\n",
       "       'ageCategory_18-34', 'ageCategory_35-49', 'ageCategory_50 or older'],\n",
       "      dtype='object')"
      ]
     },
     "execution_count": 6,
     "metadata": {},
     "output_type": "execute_result"
    }
   ],
   "source": [
    "data.columns"
   ]
  },
  {
   "cell_type": "markdown",
   "metadata": {
    "deletable": true,
    "editable": true
   },
   "source": [
    "## Feature Selection\n",
    "For this demo, we would like to create a regression model to predict the monthly income of a customer. Therefore, we can only use numerical features (continuous or binary). Note that we could map categorical values into numerical ones, but here we do not bother with that, we simply delete them.\n",
    "\n",
    "The describe function is a handy way to filter on numerical values."
   ]
  },
  {
   "cell_type": "code",
   "execution_count": 7,
   "metadata": {
    "collapsed": false,
    "deletable": true,
    "editable": true
   },
   "outputs": [
    {
     "data": {
      "text/html": [
       "<div>\n",
       "<table border=\"1\" class=\"dataframe\">\n",
       "  <thead>\n",
       "    <tr style=\"text-align: right;\">\n",
       "      <th></th>\n",
       "      <th>ID</th>\n",
       "      <th>zipcode</th>\n",
       "      <th>flagAlive</th>\n",
       "      <th>jobSector</th>\n",
       "      <th>cityPopulation</th>\n",
       "      <th>cityDensity</th>\n",
       "      <th>mainNationality</th>\n",
       "      <th>primaryLanguage</th>\n",
       "      <th>flagStudent</th>\n",
       "      <th>flagRetired</th>\n",
       "      <th>...</th>\n",
       "      <th>education_bachelor</th>\n",
       "      <th>education_doctoral</th>\n",
       "      <th>education_elementary</th>\n",
       "      <th>education_first-professional degree</th>\n",
       "      <th>education_master</th>\n",
       "      <th>education_secondary</th>\n",
       "      <th>resCountry_US</th>\n",
       "      <th>ageCategory_18-34</th>\n",
       "      <th>ageCategory_35-49</th>\n",
       "      <th>ageCategory_50 or older</th>\n",
       "    </tr>\n",
       "  </thead>\n",
       "  <tbody>\n",
       "    <tr>\n",
       "      <th>count</th>\n",
       "      <td>5.001800e+04</td>\n",
       "      <td>50000.000000</td>\n",
       "      <td>50018.0</td>\n",
       "      <td>0.0</td>\n",
       "      <td>0.0</td>\n",
       "      <td>0.0</td>\n",
       "      <td>0.0</td>\n",
       "      <td>0.0</td>\n",
       "      <td>4.073000e+03</td>\n",
       "      <td>1.293300e+04</td>\n",
       "      <td>...</td>\n",
       "      <td>50018.000000</td>\n",
       "      <td>50018.000000</td>\n",
       "      <td>50018.000000</td>\n",
       "      <td>50018.000000</td>\n",
       "      <td>50018.000000</td>\n",
       "      <td>50018.000000</td>\n",
       "      <td>50018.000000</td>\n",
       "      <td>50018.000000</td>\n",
       "      <td>50018.00000</td>\n",
       "      <td>50018.000000</td>\n",
       "    </tr>\n",
       "    <tr>\n",
       "      <th>mean</th>\n",
       "      <td>-4.426309e+15</td>\n",
       "      <td>50738.002460</td>\n",
       "      <td>1.0</td>\n",
       "      <td>NaN</td>\n",
       "      <td>NaN</td>\n",
       "      <td>NaN</td>\n",
       "      <td>NaN</td>\n",
       "      <td>NaN</td>\n",
       "      <td>-5.442624e+303</td>\n",
       "      <td>-5.433686e+303</td>\n",
       "      <td>...</td>\n",
       "      <td>0.292015</td>\n",
       "      <td>0.010936</td>\n",
       "      <td>0.051142</td>\n",
       "      <td>0.016634</td>\n",
       "      <td>0.280279</td>\n",
       "      <td>0.141449</td>\n",
       "      <td>0.999640</td>\n",
       "      <td>0.370846</td>\n",
       "      <td>0.27742</td>\n",
       "      <td>0.351374</td>\n",
       "    </tr>\n",
       "    <tr>\n",
       "      <th>std</th>\n",
       "      <td>5.320400e+18</td>\n",
       "      <td>29274.147692</td>\n",
       "      <td>0.0</td>\n",
       "      <td>NaN</td>\n",
       "      <td>NaN</td>\n",
       "      <td>NaN</td>\n",
       "      <td>NaN</td>\n",
       "      <td>NaN</td>\n",
       "      <td>inf</td>\n",
       "      <td>inf</td>\n",
       "      <td>...</td>\n",
       "      <td>0.454694</td>\n",
       "      <td>0.104003</td>\n",
       "      <td>0.220289</td>\n",
       "      <td>0.127897</td>\n",
       "      <td>0.449140</td>\n",
       "      <td>0.348488</td>\n",
       "      <td>0.018967</td>\n",
       "      <td>0.483036</td>\n",
       "      <td>0.44773</td>\n",
       "      <td>0.477404</td>\n",
       "    </tr>\n",
       "    <tr>\n",
       "      <th>min</th>\n",
       "      <td>-9.222570e+18</td>\n",
       "      <td>758.000000</td>\n",
       "      <td>1.0</td>\n",
       "      <td>NaN</td>\n",
       "      <td>NaN</td>\n",
       "      <td>NaN</td>\n",
       "      <td>NaN</td>\n",
       "      <td>NaN</td>\n",
       "      <td>-5.486124e+303</td>\n",
       "      <td>-5.486124e+303</td>\n",
       "      <td>...</td>\n",
       "      <td>0.000000</td>\n",
       "      <td>0.000000</td>\n",
       "      <td>0.000000</td>\n",
       "      <td>0.000000</td>\n",
       "      <td>0.000000</td>\n",
       "      <td>0.000000</td>\n",
       "      <td>0.000000</td>\n",
       "      <td>0.000000</td>\n",
       "      <td>0.00000</td>\n",
       "      <td>0.000000</td>\n",
       "    </tr>\n",
       "    <tr>\n",
       "      <th>25%</th>\n",
       "      <td>-4.604410e+18</td>\n",
       "      <td>27801.000000</td>\n",
       "      <td>1.0</td>\n",
       "      <td>NaN</td>\n",
       "      <td>NaN</td>\n",
       "      <td>NaN</td>\n",
       "      <td>NaN</td>\n",
       "      <td>NaN</td>\n",
       "      <td>-5.449181e+303</td>\n",
       "      <td>-5.443883e+303</td>\n",
       "      <td>...</td>\n",
       "      <td>0.000000</td>\n",
       "      <td>0.000000</td>\n",
       "      <td>0.000000</td>\n",
       "      <td>0.000000</td>\n",
       "      <td>0.000000</td>\n",
       "      <td>0.000000</td>\n",
       "      <td>1.000000</td>\n",
       "      <td>0.000000</td>\n",
       "      <td>0.00000</td>\n",
       "      <td>0.000000</td>\n",
       "    </tr>\n",
       "    <tr>\n",
       "      <th>50%</th>\n",
       "      <td>-3.102969e+16</td>\n",
       "      <td>48342.000000</td>\n",
       "      <td>1.0</td>\n",
       "      <td>NaN</td>\n",
       "      <td>NaN</td>\n",
       "      <td>NaN</td>\n",
       "      <td>NaN</td>\n",
       "      <td>NaN</td>\n",
       "      <td>-5.449181e+303</td>\n",
       "      <td>-5.443883e+303</td>\n",
       "      <td>...</td>\n",
       "      <td>0.000000</td>\n",
       "      <td>0.000000</td>\n",
       "      <td>0.000000</td>\n",
       "      <td>0.000000</td>\n",
       "      <td>0.000000</td>\n",
       "      <td>0.000000</td>\n",
       "      <td>1.000000</td>\n",
       "      <td>0.000000</td>\n",
       "      <td>0.00000</td>\n",
       "      <td>0.000000</td>\n",
       "    </tr>\n",
       "    <tr>\n",
       "      <th>75%</th>\n",
       "      <td>4.616544e+18</td>\n",
       "      <td>77002.000000</td>\n",
       "      <td>1.0</td>\n",
       "      <td>NaN</td>\n",
       "      <td>NaN</td>\n",
       "      <td>NaN</td>\n",
       "      <td>NaN</td>\n",
       "      <td>NaN</td>\n",
       "      <td>-5.449181e+303</td>\n",
       "      <td>-5.406339e+303</td>\n",
       "      <td>...</td>\n",
       "      <td>1.000000</td>\n",
       "      <td>0.000000</td>\n",
       "      <td>0.000000</td>\n",
       "      <td>0.000000</td>\n",
       "      <td>1.000000</td>\n",
       "      <td>0.000000</td>\n",
       "      <td>1.000000</td>\n",
       "      <td>1.000000</td>\n",
       "      <td>1.00000</td>\n",
       "      <td>1.000000</td>\n",
       "    </tr>\n",
       "    <tr>\n",
       "      <th>max</th>\n",
       "      <td>9.222953e+18</td>\n",
       "      <td>99925.000000</td>\n",
       "      <td>1.0</td>\n",
       "      <td>NaN</td>\n",
       "      <td>NaN</td>\n",
       "      <td>NaN</td>\n",
       "      <td>NaN</td>\n",
       "      <td>NaN</td>\n",
       "      <td>-5.406321e+303</td>\n",
       "      <td>-5.401023e+303</td>\n",
       "      <td>...</td>\n",
       "      <td>1.000000</td>\n",
       "      <td>1.000000</td>\n",
       "      <td>1.000000</td>\n",
       "      <td>1.000000</td>\n",
       "      <td>1.000000</td>\n",
       "      <td>1.000000</td>\n",
       "      <td>1.000000</td>\n",
       "      <td>1.000000</td>\n",
       "      <td>1.00000</td>\n",
       "      <td>1.000000</td>\n",
       "    </tr>\n",
       "  </tbody>\n",
       "</table>\n",
       "<p>8 rows × 57 columns</p>\n",
       "</div>"
      ],
      "text/plain": [
       "                 ID       zipcode  flagAlive  jobSector  cityPopulation  \\\n",
       "count  5.001800e+04  50000.000000    50018.0        0.0             0.0   \n",
       "mean  -4.426309e+15  50738.002460        1.0        NaN             NaN   \n",
       "std    5.320400e+18  29274.147692        0.0        NaN             NaN   \n",
       "min   -9.222570e+18    758.000000        1.0        NaN             NaN   \n",
       "25%   -4.604410e+18  27801.000000        1.0        NaN             NaN   \n",
       "50%   -3.102969e+16  48342.000000        1.0        NaN             NaN   \n",
       "75%    4.616544e+18  77002.000000        1.0        NaN             NaN   \n",
       "max    9.222953e+18  99925.000000        1.0        NaN             NaN   \n",
       "\n",
       "       cityDensity  mainNationality  primaryLanguage    flagStudent  \\\n",
       "count          0.0              0.0              0.0   4.073000e+03   \n",
       "mean           NaN              NaN              NaN -5.442624e+303   \n",
       "std            NaN              NaN              NaN            inf   \n",
       "min            NaN              NaN              NaN -5.486124e+303   \n",
       "25%            NaN              NaN              NaN -5.449181e+303   \n",
       "50%            NaN              NaN              NaN -5.449181e+303   \n",
       "75%            NaN              NaN              NaN -5.449181e+303   \n",
       "max            NaN              NaN              NaN -5.406321e+303   \n",
       "\n",
       "         flagRetired           ...             education_bachelor  \\\n",
       "count   1.293300e+04           ...                   50018.000000   \n",
       "mean  -5.433686e+303           ...                       0.292015   \n",
       "std              inf           ...                       0.454694   \n",
       "min   -5.486124e+303           ...                       0.000000   \n",
       "25%   -5.443883e+303           ...                       0.000000   \n",
       "50%   -5.443883e+303           ...                       0.000000   \n",
       "75%   -5.406339e+303           ...                       1.000000   \n",
       "max   -5.401023e+303           ...                       1.000000   \n",
       "\n",
       "       education_doctoral  education_elementary  \\\n",
       "count        50018.000000          50018.000000   \n",
       "mean             0.010936              0.051142   \n",
       "std              0.104003              0.220289   \n",
       "min              0.000000              0.000000   \n",
       "25%              0.000000              0.000000   \n",
       "50%              0.000000              0.000000   \n",
       "75%              0.000000              0.000000   \n",
       "max              1.000000              1.000000   \n",
       "\n",
       "       education_first-professional degree  education_master  \\\n",
       "count                         50018.000000      50018.000000   \n",
       "mean                              0.016634          0.280279   \n",
       "std                               0.127897          0.449140   \n",
       "min                               0.000000          0.000000   \n",
       "25%                               0.000000          0.000000   \n",
       "50%                               0.000000          0.000000   \n",
       "75%                               0.000000          1.000000   \n",
       "max                               1.000000          1.000000   \n",
       "\n",
       "       education_secondary  resCountry_US  ageCategory_18-34  \\\n",
       "count         50018.000000   50018.000000       50018.000000   \n",
       "mean              0.141449       0.999640           0.370846   \n",
       "std               0.348488       0.018967           0.483036   \n",
       "min               0.000000       0.000000           0.000000   \n",
       "25%               0.000000       1.000000           0.000000   \n",
       "50%               0.000000       1.000000           0.000000   \n",
       "75%               0.000000       1.000000           1.000000   \n",
       "max               1.000000       1.000000           1.000000   \n",
       "\n",
       "       ageCategory_35-49  ageCategory_50 or older  \n",
       "count        50018.00000             50018.000000  \n",
       "mean             0.27742                 0.351374  \n",
       "std              0.44773                 0.477404  \n",
       "min              0.00000                 0.000000  \n",
       "25%              0.00000                 0.000000  \n",
       "50%              0.00000                 0.000000  \n",
       "75%              1.00000                 1.000000  \n",
       "max              1.00000                 1.000000  \n",
       "\n",
       "[8 rows x 57 columns]"
      ]
     },
     "execution_count": 7,
     "metadata": {},
     "output_type": "execute_result"
    }
   ],
   "source": [
    "data.describe()"
   ]
  },
  {
   "cell_type": "code",
   "execution_count": 8,
   "metadata": {
    "collapsed": false,
    "deletable": true,
    "editable": true
   },
   "outputs": [],
   "source": [
    "variables = list(data.describe())\n",
    "data = data[variables]"
   ]
  },
  {
   "cell_type": "markdown",
   "metadata": {
    "deletable": true,
    "editable": true
   },
   "source": [
    "Although the variables 'ID', 'zipcode' and 'crmId' are numerical, they do not hold any real numerical value. Therefore, including them in a regression model would be a mistake, so we should drop these as well."
   ]
  },
  {
   "cell_type": "code",
   "execution_count": 9,
   "metadata": {
    "collapsed": false,
    "deletable": true,
    "editable": true
   },
   "outputs": [
    {
     "data": {
      "text/html": [
       "<div>\n",
       "<table border=\"1\" class=\"dataframe\">\n",
       "  <thead>\n",
       "    <tr style=\"text-align: right;\">\n",
       "      <th></th>\n",
       "      <th>flagAlive</th>\n",
       "      <th>jobSector</th>\n",
       "      <th>cityPopulation</th>\n",
       "      <th>cityDensity</th>\n",
       "      <th>mainNationality</th>\n",
       "      <th>primaryLanguage</th>\n",
       "      <th>flagStudent</th>\n",
       "      <th>flagRetired</th>\n",
       "      <th>flagEmployed</th>\n",
       "      <th>socialClassInd</th>\n",
       "      <th>...</th>\n",
       "      <th>education_bachelor</th>\n",
       "      <th>education_doctoral</th>\n",
       "      <th>education_elementary</th>\n",
       "      <th>education_first-professional degree</th>\n",
       "      <th>education_master</th>\n",
       "      <th>education_secondary</th>\n",
       "      <th>resCountry_US</th>\n",
       "      <th>ageCategory_18-34</th>\n",
       "      <th>ageCategory_35-49</th>\n",
       "      <th>ageCategory_50 or older</th>\n",
       "    </tr>\n",
       "  </thead>\n",
       "  <tbody>\n",
       "    <tr>\n",
       "      <th>50013</th>\n",
       "      <td>1</td>\n",
       "      <td>NaN</td>\n",
       "      <td>NaN</td>\n",
       "      <td>NaN</td>\n",
       "      <td>NaN</td>\n",
       "      <td>NaN</td>\n",
       "      <td>-5.449181e+303</td>\n",
       "      <td>NaN</td>\n",
       "      <td>NaN</td>\n",
       "      <td>NaN</td>\n",
       "      <td>...</td>\n",
       "      <td>1</td>\n",
       "      <td>0</td>\n",
       "      <td>0</td>\n",
       "      <td>0</td>\n",
       "      <td>0</td>\n",
       "      <td>0</td>\n",
       "      <td>1</td>\n",
       "      <td>1</td>\n",
       "      <td>0</td>\n",
       "      <td>0</td>\n",
       "    </tr>\n",
       "    <tr>\n",
       "      <th>50014</th>\n",
       "      <td>1</td>\n",
       "      <td>NaN</td>\n",
       "      <td>NaN</td>\n",
       "      <td>NaN</td>\n",
       "      <td>NaN</td>\n",
       "      <td>NaN</td>\n",
       "      <td>NaN</td>\n",
       "      <td>NaN</td>\n",
       "      <td>NaN</td>\n",
       "      <td>NaN</td>\n",
       "      <td>...</td>\n",
       "      <td>1</td>\n",
       "      <td>0</td>\n",
       "      <td>0</td>\n",
       "      <td>0</td>\n",
       "      <td>0</td>\n",
       "      <td>0</td>\n",
       "      <td>1</td>\n",
       "      <td>1</td>\n",
       "      <td>0</td>\n",
       "      <td>0</td>\n",
       "    </tr>\n",
       "    <tr>\n",
       "      <th>50015</th>\n",
       "      <td>1</td>\n",
       "      <td>NaN</td>\n",
       "      <td>NaN</td>\n",
       "      <td>NaN</td>\n",
       "      <td>NaN</td>\n",
       "      <td>NaN</td>\n",
       "      <td>NaN</td>\n",
       "      <td>-5.443883e+303</td>\n",
       "      <td>NaN</td>\n",
       "      <td>NaN</td>\n",
       "      <td>...</td>\n",
       "      <td>0</td>\n",
       "      <td>0</td>\n",
       "      <td>0</td>\n",
       "      <td>0</td>\n",
       "      <td>0</td>\n",
       "      <td>0</td>\n",
       "      <td>1</td>\n",
       "      <td>0</td>\n",
       "      <td>0</td>\n",
       "      <td>1</td>\n",
       "    </tr>\n",
       "    <tr>\n",
       "      <th>50016</th>\n",
       "      <td>1</td>\n",
       "      <td>NaN</td>\n",
       "      <td>NaN</td>\n",
       "      <td>NaN</td>\n",
       "      <td>NaN</td>\n",
       "      <td>NaN</td>\n",
       "      <td>NaN</td>\n",
       "      <td>-5.443883e+303</td>\n",
       "      <td>NaN</td>\n",
       "      <td>NaN</td>\n",
       "      <td>...</td>\n",
       "      <td>0</td>\n",
       "      <td>0</td>\n",
       "      <td>0</td>\n",
       "      <td>0</td>\n",
       "      <td>0</td>\n",
       "      <td>0</td>\n",
       "      <td>1</td>\n",
       "      <td>0</td>\n",
       "      <td>0</td>\n",
       "      <td>1</td>\n",
       "    </tr>\n",
       "    <tr>\n",
       "      <th>50017</th>\n",
       "      <td>1</td>\n",
       "      <td>NaN</td>\n",
       "      <td>NaN</td>\n",
       "      <td>NaN</td>\n",
       "      <td>NaN</td>\n",
       "      <td>NaN</td>\n",
       "      <td>NaN</td>\n",
       "      <td>NaN</td>\n",
       "      <td>NaN</td>\n",
       "      <td>NaN</td>\n",
       "      <td>...</td>\n",
       "      <td>0</td>\n",
       "      <td>0</td>\n",
       "      <td>0</td>\n",
       "      <td>0</td>\n",
       "      <td>0</td>\n",
       "      <td>1</td>\n",
       "      <td>1</td>\n",
       "      <td>0</td>\n",
       "      <td>1</td>\n",
       "      <td>0</td>\n",
       "    </tr>\n",
       "  </tbody>\n",
       "</table>\n",
       "<p>5 rows × 54 columns</p>\n",
       "</div>"
      ],
      "text/plain": [
       "       flagAlive  jobSector  cityPopulation  cityDensity  mainNationality  \\\n",
       "50013          1        NaN             NaN          NaN              NaN   \n",
       "50014          1        NaN             NaN          NaN              NaN   \n",
       "50015          1        NaN             NaN          NaN              NaN   \n",
       "50016          1        NaN             NaN          NaN              NaN   \n",
       "50017          1        NaN             NaN          NaN              NaN   \n",
       "\n",
       "       primaryLanguage    flagStudent    flagRetired  flagEmployed  \\\n",
       "50013              NaN -5.449181e+303            NaN           NaN   \n",
       "50014              NaN            NaN            NaN           NaN   \n",
       "50015              NaN            NaN -5.443883e+303           NaN   \n",
       "50016              NaN            NaN -5.443883e+303           NaN   \n",
       "50017              NaN            NaN            NaN           NaN   \n",
       "\n",
       "       socialClassInd           ...             education_bachelor  \\\n",
       "50013             NaN           ...                              1   \n",
       "50014             NaN           ...                              1   \n",
       "50015             NaN           ...                              0   \n",
       "50016             NaN           ...                              0   \n",
       "50017             NaN           ...                              0   \n",
       "\n",
       "       education_doctoral  education_elementary  \\\n",
       "50013                   0                     0   \n",
       "50014                   0                     0   \n",
       "50015                   0                     0   \n",
       "50016                   0                     0   \n",
       "50017                   0                     0   \n",
       "\n",
       "       education_first-professional degree  education_master  \\\n",
       "50013                                    0                 0   \n",
       "50014                                    0                 0   \n",
       "50015                                    0                 0   \n",
       "50016                                    0                 0   \n",
       "50017                                    0                 0   \n",
       "\n",
       "       education_secondary  resCountry_US  ageCategory_18-34  \\\n",
       "50013                    0              1                  1   \n",
       "50014                    0              1                  1   \n",
       "50015                    0              1                  0   \n",
       "50016                    0              1                  0   \n",
       "50017                    1              1                  0   \n",
       "\n",
       "       ageCategory_35-49  ageCategory_50 or older  \n",
       "50013                  0                        0  \n",
       "50014                  0                        0  \n",
       "50015                  0                        1  \n",
       "50016                  0                        1  \n",
       "50017                  1                        0  \n",
       "\n",
       "[5 rows x 54 columns]"
      ]
     },
     "execution_count": 9,
     "metadata": {},
     "output_type": "execute_result"
    }
   ],
   "source": [
    "data.drop(['ID', 'zipcode', 'crmId'], axis=1, inplace=True)\n",
    "data.tail()"
   ]
  },
  {
   "cell_type": "markdown",
   "metadata": {
    "deletable": true,
    "editable": true
   },
   "source": [
    "## Remove Missing Values\n",
    "Before creating any model, we should deal with missing values first. The following code counts the missing values per variable."
   ]
  },
  {
   "cell_type": "code",
   "execution_count": 10,
   "metadata": {
    "collapsed": false,
    "deletable": true,
    "editable": true
   },
   "outputs": [
    {
     "data": {
      "text/plain": [
       "flagAlive                                           0\n",
       "jobSector                                       50018\n",
       "cityPopulation                                  50018\n",
       "cityDensity                                     50018\n",
       "mainNationality                                 50018\n",
       "primaryLanguage                                 50018\n",
       "flagStudent                                     45945\n",
       "flagRetired                                     37085\n",
       "flagEmployed                                    50018\n",
       "socialClassInd                                  50018\n",
       "cohort                                          50018\n",
       "monthlyIncomeReal                                  18\n",
       "nbrChildren                                        18\n",
       "flagHouseOwner                                  21548\n",
       "flagHomeTenant                                  28488\n",
       "flagValueProperty                               41111\n",
       "flagLandlord                                    47276\n",
       "flagWealthyRegion                               42321\n",
       "residenceType                                   50018\n",
       "nbrPropertiesOwned                                 18\n",
       "totalAssets                                        18\n",
       "age                                                18\n",
       "flagElitesMember                                    0\n",
       "flagSelfSufficientsMember                           0\n",
       "flagNewWorldlyAdoptersMember                        0\n",
       "flagSafetySeekersMember                             0\n",
       "flagTraditionalistsMember                           0\n",
       "flagUpwardlyMobilesMember                           0\n",
       "title_Dr.                                           0\n",
       "title_Mr.                                           0\n",
       "title_Mrs.                                          0\n",
       "title_Ms.                                           0\n",
       "gender_female                                       0\n",
       "gender_male                                         0\n",
       "lifestage_Family Life                               0\n",
       "lifestage_Mature Years                              0\n",
       "lifestage_Younger Years                             0\n",
       "lifestage_Younger Years Fiscal Fledlings            0\n",
       "maritalStatus_Divorced                              0\n",
       "maritalStatus_In registered partnership             0\n",
       "maritalStatus_Married                               0\n",
       "maritalStatus_Single (never in legal unions)        0\n",
       "maritalStatus_Widowed                               0\n",
       "education_associate                                 0\n",
       "education_bachelor                                  0\n",
       "education_doctoral                                  0\n",
       "education_elementary                                0\n",
       "education_first-professional degree                 0\n",
       "education_master                                    0\n",
       "education_secondary                                 0\n",
       "resCountry_US                                       0\n",
       "ageCategory_18-34                                   0\n",
       "ageCategory_35-49                                   0\n",
       "ageCategory_50 or older                             0\n",
       "dtype: int64"
      ]
     },
     "execution_count": 10,
     "metadata": {},
     "output_type": "execute_result"
    }
   ],
   "source": [
    "data.isnull().sum()"
   ]
  },
  {
   "cell_type": "markdown",
   "metadata": {
    "deletable": true,
    "editable": true
   },
   "source": [
    "For this demo, I won't be bothering with imputing any data. To simply drop data, we can use Pandas .dropna() function. First, we simply delete the columns with more than 30000 missing values by setting the axis to 1 - for columns - and setting a threshold. Next, we delete the rows containing any missing values for other variables as well, this time setting the axis to 0. The 'inplace' attribute simply means that the dataframe is stored in the same variable."
   ]
  },
  {
   "cell_type": "code",
   "execution_count": 11,
   "metadata": {
    "collapsed": false,
    "deletable": true,
    "editable": true
   },
   "outputs": [],
   "source": [
    "data.dropna(axis=1, thresh=1000, inplace=True)"
   ]
  },
  {
   "cell_type": "code",
   "execution_count": 12,
   "metadata": {
    "collapsed": false,
    "deletable": true,
    "editable": true
   },
   "outputs": [],
   "source": [
    "data.flagStudent = data.flagStudent.apply(lambda x: 0 if np.isnan(x) else 1)\n",
    "data.flagRetired = data.flagRetired.apply(lambda x: 0 if np.isnan(x) else 1)\n",
    "data.flagHouseOwner = data.flagHouseOwner.apply(lambda x: 0 if np.isnan(x) else 1)\n",
    "data.flagHomeTenant = data.flagHomeTenant.apply(lambda x: 0 if np.isnan(x) else 1)\n",
    "data.flagValueProperty = data.flagValueProperty.apply(lambda x: 0 if np.isnan(x) else 1)\n",
    "data.flagLandlord = data.flagLandlord.apply(lambda x: 0 if np.isnan(x) else 1)\n",
    "data.flagWealthyRegion = data.flagWealthyRegion.apply(lambda x: 0 if np.isnan(x) else 1)"
   ]
  },
  {
   "cell_type": "markdown",
   "metadata": {
    "deletable": true,
    "editable": true
   },
   "source": [
    "The result is a clean slate."
   ]
  },
  {
   "cell_type": "code",
   "execution_count": 13,
   "metadata": {
    "collapsed": false,
    "deletable": true,
    "editable": true
   },
   "outputs": [
    {
     "data": {
      "text/plain": [
       "flagAlive                                        0\n",
       "flagStudent                                      0\n",
       "flagRetired                                      0\n",
       "monthlyIncomeReal                               18\n",
       "nbrChildren                                     18\n",
       "flagHouseOwner                                   0\n",
       "flagHomeTenant                                   0\n",
       "flagValueProperty                                0\n",
       "flagLandlord                                     0\n",
       "flagWealthyRegion                                0\n",
       "nbrPropertiesOwned                              18\n",
       "totalAssets                                     18\n",
       "age                                             18\n",
       "flagElitesMember                                 0\n",
       "flagSelfSufficientsMember                        0\n",
       "flagNewWorldlyAdoptersMember                     0\n",
       "flagSafetySeekersMember                          0\n",
       "flagTraditionalistsMember                        0\n",
       "flagUpwardlyMobilesMember                        0\n",
       "title_Dr.                                        0\n",
       "title_Mr.                                        0\n",
       "title_Mrs.                                       0\n",
       "title_Ms.                                        0\n",
       "gender_female                                    0\n",
       "gender_male                                      0\n",
       "lifestage_Family Life                            0\n",
       "lifestage_Mature Years                           0\n",
       "lifestage_Younger Years                          0\n",
       "lifestage_Younger Years Fiscal Fledlings         0\n",
       "maritalStatus_Divorced                           0\n",
       "maritalStatus_In registered partnership          0\n",
       "maritalStatus_Married                            0\n",
       "maritalStatus_Single (never in legal unions)     0\n",
       "maritalStatus_Widowed                            0\n",
       "education_associate                              0\n",
       "education_bachelor                               0\n",
       "education_doctoral                               0\n",
       "education_elementary                             0\n",
       "education_first-professional degree              0\n",
       "education_master                                 0\n",
       "education_secondary                              0\n",
       "resCountry_US                                    0\n",
       "ageCategory_18-34                                0\n",
       "ageCategory_35-49                                0\n",
       "ageCategory_50 or older                          0\n",
       "dtype: int64"
      ]
     },
     "execution_count": 13,
     "metadata": {},
     "output_type": "execute_result"
    }
   ],
   "source": [
    "data.isnull().sum()"
   ]
  },
  {
   "cell_type": "markdown",
   "metadata": {
    "deletable": true,
    "editable": true
   },
   "source": [
    "## Impute Missing Values"
   ]
  },
  {
   "cell_type": "code",
   "execution_count": 14,
   "metadata": {
    "collapsed": false,
    "deletable": true,
    "editable": true
   },
   "outputs": [
    {
     "data": {
      "text/plain": [
       "0"
      ]
     },
     "execution_count": 14,
     "metadata": {},
     "output_type": "execute_result"
    }
   ],
   "source": [
    "from sklearn.preprocessing import Imputer\n",
    "imp = Imputer()\n",
    "\n",
    "data = pd.DataFrame(imp.fit_transform(data), columns=data.columns)\n",
    "data.isnull().sum().sum()"
   ]
  },
  {
   "cell_type": "markdown",
   "metadata": {
    "deletable": true,
    "editable": true
   },
   "source": [
    "## Training and Validation"
   ]
  },
  {
   "cell_type": "markdown",
   "metadata": {
    "deletable": true,
    "editable": true
   },
   "source": [
    "Before splitting the data into a training and validation set, some formatting is needed. As for our training data, we need a dataframe with all training variables included, but the target variable excluded. The latter should be stored in a Pandas Series. "
   ]
  },
  {
   "cell_type": "code",
   "execution_count": 15,
   "metadata": {
    "collapsed": false,
    "deletable": true,
    "editable": true
   },
   "outputs": [],
   "source": [
    "targets = data.loc[:,'monthlyIncomeReal']\n",
    "data.drop('monthlyIncomeReal', axis=1, inplace=True)"
   ]
  },
  {
   "cell_type": "markdown",
   "metadata": {
    "deletable": true,
    "editable": true
   },
   "source": [
    "Now we can use sklearn's built-in train_test_split function. Basically, it shuffles the data, and slices it according to given ratio. Here, we reserve 70% for training and 30% for validation."
   ]
  },
  {
   "cell_type": "code",
   "execution_count": 16,
   "metadata": {
    "collapsed": true,
    "deletable": true,
    "editable": true
   },
   "outputs": [],
   "source": [
    "from sklearn.model_selection import train_test_split\n",
    "trainX, validX, trainY, validY = train_test_split(data, targets, train_size=0.7, random_state=100)"
   ]
  },
  {
   "cell_type": "code",
   "execution_count": 17,
   "metadata": {
    "collapsed": false,
    "deletable": true,
    "editable": true
   },
   "outputs": [
    {
     "data": {
      "text/html": [
       "<div>\n",
       "<table border=\"1\" class=\"dataframe\">\n",
       "  <thead>\n",
       "    <tr style=\"text-align: right;\">\n",
       "      <th></th>\n",
       "      <th>flagAlive</th>\n",
       "      <th>flagStudent</th>\n",
       "      <th>flagRetired</th>\n",
       "      <th>nbrChildren</th>\n",
       "      <th>flagHouseOwner</th>\n",
       "      <th>flagHomeTenant</th>\n",
       "      <th>flagValueProperty</th>\n",
       "      <th>flagLandlord</th>\n",
       "      <th>flagWealthyRegion</th>\n",
       "      <th>nbrPropertiesOwned</th>\n",
       "      <th>...</th>\n",
       "      <th>education_bachelor</th>\n",
       "      <th>education_doctoral</th>\n",
       "      <th>education_elementary</th>\n",
       "      <th>education_first-professional degree</th>\n",
       "      <th>education_master</th>\n",
       "      <th>education_secondary</th>\n",
       "      <th>resCountry_US</th>\n",
       "      <th>ageCategory_18-34</th>\n",
       "      <th>ageCategory_35-49</th>\n",
       "      <th>ageCategory_50 or older</th>\n",
       "    </tr>\n",
       "  </thead>\n",
       "  <tbody>\n",
       "    <tr>\n",
       "      <th>16304</th>\n",
       "      <td>1.0</td>\n",
       "      <td>0.0</td>\n",
       "      <td>0.0</td>\n",
       "      <td>1.0</td>\n",
       "      <td>0.0</td>\n",
       "      <td>1.0</td>\n",
       "      <td>0.0</td>\n",
       "      <td>0.0</td>\n",
       "      <td>0.0</td>\n",
       "      <td>0.0</td>\n",
       "      <td>...</td>\n",
       "      <td>0.0</td>\n",
       "      <td>0.0</td>\n",
       "      <td>0.0</td>\n",
       "      <td>0.0</td>\n",
       "      <td>0.0</td>\n",
       "      <td>0.0</td>\n",
       "      <td>1.0</td>\n",
       "      <td>1.0</td>\n",
       "      <td>0.0</td>\n",
       "      <td>0.0</td>\n",
       "    </tr>\n",
       "    <tr>\n",
       "      <th>79</th>\n",
       "      <td>1.0</td>\n",
       "      <td>1.0</td>\n",
       "      <td>0.0</td>\n",
       "      <td>0.0</td>\n",
       "      <td>1.0</td>\n",
       "      <td>0.0</td>\n",
       "      <td>0.0</td>\n",
       "      <td>0.0</td>\n",
       "      <td>0.0</td>\n",
       "      <td>1.0</td>\n",
       "      <td>...</td>\n",
       "      <td>0.0</td>\n",
       "      <td>0.0</td>\n",
       "      <td>0.0</td>\n",
       "      <td>0.0</td>\n",
       "      <td>0.0</td>\n",
       "      <td>0.0</td>\n",
       "      <td>1.0</td>\n",
       "      <td>1.0</td>\n",
       "      <td>0.0</td>\n",
       "      <td>0.0</td>\n",
       "    </tr>\n",
       "    <tr>\n",
       "      <th>12119</th>\n",
       "      <td>1.0</td>\n",
       "      <td>0.0</td>\n",
       "      <td>0.0</td>\n",
       "      <td>0.0</td>\n",
       "      <td>0.0</td>\n",
       "      <td>1.0</td>\n",
       "      <td>0.0</td>\n",
       "      <td>0.0</td>\n",
       "      <td>0.0</td>\n",
       "      <td>0.0</td>\n",
       "      <td>...</td>\n",
       "      <td>0.0</td>\n",
       "      <td>0.0</td>\n",
       "      <td>1.0</td>\n",
       "      <td>0.0</td>\n",
       "      <td>0.0</td>\n",
       "      <td>0.0</td>\n",
       "      <td>1.0</td>\n",
       "      <td>0.0</td>\n",
       "      <td>1.0</td>\n",
       "      <td>0.0</td>\n",
       "    </tr>\n",
       "    <tr>\n",
       "      <th>14147</th>\n",
       "      <td>1.0</td>\n",
       "      <td>1.0</td>\n",
       "      <td>0.0</td>\n",
       "      <td>1.0</td>\n",
       "      <td>1.0</td>\n",
       "      <td>0.0</td>\n",
       "      <td>1.0</td>\n",
       "      <td>0.0</td>\n",
       "      <td>1.0</td>\n",
       "      <td>3.0</td>\n",
       "      <td>...</td>\n",
       "      <td>0.0</td>\n",
       "      <td>0.0</td>\n",
       "      <td>0.0</td>\n",
       "      <td>0.0</td>\n",
       "      <td>1.0</td>\n",
       "      <td>0.0</td>\n",
       "      <td>1.0</td>\n",
       "      <td>1.0</td>\n",
       "      <td>0.0</td>\n",
       "      <td>0.0</td>\n",
       "    </tr>\n",
       "    <tr>\n",
       "      <th>38408</th>\n",
       "      <td>1.0</td>\n",
       "      <td>0.0</td>\n",
       "      <td>1.0</td>\n",
       "      <td>0.0</td>\n",
       "      <td>1.0</td>\n",
       "      <td>0.0</td>\n",
       "      <td>0.0</td>\n",
       "      <td>0.0</td>\n",
       "      <td>0.0</td>\n",
       "      <td>1.0</td>\n",
       "      <td>...</td>\n",
       "      <td>0.0</td>\n",
       "      <td>0.0</td>\n",
       "      <td>1.0</td>\n",
       "      <td>0.0</td>\n",
       "      <td>0.0</td>\n",
       "      <td>0.0</td>\n",
       "      <td>1.0</td>\n",
       "      <td>0.0</td>\n",
       "      <td>0.0</td>\n",
       "      <td>1.0</td>\n",
       "    </tr>\n",
       "  </tbody>\n",
       "</table>\n",
       "<p>5 rows × 44 columns</p>\n",
       "</div>"
      ],
      "text/plain": [
       "       flagAlive  flagStudent  flagRetired  nbrChildren  flagHouseOwner  \\\n",
       "16304        1.0          0.0          0.0          1.0             0.0   \n",
       "79           1.0          1.0          0.0          0.0             1.0   \n",
       "12119        1.0          0.0          0.0          0.0             0.0   \n",
       "14147        1.0          1.0          0.0          1.0             1.0   \n",
       "38408        1.0          0.0          1.0          0.0             1.0   \n",
       "\n",
       "       flagHomeTenant  flagValueProperty  flagLandlord  flagWealthyRegion  \\\n",
       "16304             1.0                0.0           0.0                0.0   \n",
       "79                0.0                0.0           0.0                0.0   \n",
       "12119             1.0                0.0           0.0                0.0   \n",
       "14147             0.0                1.0           0.0                1.0   \n",
       "38408             0.0                0.0           0.0                0.0   \n",
       "\n",
       "       nbrPropertiesOwned           ...             education_bachelor  \\\n",
       "16304                 0.0           ...                            0.0   \n",
       "79                    1.0           ...                            0.0   \n",
       "12119                 0.0           ...                            0.0   \n",
       "14147                 3.0           ...                            0.0   \n",
       "38408                 1.0           ...                            0.0   \n",
       "\n",
       "       education_doctoral  education_elementary  \\\n",
       "16304                 0.0                   0.0   \n",
       "79                    0.0                   0.0   \n",
       "12119                 0.0                   1.0   \n",
       "14147                 0.0                   0.0   \n",
       "38408                 0.0                   1.0   \n",
       "\n",
       "       education_first-professional degree  education_master  \\\n",
       "16304                                  0.0               0.0   \n",
       "79                                     0.0               0.0   \n",
       "12119                                  0.0               0.0   \n",
       "14147                                  0.0               1.0   \n",
       "38408                                  0.0               0.0   \n",
       "\n",
       "       education_secondary  resCountry_US  ageCategory_18-34  \\\n",
       "16304                  0.0            1.0                1.0   \n",
       "79                     0.0            1.0                1.0   \n",
       "12119                  0.0            1.0                0.0   \n",
       "14147                  0.0            1.0                1.0   \n",
       "38408                  0.0            1.0                0.0   \n",
       "\n",
       "       ageCategory_35-49  ageCategory_50 or older  \n",
       "16304                0.0                      0.0  \n",
       "79                   0.0                      0.0  \n",
       "12119                1.0                      0.0  \n",
       "14147                0.0                      0.0  \n",
       "38408                0.0                      1.0  \n",
       "\n",
       "[5 rows x 44 columns]"
      ]
     },
     "execution_count": 17,
     "metadata": {},
     "output_type": "execute_result"
    }
   ],
   "source": [
    "trainX.tail()"
   ]
  },
  {
   "cell_type": "code",
   "execution_count": 18,
   "metadata": {
    "collapsed": false,
    "deletable": true,
    "editable": true
   },
   "outputs": [
    {
     "data": {
      "text/plain": [
       "16304    2295.40\n",
       "79       2732.05\n",
       "12119    1535.55\n",
       "14147    3685.05\n",
       "38408    2445.61\n",
       "Name: monthlyIncomeReal, dtype: float64"
      ]
     },
     "execution_count": 18,
     "metadata": {},
     "output_type": "execute_result"
    }
   ],
   "source": [
    "trainY.tail()"
   ]
  },
  {
   "cell_type": "markdown",
   "metadata": {
    "deletable": true,
    "editable": true
   },
   "source": [
    "## Cross Validation Demo\n",
    "When cross-validating, one might be tempted to use all training data. However, it is better to set apart a test set."
   ]
  },
  {
   "cell_type": "code",
   "execution_count": 19,
   "metadata": {
    "collapsed": false,
    "deletable": true,
    "editable": true
   },
   "outputs": [
    {
     "name": "stdout",
     "output_type": "stream",
     "text": [
      "0.957420516768\n",
      "0.493050125026\n",
      "0.957128624875\n",
      "0.957420804838\n",
      "0.744354224974\n"
     ]
    }
   ],
   "source": [
    "from sklearn import linear_model\n",
    "from sklearn import neighbors\n",
    "from sklearn.model_selection import cross_val_score, KFold\n",
    "\n",
    "cv = KFold(n_splits=10, shuffle=True, random_state=1)\n",
    "print(np.mean(cross_val_score(linear_model.LinearRegression(), trainX, trainY, cv=cv)))\n",
    "print(np.mean(cross_val_score(linear_model.HuberRegressor(), trainX, trainY, cv=cv)))\n",
    "print(np.mean(cross_val_score(linear_model.Lasso(alpha=1), trainX, trainY, cv=cv)))\n",
    "print(np.mean(cross_val_score(linear_model.Ridge(alpha=2), trainX, trainY, cv=cv)))\n",
    "print(np.mean(cross_val_score(neighbors.KNeighborsRegressor(), trainX, trainY, cv=cv)))"
   ]
  },
  {
   "cell_type": "code",
   "execution_count": 20,
   "metadata": {
    "collapsed": false,
    "deletable": true,
    "editable": true
   },
   "outputs": [
    {
     "name": "stdout",
     "output_type": "stream",
     "text": [
      "0.763233939035\n",
      "0.769807521396\n",
      "0.772359839191\n",
      "0.773970343575\n",
      "0.775495410835\n"
     ]
    }
   ],
   "source": [
    "for n in [10, 15, 20, 25, 30]:\n",
    "    print(np.mean(cross_val_score(neighbors.KNeighborsRegressor(n_neighbors=n), trainX, trainY, cv=cv)))"
   ]
  },
  {
   "cell_type": "markdown",
   "metadata": {
    "deletable": true,
    "editable": true
   },
   "source": [
    "## Model Building"
   ]
  },
  {
   "cell_type": "markdown",
   "metadata": {
    "deletable": true,
    "editable": true
   },
   "source": [
    "Sklearn lets you create all kinds of model objects - such as .LinearRegression() which can be used for fitting, scoring, etc. Here, we create several model objects, all using different machine learning algorithms. The idea is to let them compete against eachother, and finally preserve the best scoring model. In order to generate a PMML file later on, it is necessary to feed the sklearn objects into a PMMLPipeline function, provided by the sklearn2pmml package."
   ]
  },
  {
   "cell_type": "code",
   "execution_count": 21,
   "metadata": {
    "collapsed": false,
    "deletable": true,
    "editable": true
   },
   "outputs": [],
   "source": [
    "from sklearn2pmml import PMMLPipeline\n",
    "from sklearn import linear_model\n",
    "from sklearn import neighbors\n",
    "\n",
    "lm = PMMLPipeline([(\"\", linear_model.LinearRegression())])\n",
    "hr = PMMLPipeline([(\"\", linear_model.HuberRegressor())])\n",
    "lr = PMMLPipeline([(\"\", linear_model.Lasso(alpha=1))])\n",
    "rr = PMMLPipeline([(\"\", linear_model.Ridge(alpha=1))])\n",
    "nn = PMMLPipeline([(\"\", neighbors.KNeighborsRegressor())]) "
   ]
  },
  {
   "cell_type": "markdown",
   "metadata": {
    "deletable": true,
    "editable": true
   },
   "source": [
    "Now we can simply apply the .fit() function on these objects, with the training data and targets as parameters. This is the magic stuff."
   ]
  },
  {
   "cell_type": "code",
   "execution_count": 22,
   "metadata": {
    "collapsed": false,
    "deletable": true,
    "editable": true
   },
   "outputs": [
    {
     "data": {
      "text/plain": [
       "PMMLPipeline(steps=[('', KNeighborsRegressor(algorithm='auto', leaf_size=30, metric='minkowski',\n",
       "          metric_params=None, n_jobs=1, n_neighbors=5, p=2,\n",
       "          weights='uniform'))])"
      ]
     },
     "execution_count": 22,
     "metadata": {},
     "output_type": "execute_result"
    }
   ],
   "source": [
    "lm.fit(trainX, trainY)\n",
    "hr.fit(trainX, trainY)\n",
    "lr.fit(trainX, trainY)\n",
    "rr.fit(trainX, trainY)\n",
    "nn.fit(trainX, trainY)"
   ]
  },
  {
   "cell_type": "markdown",
   "metadata": {
    "deletable": true,
    "editable": true
   },
   "source": [
    "Next, we can try to predict on the validation set to see how well we're doing. The .predict() function returns an array with all predictions:"
   ]
  },
  {
   "cell_type": "code",
   "execution_count": 27,
   "metadata": {
    "collapsed": false,
    "deletable": true,
    "editable": true
   },
   "outputs": [
    {
     "data": {
      "text/plain": [
       "array(['flagAlive', 'flagStudent', 'flagRetired', 'nbrChildren',\n",
       "       'flagHouseOwner', 'flagHomeTenant', 'flagValueProperty',\n",
       "       'flagLandlord', 'flagWealthyRegion', 'nbrPropertiesOwned',\n",
       "       'totalAssets', 'age', 'flagElitesMember',\n",
       "       'flagSelfSufficientsMember', 'flagNewWorldlyAdoptersMember',\n",
       "       'flagSafetySeekersMember', 'flagTraditionalistsMember',\n",
       "       'flagUpwardlyMobilesMember', 'title_Dr.', 'title_Mr.', 'title_Mrs.',\n",
       "       'title_Ms.', 'gender_female', 'gender_male',\n",
       "       'lifestage_Family Life', 'lifestage_Mature Years',\n",
       "       'lifestage_Younger Years',\n",
       "       'lifestage_Younger Years Fiscal Fledlings',\n",
       "       'maritalStatus_Divorced', 'maritalStatus_In registered partnership',\n",
       "       'maritalStatus_Married',\n",
       "       'maritalStatus_Single (never in legal unions)',\n",
       "       'maritalStatus_Widowed', 'education_associate',\n",
       "       'education_bachelor', 'education_doctoral', 'education_elementary',\n",
       "       'education_first-professional degree', 'education_master',\n",
       "       'education_secondary', 'resCountry_US', 'ageCategory_18-34',\n",
       "       'ageCategory_35-49', 'ageCategory_50 or older'], dtype=object)"
      ]
     },
     "execution_count": 27,
     "metadata": {},
     "output_type": "execute_result"
    }
   ],
   "source": [
    "rr.active_fields"
   ]
  },
  {
   "cell_type": "code",
   "execution_count": 23,
   "metadata": {
    "collapsed": false,
    "deletable": true,
    "editable": true
   },
   "outputs": [
    {
     "name": "stdout",
     "output_type": "stream",
     "text": [
      "[ 1498.17947112  1571.56343927  1405.36056083 ...,  1530.99986249\n",
      "  2649.38489163  1272.46270401]\n",
      "[ 1636.35156692  1641.43839124  2158.06261817 ...,  1548.61249935\n",
      "  2815.27580421  1812.43899235]\n",
      "[ 1501.88361017  1573.74927951  1414.06079337 ...,  1530.69220105\n",
      "  2638.12603445  1298.41156453]\n",
      "[ 1498.21955243  1571.61339239  1405.54086311 ...,  1531.02722852\n",
      "  2649.32260394  1272.45271344]\n",
      "[ 1923.64   1987.282  1433.43  ...,  1987.294  2671.85   1944.198]\n"
     ]
    }
   ],
   "source": [
    "print(lm.predict(validX))\n",
    "print(hr.predict(validX))\n",
    "print(lr.predict(validX))\n",
    "print(rr.predict(validX))\n",
    "print(nn.predict(validX))"
   ]
  },
  {
   "cell_type": "markdown",
   "metadata": {
    "deletable": true,
    "editable": true
   },
   "source": [
    "We could now compare these predictions with the actual targets and calculate the residual sum of squares (RSS) manually. Sklearn, however, simply gives us a related .score() function, which gives us the R2 score that actually derived from the RSS. It equals to 1 - residual sum of square / total sum of squares."
   ]
  },
  {
   "cell_type": "code",
   "execution_count": 24,
   "metadata": {
    "collapsed": false,
    "deletable": true,
    "editable": true
   },
   "outputs": [
    {
     "name": "stdout",
     "output_type": "stream",
     "text": [
      "0.959127691847\n",
      "0.804845996657\n",
      "0.95875722738\n",
      "0.959129791491\n",
      "0.749849547177\n"
     ]
    }
   ],
   "source": [
    "print(lm.score(validX, validY))\n",
    "print(hr.score(validX, validY))\n",
    "print(lr.score(validX, validY))\n",
    "print(rr.score(validX, validY))\n",
    "print(nn.score(validX, validY))"
   ]
  },
  {
   "cell_type": "markdown",
   "metadata": {
    "deletable": true,
    "editable": true
   },
   "source": [
    "In fact, the Ridge regression model sealed the deal and has the honour of being transformed into a pmml format. But first, it would be nice to plot the actual targets (x-axis) versus the predicted values by this model (y-axis). We do so with the following code."
   ]
  },
  {
   "cell_type": "code",
   "execution_count": 29,
   "metadata": {
    "collapsed": false,
    "deletable": true,
    "editable": true,
    "scrolled": true
   },
   "outputs": [
    {
     "data": {
      "image/png": "[encoded data removed]",
      "text/plain": [
       "<matplotlib.figure.Figure at 0x10a92d320>"
      ]
     },
     "metadata": {},
     "output_type": "display_data"
    },
    {
     "data": {
      "text/plain": [
       "<matplotlib.axes._subplots.AxesSubplot at 0x10c236c50>"
      ]
     },
     "execution_count": 29,
     "metadata": {},
     "output_type": "execute_result"
    }
   ],
   "source": [
    "plt.scatter(validY, rr.predict(validX), color=\"darkred\", marker='.')\n",
    "plt.title(\"Predictions vs. Targets\")\n",
    "plt.xlabel('Targets'); plt.ylabel('Predictions'); plt.grid(True)\n",
    "plt.show()"
   ]
  },
  {
   "cell_type": "markdown",
   "metadata": {
    "deletable": true,
    "editable": true
   },
   "source": [
    "The plot reveals that none of the high incomes are predicted to be low and vice versa, which is a good thing. The monthly income also appears to be clustered into people earning around 1500, 2500 and 4000€. That is something our regression models did pick up as well, as the predictions on the y-axis are also clustered around these values."
   ]
  },
  {
   "cell_type": "markdown",
   "metadata": {
    "deletable": true,
    "editable": true
   },
   "source": [
    "## Export to PMML"
   ]
  },
  {
   "cell_type": "markdown",
   "metadata": {
    "deletable": true,
    "editable": true
   },
   "source": [
    "Finally, we need to generate the PMML-file based on the Sklearn object. This is done with the sklearn2pmml package. Note that Lily only accepts .xml files."
   ]
  },
  {
   "cell_type": "code",
   "execution_count": 26,
   "metadata": {
    "collapsed": false,
    "deletable": true,
    "editable": true
   },
   "outputs": [],
   "source": [
    "from sklearn2pmml import sklearn2pmml\n",
    "sklearn2pmml(rr, \"MetricModelDemo.xml\")"
   ]
  },
  {
   "cell_type": "markdown",
   "metadata": {
    "deletable": true,
    "editable": true
   },
   "source": [
    "# Import PMML into Lily\n",
    "At this point, you should have an xml-file that is ready for import into Lily. Again, this part is well described in the Lily documentation, but for the sake of completeness, I will quickly go over the steps. First of all, you need to add a new model metric by clicking the '+' sign in the Metrics tab. Set all properties, and especially remember to set the data type of your newly predicted variable.\n",
    "\n",
    "Next, create a model by clicking the '+' sign in the Model tab and switch the configuration type to PMML. In the advanced options, drag your generated xml-file into the box. A list of parameters should appear where you can make sure if Lily recognizes them correctly. Finally, set the output variable to the metric you just created and hit ‘Save’.\n",
    "\n",
    "You now have created a model metric, created in Python with Sklearn, and imported in Lily via PMML."
   ]
  }
 ],
 "metadata": {
  "kernelspec": {
   "display_name": "Python 3",
   "language": "python",
   "name": "python3"
  },
  "language_info": {
   "codemirror_mode": {
    "name": "ipython",
    "version": 3
   },
   "file_extension": ".py",
   "mimetype": "text/x-python",
   "name": "python",
   "nbconvert_exporter": "python",
   "pygments_lexer": "ipython3",
   "version": "3.6.0"
  }
 },
 "nbformat": 4,
 "nbformat_minor": 2
}
