{
 "cells": [
  {
   "cell_type": "code",
   "execution_count": 1,
   "metadata": {
    "collapsed": true,
    "deletable": true,
    "editable": true
   },
   "outputs": [],
   "source": [
    "import pandas as pd\n",
    "import numpy as np\n",
    "import matplotlib.pyplot as plt\n",
    "from scipy.stats import norm, t, ttest_ind"
   ]
  },
  {
   "cell_type": "markdown",
   "metadata": {
    "deletable": true,
    "editable": true
   },
   "source": [
    "### Mails sent"
   ]
  },
  {
   "cell_type": "code",
   "execution_count": 2,
   "metadata": {
    "collapsed": false,
    "deletable": true,
    "editable": true
   },
   "outputs": [
    {
     "name": "stdout",
     "output_type": "stream",
     "text": [
      "201\n"
     ]
    },
    {
     "data": {
      "text/html": [
       "<div>\n",
       "<table border=\"1\" class=\"dataframe\">\n",
       "  <thead>\n",
       "    <tr style=\"text-align: right;\">\n",
       "      <th></th>\n",
       "      <th>customernumber</th>\n",
       "      <th>group</th>\n",
       "      <th>series</th>\n",
       "      <th>maildate</th>\n",
       "    </tr>\n",
       "  </thead>\n",
       "  <tbody>\n",
       "    <tr>\n",
       "      <th>196</th>\n",
       "      <td>264411488</td>\n",
       "      <td>test</td>\n",
       "      <td>Ordinary Lies</td>\n",
       "      <td>2017-04-27</td>\n",
       "    </tr>\n",
       "    <tr>\n",
       "      <th>197</th>\n",
       "      <td>592780033</td>\n",
       "      <td>test</td>\n",
       "      <td>Ordinary Lies</td>\n",
       "      <td>2017-04-27</td>\n",
       "    </tr>\n",
       "    <tr>\n",
       "      <th>198</th>\n",
       "      <td>663266802</td>\n",
       "      <td>test</td>\n",
       "      <td>Ordinary Lies</td>\n",
       "      <td>2017-04-27</td>\n",
       "    </tr>\n",
       "    <tr>\n",
       "      <th>199</th>\n",
       "      <td>671609509</td>\n",
       "      <td>test</td>\n",
       "      <td>Ordinary Lies</td>\n",
       "      <td>2017-04-27</td>\n",
       "    </tr>\n",
       "    <tr>\n",
       "      <th>200</th>\n",
       "      <td>683208786</td>\n",
       "      <td>test</td>\n",
       "      <td>Ordinary Lies</td>\n",
       "      <td>2017-04-27</td>\n",
       "    </tr>\n",
       "  </tbody>\n",
       "</table>\n",
       "</div>"
      ],
      "text/plain": [
       "    customernumber group         series   maildate\n",
       "196      264411488  test  Ordinary Lies 2017-04-27\n",
       "197      592780033  test  Ordinary Lies 2017-04-27\n",
       "198      663266802  test  Ordinary Lies 2017-04-27\n",
       "199      671609509  test  Ordinary Lies 2017-04-27\n",
       "200      683208786  test  Ordinary Lies 2017-04-27"
      ]
     },
     "execution_count": 2,
     "metadata": {},
     "output_type": "execute_result"
    }
   ],
   "source": [
    "names = ['customernumber', 'group', 'series', 'maildate']\n",
    "mails = pd.read_excel('eval OOC triggers mail.xlsx', sheetname=2, names=names)\n",
    "print len(mails)\n",
    "mails.tail()"
   ]
  },
  {
   "cell_type": "markdown",
   "metadata": {
    "deletable": true,
    "editable": true
   },
   "source": [
    "### Viewing behavior"
   ]
  },
  {
   "cell_type": "code",
   "execution_count": 3,
   "metadata": {
    "collapsed": false,
    "deletable": true,
    "editable": true
   },
   "outputs": [
    {
     "name": "stdout",
     "output_type": "stream",
     "text": [
      "3235\n"
     ]
    },
    {
     "data": {
      "text/html": [
       "<div>\n",
       "<table border=\"1\" class=\"dataframe\">\n",
       "  <thead>\n",
       "    <tr style=\"text-align: right;\">\n",
       "      <th></th>\n",
       "      <th>customernumber</th>\n",
       "      <th>timestamp</th>\n",
       "      <th>datum</th>\n",
       "      <th>groep</th>\n",
       "      <th>programcrid</th>\n",
       "      <th>programseriesname</th>\n",
       "    </tr>\n",
       "  </thead>\n",
       "  <tbody>\n",
       "    <tr>\n",
       "      <th>3230</th>\n",
       "      <td>1020652992</td>\n",
       "      <td>1491138177000</td>\n",
       "      <td>2017-04-02 14:02:57</td>\n",
       "      <td>test</td>\n",
       "      <td>crid://telenet.be/AA/TN00037209_01_0012-OSNL-SD</td>\n",
       "      <td>Black-ish</td>\n",
       "    </tr>\n",
       "    <tr>\n",
       "      <th>3231</th>\n",
       "      <td>1020652992</td>\n",
       "      <td>1491139427000</td>\n",
       "      <td>2017-04-02 14:23:47</td>\n",
       "      <td>test</td>\n",
       "      <td>crid://telenet.be/AA/TN00037209_01_0013-OSNL-SD</td>\n",
       "      <td>Black-ish</td>\n",
       "    </tr>\n",
       "    <tr>\n",
       "      <th>3232</th>\n",
       "      <td>1020652992</td>\n",
       "      <td>1491130190000</td>\n",
       "      <td>2017-04-02 11:49:50</td>\n",
       "      <td>test</td>\n",
       "      <td>crid://telenet.be/AA/TN00037209_01_0006-OSNL-SD</td>\n",
       "      <td>Black-ish</td>\n",
       "    </tr>\n",
       "    <tr>\n",
       "      <th>3233</th>\n",
       "      <td>1020652992</td>\n",
       "      <td>1491133171000</td>\n",
       "      <td>2017-04-02 12:39:31</td>\n",
       "      <td>test</td>\n",
       "      <td>crid://telenet.be/AA/TN00037209_01_0008-OSNL-SD</td>\n",
       "      <td>Black-ish</td>\n",
       "    </tr>\n",
       "    <tr>\n",
       "      <th>3234</th>\n",
       "      <td>1020652992</td>\n",
       "      <td>1491134421000</td>\n",
       "      <td>2017-04-02 13:00:21</td>\n",
       "      <td>test</td>\n",
       "      <td>crid://telenet.be/AA/TN00037209_01_0009-OSNL-SD</td>\n",
       "      <td>Black-ish</td>\n",
       "    </tr>\n",
       "  </tbody>\n",
       "</table>\n",
       "</div>"
      ],
      "text/plain": [
       "      customernumber      timestamp               datum groep  \\\n",
       "3230      1020652992  1491138177000 2017-04-02 14:02:57  test   \n",
       "3231      1020652992  1491139427000 2017-04-02 14:23:47  test   \n",
       "3232      1020652992  1491130190000 2017-04-02 11:49:50  test   \n",
       "3233      1020652992  1491133171000 2017-04-02 12:39:31  test   \n",
       "3234      1020652992  1491134421000 2017-04-02 13:00:21  test   \n",
       "\n",
       "                                          programcrid programseriesname  \n",
       "3230  crid://telenet.be/AA/TN00037209_01_0012-OSNL-SD         Black-ish  \n",
       "3231  crid://telenet.be/AA/TN00037209_01_0013-OSNL-SD         Black-ish  \n",
       "3232  crid://telenet.be/AA/TN00037209_01_0006-OSNL-SD         Black-ish  \n",
       "3233  crid://telenet.be/AA/TN00037209_01_0008-OSNL-SD         Black-ish  \n",
       "3234  crid://telenet.be/AA/TN00037209_01_0009-OSNL-SD         Black-ish  "
      ]
     },
     "execution_count": 3,
     "metadata": {},
     "output_type": "execute_result"
    }
   ],
   "source": [
    "behavior = pd.read_excel('eval OOC triggers mail.xlsx', sheetname=3, headers=None)\n",
    "print len(behavior)\n",
    "behavior.tail()"
   ]
  },
  {
   "cell_type": "markdown",
   "metadata": {
    "deletable": true,
    "editable": true
   },
   "source": [
    "### Merged data"
   ]
  },
  {
   "cell_type": "code",
   "execution_count": 4,
   "metadata": {
    "collapsed": false,
    "deletable": true,
    "editable": true
   },
   "outputs": [
    {
     "name": "stdout",
     "output_type": "stream",
     "text": [
      "3218\n"
     ]
    },
    {
     "data": {
      "text/html": [
       "<div>\n",
       "<table border=\"1\" class=\"dataframe\">\n",
       "  <thead>\n",
       "    <tr style=\"text-align: right;\">\n",
       "      <th></th>\n",
       "      <th>customernumber</th>\n",
       "      <th>group</th>\n",
       "      <th>series</th>\n",
       "      <th>maildate</th>\n",
       "      <th>timestamp</th>\n",
       "      <th>datum</th>\n",
       "      <th>groep</th>\n",
       "      <th>programcrid</th>\n",
       "      <th>programseriesname</th>\n",
       "    </tr>\n",
       "  </thead>\n",
       "  <tbody>\n",
       "    <tr>\n",
       "      <th>1739</th>\n",
       "      <td>222178496</td>\n",
       "      <td>test</td>\n",
       "      <td>Black-ish</td>\n",
       "      <td>2017-04-21</td>\n",
       "      <td>1492990836000</td>\n",
       "      <td>2017-04-24 00:40:36</td>\n",
       "      <td>test</td>\n",
       "      <td>crid://telenet.be/AA/TN00037209_02_0019-OSNL-SD</td>\n",
       "      <td>Black-ish</td>\n",
       "    </tr>\n",
       "    <tr>\n",
       "      <th>1743</th>\n",
       "      <td>222178496</td>\n",
       "      <td>test</td>\n",
       "      <td>Black-ish</td>\n",
       "      <td>2017-04-21</td>\n",
       "      <td>1492989578000</td>\n",
       "      <td>2017-04-24 00:19:38</td>\n",
       "      <td>test</td>\n",
       "      <td>crid://telenet.be/AA/TN00037209_02_0018-OSNL-SD</td>\n",
       "      <td>Black-ish</td>\n",
       "    </tr>\n",
       "    <tr>\n",
       "      <th>2876</th>\n",
       "      <td>618346809</td>\n",
       "      <td>test</td>\n",
       "      <td>Black-ish</td>\n",
       "      <td>2017-04-27</td>\n",
       "      <td>1492988273000</td>\n",
       "      <td>2017-04-23 23:57:53</td>\n",
       "      <td>-</td>\n",
       "      <td>crid://telenet.be/AA/TN00037209_01_0016-OSNL-SD</td>\n",
       "      <td>Black-ish</td>\n",
       "    </tr>\n",
       "    <tr>\n",
       "      <th>1741</th>\n",
       "      <td>222178496</td>\n",
       "      <td>test</td>\n",
       "      <td>Black-ish</td>\n",
       "      <td>2017-04-21</td>\n",
       "      <td>1492988194000</td>\n",
       "      <td>2017-04-23 23:56:34</td>\n",
       "      <td>test</td>\n",
       "      <td>crid://telenet.be/AA/TN00037209_02_0017-OSNL-SD</td>\n",
       "      <td>Black-ish</td>\n",
       "    </tr>\n",
       "    <tr>\n",
       "      <th>2879</th>\n",
       "      <td>618346809</td>\n",
       "      <td>test</td>\n",
       "      <td>Black-ish</td>\n",
       "      <td>2017-04-27</td>\n",
       "      <td>1492987346000</td>\n",
       "      <td>2017-04-23 23:42:26</td>\n",
       "      <td>-</td>\n",
       "      <td>crid://telenet.be/AA/TN00037209_01_0015-OSNL-SD</td>\n",
       "      <td>Black-ish</td>\n",
       "    </tr>\n",
       "  </tbody>\n",
       "</table>\n",
       "</div>"
      ],
      "text/plain": [
       "     customernumber group     series   maildate      timestamp  \\\n",
       "1739      222178496  test  Black-ish 2017-04-21  1492990836000   \n",
       "1743      222178496  test  Black-ish 2017-04-21  1492989578000   \n",
       "2876      618346809  test  Black-ish 2017-04-27  1492988273000   \n",
       "1741      222178496  test  Black-ish 2017-04-21  1492988194000   \n",
       "2879      618346809  test  Black-ish 2017-04-27  1492987346000   \n",
       "\n",
       "                   datum groep  \\\n",
       "1739 2017-04-24 00:40:36  test   \n",
       "1743 2017-04-24 00:19:38  test   \n",
       "2876 2017-04-23 23:57:53     -   \n",
       "1741 2017-04-23 23:56:34  test   \n",
       "2879 2017-04-23 23:42:26     -   \n",
       "\n",
       "                                          programcrid programseriesname  \n",
       "1739  crid://telenet.be/AA/TN00037209_02_0019-OSNL-SD         Black-ish  \n",
       "1743  crid://telenet.be/AA/TN00037209_02_0018-OSNL-SD         Black-ish  \n",
       "2876  crid://telenet.be/AA/TN00037209_01_0016-OSNL-SD         Black-ish  \n",
       "1741  crid://telenet.be/AA/TN00037209_02_0017-OSNL-SD         Black-ish  \n",
       "2879  crid://telenet.be/AA/TN00037209_01_0015-OSNL-SD         Black-ish  "
      ]
     },
     "execution_count": 4,
     "metadata": {},
     "output_type": "execute_result"
    }
   ],
   "source": [
    "data = pd.merge(mails, behavior, on='customernumber')\n",
    "data = data[data.series == data.programseriesname]\n",
    "print len(data)\n",
    "data.sort_values('datum', ascending=False).head()"
   ]
  },
  {
   "cell_type": "markdown",
   "metadata": {
    "deletable": true,
    "editable": true
   },
   "source": [
    "### Get number of series, grouped by customer, group and pre/post trigger"
   ]
  },
  {
   "cell_type": "markdown",
   "metadata": {
    "deletable": true,
    "editable": true
   },
   "source": [
    "Viewings splitted pre and post trigger"
   ]
  },
  {
   "cell_type": "code",
   "execution_count": 5,
   "metadata": {
    "collapsed": false,
    "deletable": true,
    "editable": true
   },
   "outputs": [],
   "source": [
    "pre = data[(data.maildate - data.datum) > pd.Timedelta(0)]\n",
    "post = data[(data.maildate - data.datum) <= pd.Timedelta(0)]"
   ]
  },
  {
   "cell_type": "markdown",
   "metadata": {
    "deletable": true,
    "editable": true
   },
   "source": [
    "Number of viewings grouped per customer"
   ]
  },
  {
   "cell_type": "code",
   "execution_count": 6,
   "metadata": {
    "collapsed": false,
    "deletable": true,
    "editable": true
   },
   "outputs": [],
   "source": [
    "pre = pre.groupby(['customernumber']).agg({'group':'min', 'customernumber':'count'})\n",
    "post = post.groupby(['customernumber']).agg({'group':'min', 'customernumber':'count'})"
   ]
  },
  {
   "cell_type": "markdown",
   "metadata": {
    "deletable": true,
    "editable": true
   },
   "source": [
    "Centralize to include zero counts"
   ]
  },
  {
   "cell_type": "code",
   "execution_count": 7,
   "metadata": {
    "collapsed": false,
    "deletable": true,
    "editable": true
   },
   "outputs": [
    {
     "data": {
      "text/html": [
       "<div>\n",
       "<table border=\"1\" class=\"dataframe\">\n",
       "  <thead>\n",
       "    <tr style=\"text-align: right;\">\n",
       "      <th></th>\n",
       "      <th>group</th>\n",
       "      <th>pre</th>\n",
       "      <th>post</th>\n",
       "    </tr>\n",
       "    <tr>\n",
       "      <th>customernumber</th>\n",
       "      <th></th>\n",
       "      <th></th>\n",
       "      <th></th>\n",
       "    </tr>\n",
       "  </thead>\n",
       "  <tbody>\n",
       "    <tr>\n",
       "      <th>3070553</th>\n",
       "      <td>test</td>\n",
       "      <td>24</td>\n",
       "      <td>0.0</td>\n",
       "    </tr>\n",
       "    <tr>\n",
       "      <th>5748056</th>\n",
       "      <td>test</td>\n",
       "      <td>28</td>\n",
       "      <td>0.0</td>\n",
       "    </tr>\n",
       "    <tr>\n",
       "      <th>8823360</th>\n",
       "      <td>test</td>\n",
       "      <td>6</td>\n",
       "      <td>0.0</td>\n",
       "    </tr>\n",
       "    <tr>\n",
       "      <th>10664542</th>\n",
       "      <td>test</td>\n",
       "      <td>34</td>\n",
       "      <td>4.0</td>\n",
       "    </tr>\n",
       "    <tr>\n",
       "      <th>12230585</th>\n",
       "      <td>test</td>\n",
       "      <td>13</td>\n",
       "      <td>0.0</td>\n",
       "    </tr>\n",
       "    <tr>\n",
       "      <th>13607581</th>\n",
       "      <td>control</td>\n",
       "      <td>6</td>\n",
       "      <td>0.0</td>\n",
       "    </tr>\n",
       "    <tr>\n",
       "      <th>14710250</th>\n",
       "      <td>test</td>\n",
       "      <td>8</td>\n",
       "      <td>4.0</td>\n",
       "    </tr>\n",
       "    <tr>\n",
       "      <th>15678735</th>\n",
       "      <td>test</td>\n",
       "      <td>5</td>\n",
       "      <td>0.0</td>\n",
       "    </tr>\n",
       "    <tr>\n",
       "      <th>16645503</th>\n",
       "      <td>test</td>\n",
       "      <td>6</td>\n",
       "      <td>0.0</td>\n",
       "    </tr>\n",
       "    <tr>\n",
       "      <th>19657351</th>\n",
       "      <td>control</td>\n",
       "      <td>18</td>\n",
       "      <td>3.0</td>\n",
       "    </tr>\n",
       "  </tbody>\n",
       "</table>\n",
       "</div>"
      ],
      "text/plain": [
       "                  group  pre  post\n",
       "customernumber                    \n",
       "3070553            test   24   0.0\n",
       "5748056            test   28   0.0\n",
       "8823360            test    6   0.0\n",
       "10664542           test   34   4.0\n",
       "12230585           test   13   0.0\n",
       "13607581        control    6   0.0\n",
       "14710250           test    8   4.0\n",
       "15678735           test    5   0.0\n",
       "16645503           test    6   0.0\n",
       "19657351        control   18   3.0"
      ]
     },
     "execution_count": 7,
     "metadata": {},
     "output_type": "execute_result"
    }
   ],
   "source": [
    "counts = pd.merge(pre, post, left_index=True, right_index=True, how='outer').fillna(0)\n",
    "counts.drop('group_y', 1, inplace=True)\n",
    "counts.columns=['group', 'pre', 'post']\n",
    "counts.head(10)"
   ]
  },
  {
   "cell_type": "code",
   "execution_count": 8,
   "metadata": {
    "collapsed": true,
    "deletable": true,
    "editable": true
   },
   "outputs": [],
   "source": [
    "pretest = counts[counts.group=='test'].pre\n",
    "precontrol = counts[counts.group=='control'].pre\n",
    "posttest = counts[counts.group=='test'].post\n",
    "postcontrol = counts[counts.group=='control'].post"
   ]
  },
  {
   "cell_type": "markdown",
   "metadata": {
    "deletable": true,
    "editable": true
   },
   "source": [
    "Check"
   ]
  },
  {
   "cell_type": "code",
   "execution_count": 9,
   "metadata": {
    "collapsed": false,
    "deletable": true,
    "editable": true,
    "scrolled": true
   },
   "outputs": [
    {
     "data": {
      "text/plain": [
       "True"
      ]
     },
     "execution_count": 9,
     "metadata": {},
     "output_type": "execute_result"
    }
   ],
   "source": [
    "(sum(pretest) + sum(precontrol) + sum(postcontrol) + sum(posttest) == len(data))"
   ]
  },
  {
   "cell_type": "markdown",
   "metadata": {
    "deletable": true,
    "editable": true
   },
   "source": [
    "### Pre trigger\n",
    "T-test between test & control should fail to reject null hypothesis as neither received mails."
   ]
  },
  {
   "cell_type": "code",
   "execution_count": 10,
   "metadata": {
    "collapsed": false,
    "deletable": true,
    "editable": true
   },
   "outputs": [
    {
     "data": {
      "image/png": "[encoded data removed]",
      "text/plain": [
       "<matplotlib.figure.Figure at 0x10ab67b10>"
      ]
     },
     "metadata": {},
     "output_type": "display_data"
    }
   ],
   "source": [
    "x = np.linspace(0,1, num=1000)\n",
    "fig = plt.figure(figsize=(18, 10))\n",
    "ax1 = fig.add_subplot(221); ax2 = fig.add_subplot(222)\n",
    "ax1.hist(pretest, bins=50, alpha=0.75)\n",
    "ax2.hist(precontrol, bins=50, alpha=0.75)\n",
    "ax1.set_title('Number of series watched - pre trigger, test group')\n",
    "ax2.set_title('Number of series watched - pre trigger, control group')\n",
    "plt.show()"
   ]
  },
  {
   "cell_type": "code",
   "execution_count": 11,
   "metadata": {
    "collapsed": true,
    "deletable": true,
    "editable": true
   },
   "outputs": [],
   "source": [
    "tMu, cMu = pretest.mean(), precontrol.mean()\n",
    "tSd, cSd = np.std(pretest), np.std(precontrol)\n",
    "tN, cN = len(pretest), len(precontrol)"
   ]
  },
  {
   "cell_type": "code",
   "execution_count": 12,
   "metadata": {
    "collapsed": false,
    "deletable": true,
    "editable": true
   },
   "outputs": [
    {
     "name": "stdout",
     "output_type": "stream",
     "text": [
      "-0.395978993285 1.97308407733 False\n"
     ]
    }
   ],
   "source": [
    "M = tMu - cMu\n",
    "S = np.sqrt(((tN - 1) * np.power(tSd, 2) + (cN - 1) * np.power(cSd, 2)) / (tN + cN - 2) * (1/float(tN) + 1/float(cN)))\n",
    "T = M / S\n",
    "Tcritical = t.ppf(.975, tN + cN - 2)\n",
    "print T, Tcritical, T > Tcritical"
   ]
  },
  {
   "cell_type": "markdown",
   "metadata": {
    "deletable": true,
    "editable": true
   },
   "source": [
    "Fail to reject H0."
   ]
  },
  {
   "cell_type": "markdown",
   "metadata": {
    "deletable": true,
    "editable": true
   },
   "source": [
    "### Post trigger\n",
    "T-test between test & control might reject null hypothesis as test group received mails."
   ]
  },
  {
   "cell_type": "code",
   "execution_count": 13,
   "metadata": {
    "collapsed": false,
    "deletable": true,
    "editable": true
   },
   "outputs": [
    {
     "data": {
      "image/png": "[encoded data removed]",
      "text/plain": [
       "<matplotlib.figure.Figure at 0x10aa20350>"
      ]
     },
     "metadata": {},
     "output_type": "display_data"
    }
   ],
   "source": [
    "x = np.linspace(0,1, num=1000)\n",
    "fig = plt.figure(figsize=(18, 10))\n",
    "ax1 = fig.add_subplot(221); ax2 = fig.add_subplot(222)\n",
    "ax1.hist(posttest, bins=50, alpha=0.75)\n",
    "ax2.hist(postcontrol, bins=50, alpha=0.75)\n",
    "ax1.set_title('Number of series watched - post trigger, test group')\n",
    "ax2.set_title('Number of series watched - post trigger, control group')\n",
    "plt.show()"
   ]
  },
  {
   "cell_type": "code",
   "execution_count": 14,
   "metadata": {
    "collapsed": true,
    "deletable": true,
    "editable": true
   },
   "outputs": [],
   "source": [
    "tMu, cMu = posttest.mean(), postcontrol.mean()\n",
    "tSd, cSd = np.std(posttest), np.std(postcontrol)\n",
    "tN, cN = len(posttest), len(postcontrol)"
   ]
  },
  {
   "cell_type": "code",
   "execution_count": 15,
   "metadata": {
    "collapsed": false,
    "deletable": true,
    "editable": true
   },
   "outputs": [
    {
     "name": "stdout",
     "output_type": "stream",
     "text": [
      "0.747248000638 1.97308407733 False\n"
     ]
    }
   ],
   "source": [
    "M = tMu - cMu\n",
    "S = np.sqrt(((tN - 1) * np.power(tSd, 2) + (cN - 1) * np.power(cSd, 2)) / (tN + cN - 2) * (1/float(tN) + 1/float(cN)))\n",
    "T = M / S\n",
    "Tcritical = t.ppf(.975, tN + cN - 2)\n",
    "print T, Tcritical, T > Tcritical"
   ]
  },
  {
   "cell_type": "markdown",
   "metadata": {
    "deletable": true,
    "editable": true
   },
   "source": [
    "Fail to reject H0."
   ]
  },
  {
   "cell_type": "markdown",
   "metadata": {
    "deletable": true,
    "editable": true
   },
   "source": [
    "### Conclusion"
   ]
  },
  {
   "cell_type": "markdown",
   "metadata": {
    "deletable": true,
    "editable": true
   },
   "source": [
    "Pretest vs Precontrol, not significantly different."
   ]
  },
  {
   "cell_type": "code",
   "execution_count": 16,
   "metadata": {
    "collapsed": false,
    "deletable": true,
    "editable": true
   },
   "outputs": [
    {
     "name": "stdout",
     "output_type": "stream",
     "text": [
      "Ttest_indResult(statistic=-0.39395455950569325, pvalue=0.6940757679265992)\n",
      "Critical T value: 1.97308407733\n"
     ]
    }
   ],
   "source": [
    "print ttest_ind(pretest, precontrol)\n",
    "print 'Critical T value:', t.ppf(.975, len(pretest) + len(precontrol) - 2)"
   ]
  },
  {
   "cell_type": "markdown",
   "metadata": {
    "deletable": true,
    "editable": true
   },
   "source": [
    "Posttest vs Postcontrol, not significantly different"
   ]
  },
  {
   "cell_type": "code",
   "execution_count": 17,
   "metadata": {
    "collapsed": false,
    "deletable": true,
    "editable": true
   },
   "outputs": [
    {
     "name": "stdout",
     "output_type": "stream",
     "text": [
      "Ttest_indResult(statistic=0.74460205479347241, pvalue=0.45747268901458349)\n",
      "Critical T value: 1.97308407733\n"
     ]
    }
   ],
   "source": [
    "print ttest_ind(posttest, postcontrol)\n",
    "print 'Critical T value:', t.ppf(.975, len(posttest) + len(postcontrol) - 2)"
   ]
  },
  {
   "cell_type": "markdown",
   "metadata": {
    "deletable": true,
    "editable": true
   },
   "source": [
    "Pretest vs Posttest, significantly different"
   ]
  },
  {
   "cell_type": "code",
   "execution_count": 18,
   "metadata": {
    "collapsed": false,
    "deletable": true,
    "editable": true
   },
   "outputs": [
    {
     "name": "stdout",
     "output_type": "stream",
     "text": [
      "Ttest_indResult(statistic=13.76508671097468, pvalue=6.9488040203483256e-34)\n",
      "Critical T value: 1.96774673759\n"
     ]
    }
   ],
   "source": [
    "print ttest_ind(pretest, posttest)\n",
    "print 'Critical T value:', t.ppf(.975, len(pretest) + len(posttest) - 2)"
   ]
  },
  {
   "cell_type": "markdown",
   "metadata": {
    "deletable": true,
    "editable": true
   },
   "source": [
    "Precontrol vs Postcontrol, significantly different"
   ]
  },
  {
   "cell_type": "code",
   "execution_count": 19,
   "metadata": {
    "collapsed": false,
    "deletable": true,
    "editable": true
   },
   "outputs": [
    {
     "name": "stdout",
     "output_type": "stream",
     "text": [
      "Ttest_indResult(statistic=7.6410857507496983, pvalue=2.4518587774207616e-10)\n",
      "Critical T value: 2.00171748301\n"
     ]
    }
   ],
   "source": [
    "print ttest_ind(precontrol, postcontrol)\n",
    "print 'Critical T value:', t.ppf(.975, len(precontrol) + len(postcontrol) - 2)"
   ]
  },
  {
   "cell_type": "code",
   "execution_count": null,
   "metadata": {
    "collapsed": true,
    "deletable": true,
    "editable": true
   },
   "outputs": [],
   "source": []
  }
 ],
 "metadata": {
  "kernelspec": {
   "display_name": "Python 2",
   "language": "python",
   "name": "python2"
  },
  "language_info": {
   "codemirror_mode": {
    "name": "ipython",
    "version": 2
   },
   "file_extension": ".py",
   "mimetype": "text/x-python",
   "name": "python",
   "nbconvert_exporter": "python",
   "pygments_lexer": "ipython2",
   "version": "2.7.13"
  }
 },
 "nbformat": 4,
 "nbformat_minor": 2
}
